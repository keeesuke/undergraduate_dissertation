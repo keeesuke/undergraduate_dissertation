{
 "cells": [
  {
   "cell_type": "markdown",
   "metadata": {},
   "source": [
    "### データとしては4つ用意。\n",
    "・all_data : strain, orien, aspect, size, boundary, structure, subtractionの6つ全てを離散化なし<br>\n",
    "・all_data_qcut : すべてのcolumnsを含んで全て離散化<br>\n",
    "・df : 4つのcolumnsを離散化なしで<br>\n",
    "・df_qcut : 4つのcolumnsを離散化<br>"
   ]
  },
  {
   "cell_type": "code",
   "execution_count": 1,
   "metadata": {
    "scrolled": true
   },
   "outputs": [
    {
     "name": "stdout",
     "output_type": "stream",
     "text": [
      "Once deleted, variables cannot be recovered. Proceed (y/[n])? y\n"
     ]
    }
   ],
   "source": [
    "%reset"
   ]
  },
  {
   "cell_type": "code",
   "execution_count": 59,
   "metadata": {},
   "outputs": [],
   "source": [
    "import warnings\n",
    "warnings.filterwarnings('ignore')\n",
    "import pandas as pd\n",
    "import numpy as np\n",
    "import matplotlib.pyplot as plt\n",
    "import scipy.stats"
   ]
  },
  {
   "cell_type": "code",
   "execution_count": 60,
   "metadata": {
    "scrolled": true
   },
   "outputs": [],
   "source": [
    "all_data = pd.read_csv('./csv_files/all_data.csv')\n",
    "all_data = all_data[~all_data[['strain', 'orien']].isnull().any(axis=1)].reset_index(drop=True)"
   ]
  },
  {
   "cell_type": "code",
   "execution_count": 61,
   "metadata": {
    "scrolled": true
   },
   "outputs": [
    {
     "name": "stdout",
     "output_type": "stream",
     "text": [
      "(168, 8)\n"
     ]
    },
    {
     "data": {
      "text/html": [
       "<div>\n",
       "<style scoped>\n",
       "    .dataframe tbody tr th:only-of-type {\n",
       "        vertical-align: middle;\n",
       "    }\n",
       "\n",
       "    .dataframe tbody tr th {\n",
       "        vertical-align: top;\n",
       "    }\n",
       "\n",
       "    .dataframe thead th {\n",
       "        text-align: right;\n",
       "    }\n",
       "</style>\n",
       "<table border=\"1\" class=\"dataframe\">\n",
       "  <thead>\n",
       "    <tr style=\"text-align: right;\">\n",
       "      <th></th>\n",
       "      <th>id</th>\n",
       "      <th>boundary</th>\n",
       "      <th>structure</th>\n",
       "      <th>strain</th>\n",
       "      <th>orien</th>\n",
       "      <th>aspect</th>\n",
       "      <th>size</th>\n",
       "      <th>subtraction</th>\n",
       "    </tr>\n",
       "  </thead>\n",
       "  <tbody>\n",
       "    <tr>\n",
       "      <th>0</th>\n",
       "      <td>2</td>\n",
       "      <td>0</td>\n",
       "      <td>2</td>\n",
       "      <td>1.0</td>\n",
       "      <td>4.0</td>\n",
       "      <td>0.589215</td>\n",
       "      <td>203.32</td>\n",
       "      <td>117.53</td>\n",
       "    </tr>\n",
       "    <tr>\n",
       "      <th>1</th>\n",
       "      <td>3</td>\n",
       "      <td>0</td>\n",
       "      <td>0</td>\n",
       "      <td>2.0</td>\n",
       "      <td>4.0</td>\n",
       "      <td>0.290944</td>\n",
       "      <td>15.91</td>\n",
       "      <td>13.29</td>\n",
       "    </tr>\n",
       "    <tr>\n",
       "      <th>2</th>\n",
       "      <td>4</td>\n",
       "      <td>0</td>\n",
       "      <td>0</td>\n",
       "      <td>3.0</td>\n",
       "      <td>1.0</td>\n",
       "      <td>0.256198</td>\n",
       "      <td>257.93</td>\n",
       "      <td>202.06</td>\n",
       "    </tr>\n",
       "    <tr>\n",
       "      <th>3</th>\n",
       "      <td>5</td>\n",
       "      <td>0</td>\n",
       "      <td>0</td>\n",
       "      <td>2.0</td>\n",
       "      <td>4.0</td>\n",
       "      <td>0.120000</td>\n",
       "      <td>84.60</td>\n",
       "      <td>52.88</td>\n",
       "    </tr>\n",
       "    <tr>\n",
       "      <th>4</th>\n",
       "      <td>6</td>\n",
       "      <td>0</td>\n",
       "      <td>0</td>\n",
       "      <td>2.0</td>\n",
       "      <td>2.0</td>\n",
       "      <td>0.340909</td>\n",
       "      <td>21.04</td>\n",
       "      <td>18.55</td>\n",
       "    </tr>\n",
       "  </tbody>\n",
       "</table>\n",
       "</div>"
      ],
      "text/plain": [
       "   id  boundary  structure  strain  orien    aspect    size  subtraction\n",
       "0   2         0          2     1.0    4.0  0.589215  203.32       117.53\n",
       "1   3         0          0     2.0    4.0  0.290944   15.91        13.29\n",
       "2   4         0          0     3.0    1.0  0.256198  257.93       202.06\n",
       "3   5         0          0     2.0    4.0  0.120000   84.60        52.88\n",
       "4   6         0          0     2.0    2.0  0.340909   21.04        18.55"
      ]
     },
     "execution_count": 61,
     "metadata": {},
     "output_type": "execute_result"
    }
   ],
   "source": [
    "print(all_data.shape)\n",
    "all_data.head()"
   ]
  },
  {
   "cell_type": "code",
   "execution_count": 62,
   "metadata": {},
   "outputs": [],
   "source": [
    "all_data['sub'] = all_data['size'] - all_data['subtraction']"
   ]
  },
  {
   "cell_type": "markdown",
   "metadata": {},
   "source": [
    "*6つの特徴量　離散化なし*"
   ]
  },
  {
   "cell_type": "code",
   "execution_count": 381,
   "metadata": {},
   "outputs": [],
   "source": [
    "y_train = all_data.subtraction.values\n",
    "train = all_data.drop(['id', 'subtraction'], axis=1).values\n",
    "train = scipy.stats.zscore(train)"
   ]
  },
  {
   "cell_type": "markdown",
   "metadata": {},
   "source": [
    "*6つの特徴量　離散化あり*"
   ]
  },
  {
   "cell_type": "code",
   "execution_count": 254,
   "metadata": {},
   "outputs": [],
   "source": [
    "all_data.size = pd.qcut(all_data['size'], 5, labels=False)\n",
    "all_data.aspect = pd.qcut(all_data['aspect'], 5, labels=False)\n",
    "all_data[['strain', 'orien']] = all_data[['strain', 'orien']].astype('int64')\n",
    "y_train = all_data.subtraction.values\n",
    "train = all_data.drop(['id', 'subtraction'], axis=1).values\n",
    "train = scipy.stats.zscore(train)"
   ]
  },
  {
   "cell_type": "markdown",
   "metadata": {},
   "source": [
    "*4つの特徴量　離散化なし*"
   ]
  },
  {
   "cell_type": "code",
   "execution_count": 5,
   "metadata": {},
   "outputs": [],
   "source": [
    "all_data = all_data.iloc[:, 3:]\n",
    "y_train = all_data.subtraction.values\n",
    "train = all_data.drop(['subtraction'], axis=1).values\n",
    "train = scipy.stats.zscore(train)"
   ]
  },
  {
   "cell_type": "markdown",
   "metadata": {},
   "source": [
    "*4つの特徴量　ターゲットを12%変形後の面積に　離散化なし*"
   ]
  },
  {
   "cell_type": "code",
   "execution_count": 44,
   "metadata": {
    "scrolled": true
   },
   "outputs": [],
   "source": [
    "y_train = all_data['sub'].values\n",
    "train = all_data.drop(['id', 'boundary', 'structure', 'subtraction', 'sub'], axis=1).values\n",
    "train = scipy.stats.zscore(train)"
   ]
  },
  {
   "cell_type": "markdown",
   "metadata": {},
   "source": [
    "*4つの特徴量　離散化あり*"
   ]
  },
  {
   "cell_type": "code",
   "execution_count": 297,
   "metadata": {},
   "outputs": [],
   "source": [
    "all_data.size = pd.qcut(all_data['size'], 5, labels=False)\n",
    "all_data.aspect = pd.qcut(all_data['aspect'], 5, labels=False)\n",
    "all_data[['strain', 'orien']] = all_data[['strain', 'orien']].astype('int64')\n",
    "all_data = all_data.iloc[:, 3:]\n",
    "y_train = all_data.subtraction.values\n",
    "train = all_data.drop(['subtraction'], axis=1).values\n",
    "train = scipy.stats.zscore(train)"
   ]
  },
  {
   "cell_type": "markdown",
   "metadata": {},
   "source": [
    "*4つの特徴量　体積減少率　離散化なし*"
   ]
  },
  {
   "cell_type": "code",
   "execution_count": 361,
   "metadata": {},
   "outputs": [],
   "source": [
    "temp = pd.read_csv('./csv_files/input_DecreaseRate.csv')\n",
    "temp = temp.rename(columns={'Strain':'strain', 'Orien':'orien',\n",
    "                            'Aspect':'aspect', 'Size':'size', 'Decrease':'subtraction'})\n",
    "all_data = temp.copy()\n",
    "y_train = all_data.subtraction.values\n",
    "train = all_data.drop(['subtraction'], axis=1).values\n",
    "train = scipy.stats.zscore(train)"
   ]
  },
  {
   "cell_type": "markdown",
   "metadata": {},
   "source": [
    "*size < 8.41の（68インスタンス）で6つの特徴量　離散化なし*"
   ]
  },
  {
   "cell_type": "code",
   "execution_count": 421,
   "metadata": {},
   "outputs": [],
   "source": [
    "all_data = all_data[all_data['size'] < 8.411]\n",
    "y_train = all_data.subtraction.values\n",
    "train = all_data.drop(['id', 'subtraction'], axis=1).values\n",
    "train = scipy.stats.zscore(train)"
   ]
  },
  {
   "cell_type": "code",
   "execution_count": null,
   "metadata": {},
   "outputs": [],
   "source": []
  },
  {
   "cell_type": "code",
   "execution_count": 46,
   "metadata": {},
   "outputs": [],
   "source": [
    "from sklearn.model_selection import train_test_split\n",
    "\n",
    "xtrain, xtest, ytrain, ytest = train_test_split(\n",
    "    train, y_train, test_size=0.1, random_state=42\n",
    ")"
   ]
  },
  {
   "cell_type": "markdown",
   "metadata": {},
   "source": [
    "## cross-validation開始"
   ]
  },
  {
   "cell_type": "code",
   "execution_count": 47,
   "metadata": {},
   "outputs": [],
   "source": [
    "from sklearn.model_selection import StratifiedKFold, cross_val_score\n",
    "n_folds = 10\n",
    "\n",
    "def rmsle_cv(model):\n",
    "    kf = StratifiedKFold(n_folds, shuffle=True, random_state=42).get_n_splits(xtrain)\n",
    "    rmse= np.sqrt(-cross_val_score(model, xtrain, ytrain, scoring=\"neg_mean_squared_error\", cv = kf))\n",
    "    return(rmse)"
   ]
  },
  {
   "cell_type": "markdown",
   "metadata": {},
   "source": [
    "## 様々な予測器を試す。"
   ]
  },
  {
   "cell_type": "code",
   "execution_count": 48,
   "metadata": {},
   "outputs": [],
   "source": [
    "from sklearn.kernel_ridge import KernelRidge\n",
    "KRR = KernelRidge(alpha=0.6, kernel='polynomial', degree=2, coef0=2.5)"
   ]
  },
  {
   "cell_type": "code",
   "execution_count": 49,
   "metadata": {},
   "outputs": [],
   "source": [
    "import xgboost as xgb\n",
    "model_xgb = xgb.XGBRegressor(colsample_bytree=0.4603, gamma=0.0468, \n",
    "                             learning_rate=0.05, max_depth=3, \n",
    "                             min_child_weight=1.7817, n_estimators=2200,\n",
    "                             reg_alpha=0.4640, reg_lambda=0.8571,\n",
    "                             subsample=0.5213, silent=1,\n",
    "                             random_state =7, nthread = -1)"
   ]
  },
  {
   "cell_type": "code",
   "execution_count": 50,
   "metadata": {},
   "outputs": [],
   "source": [
    "import lightgbm as lgb\n",
    "model_lgb = lgb.LGBMRegressor(objective='regression',num_leaves=5,\n",
    "                              learning_rate=0.05, n_estimators=720,\n",
    "                              max_bin = 55, bagging_fraction = 0.8,\n",
    "                              bagging_freq = 5, feature_fraction = 0.2319,\n",
    "                              feature_fraction_seed=9, bagging_seed=9,\n",
    "                              min_data_in_leaf =6, min_sum_hessian_in_leaf = 11)"
   ]
  },
  {
   "cell_type": "code",
   "execution_count": 51,
   "metadata": {},
   "outputs": [],
   "source": [
    "from sklearn.ensemble import RandomForestRegressor\n",
    "forest_reg = RandomForestRegressor(random_state=42)"
   ]
  },
  {
   "cell_type": "code",
   "execution_count": 52,
   "metadata": {},
   "outputs": [],
   "source": [
    "from sklearn.linear_model import LinearRegression\n",
    "lin_reg = LinearRegression()"
   ]
  },
  {
   "cell_type": "markdown",
   "metadata": {},
   "source": [
    "## それぞれの予測器のrmseをみる"
   ]
  },
  {
   "cell_type": "code",
   "execution_count": 389,
   "metadata": {},
   "outputs": [
    {
     "name": "stdout",
     "output_type": "stream",
     "text": [
      "all_data : 6つの特徴量　離散化なし\n",
      "Kernel Ridge score: 7.4659 (3.5065)\n",
      "\n",
      "Xgboost score: 11.9080 (6.4645)\n",
      "\n",
      "LGBM score: 14.5790 (6.2251)\n",
      "\n",
      "\n",
      "lin_reg score: 7.7639 (2.6642)\n",
      "\n",
      "\n",
      "forest_reg score: 10.8793 (5.5807)\n",
      "\n"
     ]
    }
   ],
   "source": [
    "print('all_data : 6つの特徴量　離散化なし')\n",
    "score = rmsle_cv(KRR)\n",
    "print(\"Kernel Ridge score: {:.4f} ({:.4f})\\n\".format(score.mean(), score.std()))\n",
    "score = rmsle_cv(model_xgb)\n",
    "print(\"Xgboost score: {:.4f} ({:.4f})\\n\".format(score.mean(), score.std()))\n",
    "score = rmsle_cv(model_lgb)\n",
    "print(\"LGBM score: {:.4f} ({:.4f})\\n\".format(score.mean(), score.std()))\n",
    "score = rmsle_cv(lin_reg)\n",
    "print(\"\\nlin_reg score: {:.4f} ({:.4f})\\n\".format(score.mean(), score.std()))\n",
    "score = rmsle_cv(forest_reg)\n",
    "print(\"\\nforest_reg score: {:.4f} ({:.4f})\\n\".format(score.mean(), score.std()))"
   ]
  },
  {
   "cell_type": "code",
   "execution_count": 263,
   "metadata": {},
   "outputs": [
    {
     "name": "stdout",
     "output_type": "stream",
     "text": [
      "all_data_qcut : 6つの特徴量　離散化あり\n",
      "Kernel Ridge score: 21.8192 (10.3601)\n",
      "\n",
      "Xgboost score: 24.2520 (7.1271)\n",
      "\n",
      "LGBM score: 18.4949 (8.5521)\n",
      "\n",
      "\n",
      "lin_reg score: 20.7278 (10.7407)\n",
      "\n",
      "\n",
      "forest_reg score: 18.7822 (8.0277)\n",
      "\n"
     ]
    }
   ],
   "source": [
    "print('all_data : 6つの特徴量　離散化あり')\n",
    "score = rmsle_cv(KRR)\n",
    "print(\"Kernel Ridge score: {:.4f} ({:.4f})\".format(score.mean(), score.std()))\n",
    "score = rmsle_cv(model_xgb)\n",
    "print(\"Xgboost score: {:.4f} ({:.4f})\".format(score.mean(), score.std()))\n",
    "score = rmsle_cv(model_lgb)\n",
    "print(\"LGBM score: {:.4f} ({:.4f})\".format(score.mean(), score.std()))\n",
    "score = rmsle_cv(lin_reg)\n",
    "print(\"\\nlin_reg score: {:.4f} ({:.4f})\".format(score.mean(), score.std()))\n",
    "score = rmsle_cv(forest_reg)\n",
    "print(\"\\nforest_reg score: {:.4f} ({:.4f})\".format(score.mean(), score.std()))"
   ]
  },
  {
   "cell_type": "code",
   "execution_count": 324,
   "metadata": {},
   "outputs": [
    {
     "name": "stdout",
     "output_type": "stream",
     "text": [
      "all_data : 4つの特徴量　離散化なし\n",
      "Kernel Ridge score: 6.4862 (2.6036)\n",
      "Xgboost score: 12.5488 (6.5933)\n",
      "LGBM score: 14.5882 (6.1702)\n",
      "\n",
      "lin_reg score: 7.5214 (2.5696)\n",
      "\n",
      "forest_reg score: 10.4795 (5.6747)\n"
     ]
    }
   ],
   "source": [
    "print('all_data : 4つの特徴量　離散化なし')\n",
    "score = rmsle_cv(KRR)\n",
    "print(\"Kernel Ridge score: {:.4f} ({:.4f})\".format(score.mean(), score.std()))\n",
    "score = rmsle_cv(model_xgb)\n",
    "print(\"Xgboost score: {:.4f} ({:.4f})\".format(score.mean(), score.std()))\n",
    "score = rmsle_cv(model_lgb)\n",
    "print(\"LGBM score: {:.4f} ({:.4f})\".format(score.mean(), score.std()))\n",
    "score = rmsle_cv(lin_reg)\n",
    "print(\"\\nlin_reg score: {:.4f} ({:.4f})\".format(score.mean(), score.std()))\n",
    "score = rmsle_cv(forest_reg)\n",
    "print(\"\\nforest_reg score: {:.4f} ({:.4f})\".format(score.mean(), score.std()))"
   ]
  },
  {
   "cell_type": "code",
   "execution_count": 53,
   "metadata": {},
   "outputs": [
    {
     "name": "stdout",
     "output_type": "stream",
     "text": [
      "all_data : 4つの特徴量　離散化なし\n",
      "Kernel Ridge score: 6.4297 (2.5345)\n",
      "Xgboost score: 10.8906 (4.3852)\n",
      "LGBM score: 9.3685 (3.8509)\n",
      "\n",
      "lin_reg score: 7.5214 (2.5696)\n",
      "\n",
      "forest_reg score: 8.6535 (4.3183)\n"
     ]
    }
   ],
   "source": [
    "print('all_data : 4つの特徴量　12%サイズをターゲットに　離散化なし')\n",
    "score = rmsle_cv(KRR)\n",
    "print(\"Kernel Ridge score: {:.4f} ({:.4f})\".format(score.mean(), score.std()))\n",
    "score = rmsle_cv(model_xgb)\n",
    "print(\"Xgboost score: {:.4f} ({:.4f})\".format(score.mean(), score.std()))\n",
    "score = rmsle_cv(model_lgb)\n",
    "print(\"LGBM score: {:.4f} ({:.4f})\".format(score.mean(), score.std()))\n",
    "score = rmsle_cv(lin_reg)\n",
    "print(\"\\nlin_reg score: {:.4f} ({:.4f})\".format(score.mean(), score.std()))\n",
    "score = rmsle_cv(forest_reg)\n",
    "print(\"\\nforest_reg score: {:.4f} ({:.4f})\".format(score.mean(), score.std()))"
   ]
  },
  {
   "cell_type": "code",
   "execution_count": 306,
   "metadata": {},
   "outputs": [
    {
     "name": "stdout",
     "output_type": "stream",
     "text": [
      "all_data : 4つの特徴量　離散化あり\n",
      "Kernel Ridge score: 18.0110 (9.1003)\n",
      "\n",
      "Xgboost score: 17.6561 (8.8187)\n",
      "\n",
      "LGBM score: 17.7170 (8.6502)\n",
      "\n",
      "\n",
      "lin_reg score: 20.1769 (10.1799)\n",
      "\n",
      "\n",
      "forest_reg score: 18.3700 (8.2380)\n",
      "\n"
     ]
    }
   ],
   "source": [
    "print('all_data : 4つの特徴量　離散化あり')\n",
    "score = rmsle_cv(KRR)\n",
    "print(\"Kernel Ridge score: {:.4f} ({:.4f})\".format(score.mean(), score.std()))\n",
    "score = rmsle_cv(model_xgb)\n",
    "print(\"Xgboost score: {:.4f} ({:.4f})\".format(score.mean(), score.std()))\n",
    "score = rmsle_cv(model_lgb)\n",
    "print(\"LGBM score: {:.4f} ({:.4f})\".format(score.mean(), score.std()))\n",
    "score = rmsle_cv(lin_reg)\n",
    "print(\"\\nlin_reg score: {:.4f} ({:.4f})\".format(score.mean(), score.std()))\n",
    "score = rmsle_cv(forest_reg)\n",
    "print(\"\\nforest_reg score: {:.4f} ({:.4f})\".format(score.mean(), score.std()))"
   ]
  },
  {
   "cell_type": "code",
   "execution_count": 369,
   "metadata": {},
   "outputs": [
    {
     "name": "stdout",
     "output_type": "stream",
     "text": [
      "all_data : 4つの特徴量　体積減少率　離散化なし\n",
      "Kernel Ridge score: 13.5557 (2.5681)\n",
      "\n",
      "Xgboost score: 17.0989 (2.0803)\n",
      "\n",
      "LGBM score: 14.1470 (2.1700)\n",
      "\n",
      "\n",
      "lin_reg score: 13.4536 (2.4215)\n",
      "\n",
      "\n",
      "forest_reg score: 14.4945 (2.3936)\n",
      "\n"
     ]
    }
   ],
   "source": [
    "print('all_data : 4つの特徴量　体積減少率　離散化なし')\n",
    "score = rmsle_cv(KRR)\n",
    "print(\"Kernel Ridge score: {:.4f} ({:.4f})\\n\".format(score.mean(), score.std()))\n",
    "score = rmsle_cv(model_xgb)\n",
    "print(\"Xgboost score: {:.4f} ({:.4f})\\n\".format(score.mean(), score.std()))\n",
    "score = rmsle_cv(model_lgb)\n",
    "print(\"LGBM score: {:.4f} ({:.4f})\\n\".format(score.mean(), score.std()))\n",
    "score = rmsle_cv(lin_reg)\n",
    "print(\"\\nlin_reg score: {:.4f} ({:.4f})\\n\".format(score.mean(), score.std()))\n",
    "score = rmsle_cv(forest_reg)\n",
    "print(\"\\nforest_reg score: {:.4f} ({:.4f})\\n\".format(score.mean(), score.std()))"
   ]
  },
  {
   "cell_type": "code",
   "execution_count": 429,
   "metadata": {},
   "outputs": [
    {
     "name": "stdout",
     "output_type": "stream",
     "text": [
      "all_data : 6つの特徴量　size < 8.41　離散化なし\n",
      "Kernel Ridge score: 1.1340 (0.3206)\n",
      "\n",
      "Xgboost score: 1.0479 (0.3787)\n",
      "\n",
      "LGBM score: 1.2026 (0.3548)\n",
      "\n",
      "\n",
      "lin_reg score: 1.0365 (0.3083)\n",
      "\n",
      "\n",
      "forest_reg score: 0.9399 (0.3471)\n",
      "\n"
     ]
    }
   ],
   "source": [
    "print('all_data : 6つの特徴量　size < 8.41　離散化なし')\n",
    "score = rmsle_cv(KRR)\n",
    "print(\"Kernel Ridge score: {:.4f} ({:.4f})\\n\".format(score.mean(), score.std()))\n",
    "score = rmsle_cv(model_xgb)\n",
    "print(\"Xgboost score: {:.4f} ({:.4f})\\n\".format(score.mean(), score.std()))\n",
    "score = rmsle_cv(model_lgb)\n",
    "print(\"LGBM score: {:.4f} ({:.4f})\\n\".format(score.mean(), score.std()))\n",
    "score = rmsle_cv(lin_reg)\n",
    "print(\"\\nlin_reg score: {:.4f} ({:.4f})\\n\".format(score.mean(), score.std()))\n",
    "score = rmsle_cv(forest_reg)\n",
    "print(\"\\nforest_reg score: {:.4f} ({:.4f})\\n\".format(score.mean(), score.std()))"
   ]
  },
  {
   "cell_type": "markdown",
   "metadata": {},
   "source": [
    "## correlation coefficientの計算と、random forestのGridSearch開始"
   ]
  },
  {
   "cell_type": "code",
   "execution_count": 54,
   "metadata": {},
   "outputs": [],
   "source": [
    "def cc(y, y_pre):\n",
    "    correlation = pd.DataFrame({'y':y, 'y_pre':y_pre})\n",
    "    return print('correlation coefficient is: {0:0.3f}'.format(correlation.corr().iloc[0,1]))"
   ]
  },
  {
   "cell_type": "code",
   "execution_count": 55,
   "metadata": {},
   "outputs": [
    {
     "name": "stdout",
     "output_type": "stream",
     "text": [
      "correlation coefficient is: 0.549\n"
     ]
    }
   ],
   "source": [
    "KRR = KernelRidge(alpha=0.6, kernel='polynomial', degree=2, coef0=2.5)\n",
    "KRR.fit(xtrain, ytrain)\n",
    "cc(KRR.predict(xtest), ytest)"
   ]
  },
  {
   "cell_type": "code",
   "execution_count": 56,
   "metadata": {},
   "outputs": [
    {
     "name": "stdout",
     "output_type": "stream",
     "text": [
      "correlation coefficient is: 0.799\n"
     ]
    }
   ],
   "source": [
    "forest_reg = RandomForestRegressor(random_state=1)\n",
    "forest_reg.fit(xtrain, ytrain)\n",
    "cc(forest_reg.predict(xtest), ytest)"
   ]
  },
  {
   "cell_type": "code",
   "execution_count": 57,
   "metadata": {},
   "outputs": [
    {
     "data": {
      "text/plain": [
       "array([[0.06217563, 0.03567118, 0.08735195, 0.81480124]])"
      ]
     },
     "execution_count": 57,
     "metadata": {},
     "output_type": "execute_result"
    }
   ],
   "source": [
    "fi = forest_reg.feature_importances_.reshape(1,-1)\n",
    "fi"
   ]
  },
  {
   "cell_type": "code",
   "execution_count": 58,
   "metadata": {},
   "outputs": [
    {
     "name": "stdout",
     "output_type": "stream",
     "text": [
      "mean correlation:  0.7090781631430926\n"
     ]
    },
    {
     "data": {
      "image/png": "[encoded data removed]",
      "text/plain": [
       "<Figure size 432x288 with 1 Axes>"
      ]
     },
     "metadata": {
      "needs_background": "light"
     },
     "output_type": "display_data"
    }
   ],
   "source": [
    "import matplotlib.pyplot as plt\n",
    "\n",
    "nrange = range(0,500)\n",
    "grid_score = []\n",
    "feature_importances = np.ones((0,xtrain[0, :].shape[0]))\n",
    "\n",
    "for i in nrange:\n",
    "    forest_reg = RandomForestRegressor(random_state=i)\n",
    "    forest_reg.fit(xtrain, ytrain)\n",
    "    correlation = pd.DataFrame({'y':ytest, 'y_pre':forest_reg.predict(xtest)})\n",
    "    grid_score.append(correlation.corr().iloc[0,1])\n",
    "    fi = forest_reg.feature_importances_.reshape(1,-1)\n",
    "    feature_importances = np.r_[feature_importances, fi]\n",
    "print('mean correlation: ', np.mean(grid_score))\n",
    "plt.plot(nrange, grid_score)\n",
    "plt.show()"
   ]
  },
  {
   "cell_type": "code",
   "execution_count": 435,
   "metadata": {},
   "outputs": [
    {
     "name": "stdout",
     "output_type": "stream",
     "text": [
      "when size < 8.41 and 6 features with no recretization\n"
     ]
    },
    {
     "data": {
      "text/html": [
       "<div>\n",
       "<style scoped>\n",
       "    .dataframe tbody tr th:only-of-type {\n",
       "        vertical-align: middle;\n",
       "    }\n",
       "\n",
       "    .dataframe tbody tr th {\n",
       "        vertical-align: top;\n",
       "    }\n",
       "\n",
       "    .dataframe thead th {\n",
       "        text-align: right;\n",
       "    }\n",
       "</style>\n",
       "<table border=\"1\" class=\"dataframe\">\n",
       "  <thead>\n",
       "    <tr style=\"text-align: right;\">\n",
       "      <th></th>\n",
       "      <th>feature_importances_</th>\n",
       "    </tr>\n",
       "  </thead>\n",
       "  <tbody>\n",
       "    <tr>\n",
       "      <th>boundary</th>\n",
       "      <td>0.008368</td>\n",
       "    </tr>\n",
       "    <tr>\n",
       "      <th>structure</th>\n",
       "      <td>0.036591</td>\n",
       "    </tr>\n",
       "    <tr>\n",
       "      <th>strain</th>\n",
       "      <td>0.045129</td>\n",
       "    </tr>\n",
       "    <tr>\n",
       "      <th>orien</th>\n",
       "      <td>0.032072</td>\n",
       "    </tr>\n",
       "    <tr>\n",
       "      <th>aspect</th>\n",
       "      <td>0.089174</td>\n",
       "    </tr>\n",
       "    <tr>\n",
       "      <th>size</th>\n",
       "      <td>0.788665</td>\n",
       "    </tr>\n",
       "  </tbody>\n",
       "</table>\n",
       "</div>"
      ],
      "text/plain": [
       "           feature_importances_\n",
       "boundary               0.008368\n",
       "structure              0.036591\n",
       "strain                 0.045129\n",
       "orien                  0.032072\n",
       "aspect                 0.089174\n",
       "size                   0.788665"
      ]
     },
     "execution_count": 435,
     "metadata": {},
     "output_type": "execute_result"
    }
   ],
   "source": [
    "print('when size < 8.41 and 6 features with no recretization')\n",
    "pd.DataFrame(feature_importances.mean(axis=0), index=list(all_data.columns[1:7]), columns=['feature_importances_'])"
   ]
  },
  {
   "cell_type": "code",
   "execution_count": 399,
   "metadata": {
    "scrolled": true
   },
   "outputs": [
    {
     "name": "stdout",
     "output_type": "stream",
     "text": [
      "when 6 features with no recretization\n"
     ]
    },
    {
     "data": {
      "text/html": [
       "<div>\n",
       "<style scoped>\n",
       "    .dataframe tbody tr th:only-of-type {\n",
       "        vertical-align: middle;\n",
       "    }\n",
       "\n",
       "    .dataframe tbody tr th {\n",
       "        vertical-align: top;\n",
       "    }\n",
       "\n",
       "    .dataframe thead th {\n",
       "        text-align: right;\n",
       "    }\n",
       "</style>\n",
       "<table border=\"1\" class=\"dataframe\">\n",
       "  <thead>\n",
       "    <tr style=\"text-align: right;\">\n",
       "      <th></th>\n",
       "      <th>feature_importances_</th>\n",
       "    </tr>\n",
       "  </thead>\n",
       "  <tbody>\n",
       "    <tr>\n",
       "      <th>boundary</th>\n",
       "      <td>0.007702</td>\n",
       "    </tr>\n",
       "    <tr>\n",
       "      <th>structure</th>\n",
       "      <td>0.006475</td>\n",
       "    </tr>\n",
       "    <tr>\n",
       "      <th>strain</th>\n",
       "      <td>0.011902</td>\n",
       "    </tr>\n",
       "    <tr>\n",
       "      <th>orien</th>\n",
       "      <td>0.009008</td>\n",
       "    </tr>\n",
       "    <tr>\n",
       "      <th>aspect</th>\n",
       "      <td>0.016138</td>\n",
       "    </tr>\n",
       "    <tr>\n",
       "      <th>size</th>\n",
       "      <td>0.948775</td>\n",
       "    </tr>\n",
       "  </tbody>\n",
       "</table>\n",
       "</div>"
      ],
      "text/plain": [
       "           feature_importances_\n",
       "boundary               0.007702\n",
       "structure              0.006475\n",
       "strain                 0.011902\n",
       "orien                  0.009008\n",
       "aspect                 0.016138\n",
       "size                   0.948775"
      ]
     },
     "execution_count": 399,
     "metadata": {},
     "output_type": "execute_result"
    }
   ],
   "source": [
    "print('when 6 features with no recretization')\n",
    "pd.DataFrame(feature_importances.mean(axis=0), index=list(all_data.columns[1:7]), columns=['feature_importances_'])"
   ]
  },
  {
   "cell_type": "code",
   "execution_count": 18,
   "metadata": {
    "scrolled": true
   },
   "outputs": [
    {
     "name": "stdout",
     "output_type": "stream",
     "text": [
      "when 4 features without recretization\n"
     ]
    },
    {
     "data": {
      "text/html": [
       "<div>\n",
       "<style scoped>\n",
       "    .dataframe tbody tr th:only-of-type {\n",
       "        vertical-align: middle;\n",
       "    }\n",
       "\n",
       "    .dataframe tbody tr th {\n",
       "        vertical-align: top;\n",
       "    }\n",
       "\n",
       "    .dataframe thead th {\n",
       "        text-align: right;\n",
       "    }\n",
       "</style>\n",
       "<table border=\"1\" class=\"dataframe\">\n",
       "  <thead>\n",
       "    <tr style=\"text-align: right;\">\n",
       "      <th></th>\n",
       "      <th>feature_importances_</th>\n",
       "    </tr>\n",
       "  </thead>\n",
       "  <tbody>\n",
       "    <tr>\n",
       "      <th>strain</th>\n",
       "      <td>0.012899</td>\n",
       "    </tr>\n",
       "    <tr>\n",
       "      <th>orien</th>\n",
       "      <td>0.010522</td>\n",
       "    </tr>\n",
       "    <tr>\n",
       "      <th>aspect</th>\n",
       "      <td>0.018304</td>\n",
       "    </tr>\n",
       "    <tr>\n",
       "      <th>size</th>\n",
       "      <td>0.958275</td>\n",
       "    </tr>\n",
       "  </tbody>\n",
       "</table>\n",
       "</div>"
      ],
      "text/plain": [
       "        feature_importances_\n",
       "strain              0.012899\n",
       "orien               0.010522\n",
       "aspect              0.018304\n",
       "size                0.958275"
      ]
     },
     "execution_count": 18,
     "metadata": {},
     "output_type": "execute_result"
    }
   ],
   "source": [
    "print('when 4 features without recretization')\n",
    "pd.DataFrame(feature_importances.mean(axis=0), index=list(all_data.columns[0:4]), columns=['feature_importances_'])"
   ]
  },
  {
   "cell_type": "code",
   "execution_count": 354,
   "metadata": {
    "scrolled": true
   },
   "outputs": [
    {
     "name": "stdout",
     "output_type": "stream",
     "text": [
      "all_data.csv                  representative.csv\r\n",
      "coef_subtraction.csv          subtraction_before_dummy.csv\r\n",
      "input_DecreaseRate.csv        subtraction_get_dummy.csv\r\n",
      "input_microSubtraction.csv    test.csv\r\n",
      "input_mixed.csv               test2.csv\r\n",
      "input_mixed_over60%.csv       test_for_pp.csv\r\n",
      "input_normalized&Sized.csv\r\n"
     ]
    }
   ],
   "source": [
    "ls csv_files/"
   ]
  }
 ],
 "metadata": {
  "kernelspec": {
   "display_name": "Python 3",
   "language": "python",
   "name": "python3"
  },
  "language_info": {
   "codemirror_mode": {
    "name": "ipython",
    "version": 3
   },
   "file_extension": ".py",
   "mimetype": "text/x-python",
   "name": "python",
   "nbconvert_exporter": "python",
   "pygments_lexer": "ipython3",
   "version": "3.6.1"
  },
  "toc": {
   "base_numbering": 1,
   "nav_menu": {},
   "number_sections": true,
   "sideBar": true,
   "skip_h1_title": false,
   "title_cell": "Table of Contents",
   "title_sidebar": "Contents",
   "toc_cell": false,
   "toc_position": {},
   "toc_section_display": true,
   "toc_window_display": false
  }
 },
 "nbformat": 4,
 "nbformat_minor": 2
}
