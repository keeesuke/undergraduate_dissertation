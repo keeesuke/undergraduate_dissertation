{
 "cells": [
  {
   "cell_type": "code",
   "execution_count": 157,
   "metadata": {
    "scrolled": false
   },
   "outputs": [
    {
     "name": "stdout",
     "output_type": "stream",
     "text": [
      "Once deleted, variables cannot be recovered. Proceed (y/[n])? y\n"
     ]
    }
   ],
   "source": [
    "%reset"
   ]
  },
  {
   "cell_type": "code",
   "execution_count": 158,
   "metadata": {},
   "outputs": [],
   "source": [
    "import warnings\n",
    "warnings.filterwarnings('ignore')"
   ]
  },
  {
   "cell_type": "raw",
   "metadata": {},
   "source": [
    "1 ひずみ0-2%\n",
    "2 ひずみ2-4%\n",
    "3 ひずみ4-6%\n",
    "4 ひずみ6-8%\n",
    "1 結晶方向 111\n",
    "2 結晶方向 001\n",
    "3 結晶方向 101\n",
    "4 結晶方向 112　　　　　　その他\n",
    "1 アスペクト比 0-0.28　　　細長い\n",
    "2 アスペクト比 0.28-0.38\n",
    "3 アスペクト比 0.38-0.51\n",
    "4 アスペクト比 0.51-0.66\n",
    "5 アスペクト比 0.66-1　　　丸い\n",
    "1 サイズ 0-4.1\n",
    "2 サイズ 4.1-8.5\n",
    "3 サイズ 8.5-18.4\n",
    "4 サイズ 18.4-40.4\n",
    "5 サイズ 40.4-"
   ]
  },
  {
   "cell_type": "code",
   "execution_count": 159,
   "metadata": {},
   "outputs": [],
   "source": [
    "import pandas as pd\n",
    "import numpy as np"
   ]
  },
  {
   "cell_type": "code",
   "execution_count": 160,
   "metadata": {
    "scrolled": true
   },
   "outputs": [],
   "source": [
    "all_data = pd.read_csv('subtraction_before_dummy.csv')"
   ]
  },
  {
   "cell_type": "code",
   "execution_count": 161,
   "metadata": {},
   "outputs": [
    {
     "data": {
      "text/html": [
       "<div>\n",
       "<style scoped>\n",
       "    .dataframe tbody tr th:only-of-type {\n",
       "        vertical-align: middle;\n",
       "    }\n",
       "\n",
       "    .dataframe tbody tr th {\n",
       "        vertical-align: top;\n",
       "    }\n",
       "\n",
       "    .dataframe thead th {\n",
       "        text-align: right;\n",
       "    }\n",
       "</style>\n",
       "<table border=\"1\" class=\"dataframe\">\n",
       "  <thead>\n",
       "    <tr style=\"text-align: right;\">\n",
       "      <th></th>\n",
       "      <th>Strain</th>\n",
       "      <th>Orien</th>\n",
       "      <th>Aspect</th>\n",
       "      <th>Size</th>\n",
       "      <th>Subtraction</th>\n",
       "    </tr>\n",
       "  </thead>\n",
       "  <tbody>\n",
       "    <tr>\n",
       "      <th>0</th>\n",
       "      <td>1</td>\n",
       "      <td>4</td>\n",
       "      <td>4</td>\n",
       "      <td>5</td>\n",
       "      <td>117.53</td>\n",
       "    </tr>\n",
       "    <tr>\n",
       "      <th>1</th>\n",
       "      <td>2</td>\n",
       "      <td>4</td>\n",
       "      <td>2</td>\n",
       "      <td>3</td>\n",
       "      <td>13.29</td>\n",
       "    </tr>\n",
       "    <tr>\n",
       "      <th>2</th>\n",
       "      <td>3</td>\n",
       "      <td>1</td>\n",
       "      <td>1</td>\n",
       "      <td>5</td>\n",
       "      <td>202.06</td>\n",
       "    </tr>\n",
       "    <tr>\n",
       "      <th>3</th>\n",
       "      <td>2</td>\n",
       "      <td>4</td>\n",
       "      <td>1</td>\n",
       "      <td>5</td>\n",
       "      <td>52.88</td>\n",
       "    </tr>\n",
       "    <tr>\n",
       "      <th>4</th>\n",
       "      <td>2</td>\n",
       "      <td>2</td>\n",
       "      <td>2</td>\n",
       "      <td>4</td>\n",
       "      <td>18.55</td>\n",
       "    </tr>\n",
       "  </tbody>\n",
       "</table>\n",
       "</div>"
      ],
      "text/plain": [
       "   Strain  Orien  Aspect  Size  Subtraction\n",
       "0       1      4       4     5       117.53\n",
       "1       2      4       2     3        13.29\n",
       "2       3      1       1     5       202.06\n",
       "3       2      4       1     5        52.88\n",
       "4       2      2       2     4        18.55"
      ]
     },
     "execution_count": 161,
     "metadata": {},
     "output_type": "execute_result"
    }
   ],
   "source": [
    "all_data.head()"
   ]
  },
  {
   "cell_type": "code",
   "execution_count": 162,
   "metadata": {},
   "outputs": [
    {
     "data": {
      "text/plain": [
       "(168, 5)"
      ]
     },
     "execution_count": 162,
     "metadata": {},
     "output_type": "execute_result"
    }
   ],
   "source": [
    "all_data.shape"
   ]
  },
  {
   "cell_type": "code",
   "execution_count": 163,
   "metadata": {},
   "outputs": [],
   "source": [
    "y_train = all_data.Subtraction.values\n",
    "train = all_data.drop('Subtraction', axis=1).values"
   ]
  },
  {
   "cell_type": "code",
   "execution_count": 164,
   "metadata": {},
   "outputs": [],
   "source": [
    "from sklearn.model_selection import train_test_split\n",
    "\n",
    "xtrain, xtest, ytrain, ytest = train_test_split(\n",
    "    train, y_train, test_size=0.1, random_state=42\n",
    ")"
   ]
  },
  {
   "cell_type": "markdown",
   "metadata": {},
   "source": [
    "## cross-validation開始"
   ]
  },
  {
   "cell_type": "code",
   "execution_count": 165,
   "metadata": {},
   "outputs": [],
   "source": [
    "from sklearn.model_selection import StratifiedKFold, cross_val_score"
   ]
  },
  {
   "cell_type": "code",
   "execution_count": 166,
   "metadata": {},
   "outputs": [],
   "source": [
    "n_folds = 10\n",
    "\n",
    "def rmsle_cv(model):\n",
    "    kf = StratifiedKFold(n_folds, shuffle=True, random_state=42).get_n_splits(xtrain)\n",
    "    rmse= np.sqrt(-cross_val_score(model, xtrain, ytrain, scoring=\"neg_mean_squared_error\", cv = kf))\n",
    "    return(rmse)"
   ]
  },
  {
   "cell_type": "markdown",
   "metadata": {},
   "source": [
    "## 様々な予測器を試す。"
   ]
  },
  {
   "cell_type": "code",
   "execution_count": 167,
   "metadata": {},
   "outputs": [],
   "source": [
    "from sklearn.kernel_ridge import KernelRidge\n",
    "KRR = KernelRidge(alpha=0.6, kernel='polynomial', degree=2, coef0=2.5)"
   ]
  },
  {
   "cell_type": "code",
   "execution_count": 168,
   "metadata": {},
   "outputs": [],
   "source": [
    "import xgboost as xgb\n",
    "model_xgb = xgb.XGBRegressor(colsample_bytree=0.4603, gamma=0.0468, \n",
    "                             learning_rate=0.05, max_depth=3, \n",
    "                             min_child_weight=1.7817, n_estimators=2200,\n",
    "                             reg_alpha=0.4640, reg_lambda=0.8571,\n",
    "                             subsample=0.5213, silent=1,\n",
    "                             random_state =7, nthread = -1)"
   ]
  },
  {
   "cell_type": "code",
   "execution_count": 169,
   "metadata": {},
   "outputs": [],
   "source": [
    "import lightgbm as lgb\n",
    "model_lgb = lgb.LGBMRegressor(objective='regression',num_leaves=5,\n",
    "                              learning_rate=0.05, n_estimators=720,\n",
    "                              max_bin = 55, bagging_fraction = 0.8,\n",
    "                              bagging_freq = 5, feature_fraction = 0.2319,\n",
    "                              feature_fraction_seed=9, bagging_seed=9,\n",
    "                              min_data_in_leaf =6, min_sum_hessian_in_leaf = 11)"
   ]
  },
  {
   "cell_type": "code",
   "execution_count": 170,
   "metadata": {},
   "outputs": [],
   "source": [
    "from sklearn.ensemble import RandomForestRegressor\n",
    "forest_reg = RandomForestRegressor(random_state=42)"
   ]
  },
  {
   "cell_type": "code",
   "execution_count": 171,
   "metadata": {},
   "outputs": [],
   "source": [
    "from sklearn.linear_model import LinearRegression\n",
    "lin_reg = LinearRegression()"
   ]
  },
  {
   "cell_type": "markdown",
   "metadata": {},
   "source": [
    "## それぞれの予測器のrmseをみる"
   ]
  },
  {
   "cell_type": "code",
   "execution_count": 172,
   "metadata": {
    "_cell_guid": "a1195106-2170-47f2-86a7-c4f3be683aa8",
    "_execution_state": "idle",
    "_uuid": "437dc093e88d661a369539520af1b4c37d1a0c1a",
    "scrolled": true
   },
   "outputs": [
    {
     "name": "stdout",
     "output_type": "stream",
     "text": [
      "Kernel Ridge score: 17.6210 (9.0068)\n",
      "\n"
     ]
    }
   ],
   "source": [
    "score = rmsle_cv(KRR)\n",
    "print(\"Kernel Ridge score: {:.4f} ({:.4f})\\n\".format(score.mean(), score.std()))"
   ]
  },
  {
   "cell_type": "code",
   "execution_count": 173,
   "metadata": {
    "_cell_guid": "30738ecc-39f8-44ed-9f42-68518beb7e6a",
    "_execution_state": "idle",
    "_uuid": "5f52ccf39d01165e61a7c6be8b788be4e58e286b"
   },
   "outputs": [
    {
     "name": "stdout",
     "output_type": "stream",
     "text": [
      "Xgboost score: 17.1208 (9.1635)\n",
      "\n"
     ]
    }
   ],
   "source": [
    "score = rmsle_cv(model_xgb)\n",
    "print(\"Xgboost score: {:.4f} ({:.4f})\\n\".format(score.mean(), score.std()))"
   ]
  },
  {
   "cell_type": "code",
   "execution_count": 174,
   "metadata": {
    "_cell_guid": "41e0eab9-630d-48d3-905b-e4663aad2262",
    "_execution_state": "idle",
    "_uuid": "5cd5377ee097fbc6fd14b42b4ea654221b097e59"
   },
   "outputs": [
    {
     "name": "stdout",
     "output_type": "stream",
     "text": [
      "LGBM score: 17.1744 (9.0170)\n",
      "\n"
     ]
    }
   ],
   "source": [
    "score = rmsle_cv(model_lgb)\n",
    "print(\"LGBM score: {:.4f} ({:.4f})\\n\" .format(score.mean(), score.std()))"
   ]
  },
  {
   "cell_type": "code",
   "execution_count": 175,
   "metadata": {},
   "outputs": [
    {
     "name": "stdout",
     "output_type": "stream",
     "text": [
      "\n",
      "lin_reg score: 20.0726 (10.1717)\n",
      "\n"
     ]
    }
   ],
   "source": [
    "score = rmsle_cv(lin_reg)\n",
    "print(\"\\nlin_reg score: {:.4f} ({:.4f})\\n\".format(score.mean(), score.std()))"
   ]
  },
  {
   "cell_type": "code",
   "execution_count": 176,
   "metadata": {},
   "outputs": [
    {
     "name": "stdout",
     "output_type": "stream",
     "text": [
      "\n",
      "forest_reg score: 17.7408 (7.3599)\n",
      "\n"
     ]
    }
   ],
   "source": [
    "score = rmsle_cv(forest_reg)\n",
    "print(\"\\nforest_reg score: {:.4f} ({:.4f})\\n\".format(score.mean(), score.std()))"
   ]
  },
  {
   "cell_type": "markdown",
   "metadata": {},
   "source": [
    "## random forestのGridSearch開始"
   ]
  },
  {
   "cell_type": "code",
   "execution_count": 177,
   "metadata": {
    "scrolled": true
   },
   "outputs": [
    {
     "data": {
      "text/plain": [
       "GridSearchCV(cv=10, error_score='raise',\n",
       "       estimator=RandomForestRegressor(bootstrap=True, criterion='mse', max_depth=None,\n",
       "           max_features='auto', max_leaf_nodes=None,\n",
       "           min_impurity_decrease=0.0, min_impurity_split=None,\n",
       "           min_samples_leaf=1, min_samples_split=2,\n",
       "           min_weight_fraction_leaf=0.0, n_estimators=10, n_jobs=1,\n",
       "           oob_score=False, random_state=42, verbose=0, warm_start=False),\n",
       "       fit_params=None, iid=True, n_jobs=1,\n",
       "       param_grid=[{'n_estimators': [60, 70, 80], 'max_features': [1e-07, 1e-06]}, {'bootstrap': [False], 'n_estimators': [3, 10], 'max_features': [0.01, 0.1]}],\n",
       "       pre_dispatch='2*n_jobs', refit=True, return_train_score=True,\n",
       "       scoring='neg_mean_squared_error', verbose=0)"
      ]
     },
     "execution_count": 177,
     "metadata": {},
     "output_type": "execute_result"
    }
   ],
   "source": [
    "from sklearn.model_selection import GridSearchCV\n",
    "\n",
    "param_grid = [\n",
    "    {'n_estimators': [60, 70, 80 ], 'max_features': [0.0000001, 0.000001]},\n",
    "    {'bootstrap': [False], 'n_estimators': [3, 10], 'max_features': [0.01, 0.1]},\n",
    "  ]\n",
    "\n",
    "forest_reg = RandomForestRegressor(random_state=42)\n",
    "grid_search = GridSearchCV(forest_reg, param_grid, cv=10,\n",
    "                           scoring='neg_mean_squared_error', return_train_score=True)\n",
    "grid_search.fit(xtrain, ytrain)"
   ]
  },
  {
   "cell_type": "code",
   "execution_count": 178,
   "metadata": {},
   "outputs": [
    {
     "name": "stdout",
     "output_type": "stream",
     "text": [
      "Test set score: 44.84493736468038\n",
      "Best parameters: {'max_features': 1e-07, 'n_estimators': 60}\n",
      "Best cross-validation: 18.507648068644247\n"
     ]
    }
   ],
   "source": [
    "rmse_test_score = np.sqrt(-grid_search.score(xtest, ytest))\n",
    "rmse_cross_score = np.sqrt(-grid_search.best_score_)\n",
    "\n",
    "print('Test set score: {}'.format(rmse_test_score))\n",
    "print('Best parameters: {}'.format(grid_search.best_params_))\n",
    "print('Best cross-validation: {}'.format(rmse_cross_score))"
   ]
  },
  {
   "cell_type": "code",
   "execution_count": 179,
   "metadata": {
    "scrolled": true
   },
   "outputs": [
    {
     "name": "stdout",
     "output_type": "stream",
     "text": [
      "18.507648068644247 {'max_features': 1e-07, 'n_estimators': 60}\n",
      "18.70824644862078 {'max_features': 1e-07, 'n_estimators': 70}\n",
      "18.940124663158517 {'max_features': 1e-07, 'n_estimators': 80}\n",
      "18.507648068644247 {'max_features': 1e-06, 'n_estimators': 60}\n",
      "18.70824644862078 {'max_features': 1e-06, 'n_estimators': 70}\n",
      "18.940124663158517 {'max_features': 1e-06, 'n_estimators': 80}\n",
      "21.410632883945016 {'bootstrap': False, 'max_features': 0.01, 'n_estimators': 3}\n",
      "20.225881106514496 {'bootstrap': False, 'max_features': 0.01, 'n_estimators': 10}\n",
      "21.410632883945016 {'bootstrap': False, 'max_features': 0.1, 'n_estimators': 3}\n",
      "20.225881106514496 {'bootstrap': False, 'max_features': 0.1, 'n_estimators': 10}\n"
     ]
    }
   ],
   "source": [
    "cvres = grid_search.cv_results_\n",
    "for mean_score, params in zip(cvres[\"mean_test_score\"], cvres[\"params\"]):\n",
    "    print(np.sqrt(-mean_score), params)"
   ]
  },
  {
   "cell_type": "code",
   "execution_count": 180,
   "metadata": {},
   "outputs": [
    {
     "name": "stdout",
     "output_type": "stream",
     "text": [
      "correlation coefficient is: 0.649\n"
     ]
    }
   ],
   "source": [
    "def cc(y, y_pre):\n",
    "    correlation = pd.DataFrame({'y':y, 'y_pre':y_pre})\n",
    "    return print('correlation coefficient is: {0:0.3f}'.format(correlation.corr().iloc[0,1]))\n",
    "\n",
    "forest_reg = RandomForestRegressor(max_features=0.1, n_estimators=75, random_state=1)\n",
    "forest_reg.fit(xtrain, ytrain)\n",
    "cc(forest_reg.predict(xtest), ytest)"
   ]
  },
  {
   "cell_type": "code",
   "execution_count": 181,
   "metadata": {},
   "outputs": [
    {
     "data": {
      "text/plain": [
       "[<matplotlib.lines.Line2D at 0x10a438eb8>]"
      ]
     },
     "execution_count": 181,
     "metadata": {},
     "output_type": "execute_result"
    },
    {
     "data": {
      "image/png": "[encoded data removed]",
      "text/plain": [
       "<Figure size 432x288 with 1 Axes>"
      ]
     },
     "metadata": {},
     "output_type": "display_data"
    }
   ],
   "source": [
    "import matplotlib.pyplot as plt\n",
    "\n",
    "nrange = range(0,500)\n",
    "grid_score = []\n",
    "feature_importances = np.ones((0,4))\n",
    "\n",
    "for i in nrange:\n",
    "    forest_reg = RandomForestRegressor(random_state=i)\n",
    "    forest_reg.fit(xtrain, ytrain)\n",
    "    correlation = pd.DataFrame({'y':ytest, 'y_pre':forest_reg.predict(xtest)})\n",
    "    grid_score.append(correlation.corr().iloc[0,1])\n",
    "    fi = forest_reg.feature_importances_.reshape(1,-1)\n",
    "    feature_importances = np.r_[feature_importances, fi]\n",
    "plt.plot(nrange, grid_score)"
   ]
  },
  {
   "cell_type": "code",
   "execution_count": 182,
   "metadata": {},
   "outputs": [
    {
     "data": {
      "text/plain": [
       "array([0.10761644, 0.1561604 , 0.1135627 , 0.62266045])"
      ]
     },
     "execution_count": 182,
     "metadata": {},
     "output_type": "execute_result"
    }
   ],
   "source": [
    "feature_importances.mean(axis=0)"
   ]
  },
  {
   "cell_type": "markdown",
   "metadata": {},
   "source": [
    "### random forestのfeature_importances_"
   ]
  },
  {
   "cell_type": "code",
   "execution_count": 183,
   "metadata": {},
   "outputs": [
    {
     "data": {
      "text/plain": [
       "array([0.08172927, 0.15498243, 0.12245007, 0.64083824])"
      ]
     },
     "execution_count": 183,
     "metadata": {},
     "output_type": "execute_result"
    }
   ],
   "source": [
    "feature_importances = forest_reg.feature_importances_\n",
    "feature_importances"
   ]
  },
  {
   "cell_type": "code",
   "execution_count": 184,
   "metadata": {},
   "outputs": [
    {
     "data": {
      "text/plain": [
       "Index(['Strain', 'Orien', 'Aspect', 'Size', 'Subtraction'], dtype='object')"
      ]
     },
     "execution_count": 184,
     "metadata": {},
     "output_type": "execute_result"
    }
   ],
   "source": [
    "all_data.columns"
   ]
  },
  {
   "cell_type": "markdown",
   "metadata": {},
   "source": [
    "## correlation coefficientを計算する"
   ]
  },
  {
   "cell_type": "code",
   "execution_count": 185,
   "metadata": {},
   "outputs": [],
   "source": [
    "def cc(y, y_pre):\n",
    "    correlation = pd.DataFrame({'y':y, 'y_pre':y_pre})\n",
    "    return print('correlation coefficient is: {0:0.3f}'.format(correlation.corr().iloc[0,1]))"
   ]
  },
  {
   "cell_type": "code",
   "execution_count": 186,
   "metadata": {
    "scrolled": true
   },
   "outputs": [],
   "source": [
    "a = grid_search.predict(xtest)"
   ]
  },
  {
   "cell_type": "code",
   "execution_count": 187,
   "metadata": {
    "scrolled": true
   },
   "outputs": [
    {
     "name": "stdout",
     "output_type": "stream",
     "text": [
      "correlation coefficient is: 0.625\n"
     ]
    }
   ],
   "source": [
    "cc(a, ytest)"
   ]
  },
  {
   "cell_type": "raw",
   "metadata": {},
   "source": [
    "cross_val_scoreのscoingの選択肢：\n",
    "\n",
    "['accuracy', 'adjusted_rand_score', 'average_precision', 'f1', 'f1_macro', \n",
    "'f1_micro', 'f1_samples', 'f1_weighted', 'log_loss', 'mean_absolute_error', \n",
    "'mean_squared_error', 'median_absolute_error', 'precision',\n",
    "'precision_macro', 'precision_micro', 'precision_samples', \n",
    "'precision_weighted', 'r2', 'recall', 'recall_macro', 'recall_micro', \n",
    "'recall_samples', 'recall_weighted', 'roc_auc']\n",
    "\n",
    "回帰に使う：\n",
    "‘neg_mean_absolute_error’\n",
    "‘neg_mean_squared_error’\n",
    "‘neg_median_absolute_error’\n",
    "‘r2’"
   ]
  },
  {
   "cell_type": "markdown",
   "metadata": {},
   "source": [
    "## 予測器をlightgbmにし、GridSearchを行う。"
   ]
  },
  {
   "cell_type": "code",
   "execution_count": 188,
   "metadata": {},
   "outputs": [],
   "source": [
    "from sklearn.model_selection import KFold, train_test_split\n",
    "\n",
    "xtrain, xtest, ytrain, ytest = train_test_split(\n",
    "    train, y_train, test_size=0.1, random_state=42\n",
    ")"
   ]
  },
  {
   "cell_type": "code",
   "execution_count": 189,
   "metadata": {},
   "outputs": [],
   "source": [
    "import lightgbm as lgb\n",
    "model_lgb = lgb.LGBMRegressor(objective='regression')"
   ]
  },
  {
   "cell_type": "code",
   "execution_count": 190,
   "metadata": {},
   "outputs": [
    {
     "name": "stdout",
     "output_type": "stream",
     "text": [
      "チューニング前\n",
      "correlation coefficient is: 0.718\n"
     ]
    }
   ],
   "source": [
    "model_lgb.fit(xtrain, ytrain)\n",
    "print('チューニング前')\n",
    "cc(model_lgb.predict(xtest), ytest)"
   ]
  },
  {
   "cell_type": "markdown",
   "metadata": {},
   "source": [
    "## チューニングする"
   ]
  },
  {
   "cell_type": "raw",
   "metadata": {},
   "source": [
    "from sklearn.model_selection import KFold, train_test_split\n",
    "\n",
    "xtrain, xtest, ytrain, ytest = train_test_split(\n",
    "    train, y_train, test_size=0.1, random_state=42\n",
    ")"
   ]
  },
  {
   "cell_type": "raw",
   "metadata": {},
   "source": [
    "from sklearn.model_selection import GridSearchCV\n",
    "\n",
    "param_grid = [\n",
    "    {'max_bin':[5], 'bagging_freq':[4], 'min_data_in_leaf':[1],\n",
    "     'min_sum_hessian_in_leaf':[15]}\n",
    "    ]\n",
    "\n",
    "grid_search = GridSearchCV(model_lgb, param_grid, cv=10,\n",
    "                           scoring='neg_mean_squared_error', return_train_score=True)\n",
    "grid_search.fit(xtrain, ytrain)"
   ]
  },
  {
   "cell_type": "raw",
   "metadata": {},
   "source": [
    "rmse_test_score = np.sqrt(-grid_search.score(xtest, ytest))\n",
    "rmse_cross_score = np.sqrt(-grid_search.best_score_)\n",
    "\n",
    "print('Test set score: {}'.format(rmse_test_score))\n",
    "print('Best parameters: {}'.format(grid_search.best_params_))\n",
    "print('Best cross-validation: {}'.format(rmse_cross_score))"
   ]
  },
  {
   "cell_type": "markdown",
   "metadata": {},
   "source": [
    "## ベストなハイパーパラメータ入力"
   ]
  },
  {
   "cell_type": "code",
   "execution_count": 191,
   "metadata": {},
   "outputs": [],
   "source": [
    "import lightgbm as lgb\n",
    "model_lgb = lgb.LGBMRegressor(objective='regression',num_leaves=2,\n",
    "                              learning_rate=0.1, n_estimators=200,\n",
    "                              max_bin = 5, bagging_fraction = 0.8,\n",
    "                              bagging_freq = 2, feature_fraction = 0.2319,\n",
    "                              feature_fraction_seed=9, bagging_seed=9,\n",
    "                              min_data_in_leaf =1, min_sum_hessian_in_leaf = 15)"
   ]
  },
  {
   "cell_type": "code",
   "execution_count": 192,
   "metadata": {
    "scrolled": false
   },
   "outputs": [
    {
     "name": "stdout",
     "output_type": "stream",
     "text": [
      "チューニング後\n",
      "correlation coefficient is: 0.739\n"
     ]
    }
   ],
   "source": [
    "model_lgb.fit(xtrain, ytrain)\n",
    "print('チューニング後')\n",
    "cc(model_lgb.predict(xtest),ytest)"
   ]
  },
  {
   "cell_type": "code",
   "execution_count": 193,
   "metadata": {
    "scrolled": true
   },
   "outputs": [
    {
     "name": "stdout",
     "output_type": "stream",
     "text": [
      "全ての訓練セットを使った場合\n",
      "correlation coefficient is: 0.760\n"
     ]
    }
   ],
   "source": [
    "model_lgb.fit(train, y_train)\n",
    "print('全ての訓練セットを使った場合')\n",
    "cc(model_lgb.predict(train), y_train)"
   ]
  },
  {
   "cell_type": "code",
   "execution_count": 194,
   "metadata": {},
   "outputs": [
    {
     "data": {
      "text/plain": [
       "array([50, 50, 50, 50])"
      ]
     },
     "execution_count": 194,
     "metadata": {},
     "output_type": "execute_result"
    }
   ],
   "source": [
    "model_lgb.feature_importances_"
   ]
  },
  {
   "cell_type": "markdown",
   "metadata": {},
   "source": [
    "## 予測に入ってく"
   ]
  },
  {
   "cell_type": "code",
   "execution_count": 195,
   "metadata": {},
   "outputs": [],
   "source": [
    "upto_4 = [1,2,3,4]\n",
    "upto_5 = [1,2,3,4,5]\n",
    "temp = []\n",
    "temp2 = []\n",
    "for a in upto_4:\n",
    "    for b in upto_4:\n",
    "        for c in upto_5:\n",
    "            for d in upto_5:\n",
    "                temp = temp+[a]+[b]+[c]+[d]\n",
    "                temp2 = temp2 + [temp]\n",
    "                temp = []\n",
    "onefour = [1,4]\n",
    "onefive = [1,5]\n",
    "temp3 = []\n",
    "temp4 = []\n",
    "for a in onefour:\n",
    "    for b in onefour:\n",
    "        for c in onefive:\n",
    "            for d in onefive:\n",
    "                temp3 = temp3+[a]+[b]+[c]+[d]\n",
    "                temp4 = temp4 + [temp3]\n",
    "                temp3 = []"
   ]
  },
  {
   "cell_type": "code",
   "execution_count": 196,
   "metadata": {
    "scrolled": true
   },
   "outputs": [
    {
     "data": {
      "text/plain": [
       "array([[1, 1, 1, 1],\n",
       "       [1, 1, 1, 5],\n",
       "       [1, 1, 5, 1],\n",
       "       [1, 1, 5, 5],\n",
       "       [1, 4, 1, 1],\n",
       "       [1, 4, 1, 5],\n",
       "       [1, 4, 5, 1],\n",
       "       [1, 4, 5, 5],\n",
       "       [4, 1, 1, 1],\n",
       "       [4, 1, 1, 5],\n",
       "       [4, 1, 5, 1],\n",
       "       [4, 1, 5, 5],\n",
       "       [4, 4, 1, 1],\n",
       "       [4, 4, 1, 5],\n",
       "       [4, 4, 5, 1],\n",
       "       [4, 4, 5, 5]])"
      ]
     },
     "execution_count": 196,
     "metadata": {},
     "output_type": "execute_result"
    }
   ],
   "source": [
    "test_set = np.array(temp2)\n",
    "test_set_representative = np.array(temp4)\n",
    "test_set_representative"
   ]
  },
  {
   "cell_type": "code",
   "execution_count": 197,
   "metadata": {},
   "outputs": [],
   "source": [
    "representative = pd.DataFrame(test_set_representative, columns=['strain','orien','aspect','size'])\n",
    "representative.to_csv('representative.csv', index=False)"
   ]
  },
  {
   "cell_type": "code",
   "execution_count": 198,
   "metadata": {
    "scrolled": true
   },
   "outputs": [
    {
     "data": {
      "text/plain": [
       "array([ 3.9369732 , 67.94202808,  3.4632546 , 67.46830948,  3.64665456,\n",
       "       67.65170944,  3.17293596, 67.17799084, 11.24276022, 75.2478151 ,\n",
       "       10.76904162, 74.7740965 , 10.95244158, 74.95749646, 10.47872298,\n",
       "       74.48377786])"
      ]
     },
     "execution_count": 198,
     "metadata": {},
     "output_type": "execute_result"
    }
   ],
   "source": [
    "prediction = model_lgb.predict(test_set)\n",
    "prediction_representative = model_lgb.predict(test_set_representative)\n",
    "prediction_representative"
   ]
  },
  {
   "cell_type": "code",
   "execution_count": 199,
   "metadata": {},
   "outputs": [],
   "source": [
    "clmns = all_data.drop('Subtraction', axis=1).columns\n",
    "a = pd.DataFrame(prediction.reshape(-1,1), columns=['predict'])\n",
    "b = pd.DataFrame(test_set, columns=clmns)\n",
    "c = pd.DataFrame(prediction_representative.reshape(-1,1), columns=['predict'])\n",
    "d = pd.DataFrame(test_set_representative, columns=clmns)"
   ]
  },
  {
   "cell_type": "code",
   "execution_count": 200,
   "metadata": {
    "scrolled": true
   },
   "outputs": [],
   "source": [
    "result = pd.concat([b,a], axis=1)\n",
    "result_representative = pd.concat([d,c], axis=1)"
   ]
  },
  {
   "cell_type": "code",
   "execution_count": 201,
   "metadata": {
    "scrolled": true
   },
   "outputs": [
    {
     "data": {
      "text/html": [
       "<div>\n",
       "<style scoped>\n",
       "    .dataframe tbody tr th:only-of-type {\n",
       "        vertical-align: middle;\n",
       "    }\n",
       "\n",
       "    .dataframe tbody tr th {\n",
       "        vertical-align: top;\n",
       "    }\n",
       "\n",
       "    .dataframe thead th {\n",
       "        text-align: right;\n",
       "    }\n",
       "</style>\n",
       "<table border=\"1\" class=\"dataframe\">\n",
       "  <thead>\n",
       "    <tr style=\"text-align: right;\">\n",
       "      <th></th>\n",
       "      <th>Strain</th>\n",
       "      <th>Orien</th>\n",
       "      <th>Aspect</th>\n",
       "      <th>Size</th>\n",
       "      <th>predict</th>\n",
       "    </tr>\n",
       "  </thead>\n",
       "  <tbody>\n",
       "    <tr>\n",
       "      <th>0</th>\n",
       "      <td>1</td>\n",
       "      <td>1</td>\n",
       "      <td>1</td>\n",
       "      <td>1</td>\n",
       "      <td>3.936973</td>\n",
       "    </tr>\n",
       "    <tr>\n",
       "      <th>1</th>\n",
       "      <td>1</td>\n",
       "      <td>1</td>\n",
       "      <td>1</td>\n",
       "      <td>5</td>\n",
       "      <td>67.942028</td>\n",
       "    </tr>\n",
       "    <tr>\n",
       "      <th>2</th>\n",
       "      <td>1</td>\n",
       "      <td>1</td>\n",
       "      <td>5</td>\n",
       "      <td>1</td>\n",
       "      <td>3.463255</td>\n",
       "    </tr>\n",
       "    <tr>\n",
       "      <th>3</th>\n",
       "      <td>1</td>\n",
       "      <td>1</td>\n",
       "      <td>5</td>\n",
       "      <td>5</td>\n",
       "      <td>67.468309</td>\n",
       "    </tr>\n",
       "    <tr>\n",
       "      <th>4</th>\n",
       "      <td>1</td>\n",
       "      <td>4</td>\n",
       "      <td>1</td>\n",
       "      <td>1</td>\n",
       "      <td>3.646655</td>\n",
       "    </tr>\n",
       "    <tr>\n",
       "      <th>5</th>\n",
       "      <td>1</td>\n",
       "      <td>4</td>\n",
       "      <td>1</td>\n",
       "      <td>5</td>\n",
       "      <td>67.651709</td>\n",
       "    </tr>\n",
       "    <tr>\n",
       "      <th>6</th>\n",
       "      <td>1</td>\n",
       "      <td>4</td>\n",
       "      <td>5</td>\n",
       "      <td>1</td>\n",
       "      <td>3.172936</td>\n",
       "    </tr>\n",
       "    <tr>\n",
       "      <th>7</th>\n",
       "      <td>1</td>\n",
       "      <td>4</td>\n",
       "      <td>5</td>\n",
       "      <td>5</td>\n",
       "      <td>67.177991</td>\n",
       "    </tr>\n",
       "    <tr>\n",
       "      <th>8</th>\n",
       "      <td>4</td>\n",
       "      <td>1</td>\n",
       "      <td>1</td>\n",
       "      <td>1</td>\n",
       "      <td>11.242760</td>\n",
       "    </tr>\n",
       "    <tr>\n",
       "      <th>9</th>\n",
       "      <td>4</td>\n",
       "      <td>1</td>\n",
       "      <td>1</td>\n",
       "      <td>5</td>\n",
       "      <td>75.247815</td>\n",
       "    </tr>\n",
       "    <tr>\n",
       "      <th>10</th>\n",
       "      <td>4</td>\n",
       "      <td>1</td>\n",
       "      <td>5</td>\n",
       "      <td>1</td>\n",
       "      <td>10.769042</td>\n",
       "    </tr>\n",
       "    <tr>\n",
       "      <th>11</th>\n",
       "      <td>4</td>\n",
       "      <td>1</td>\n",
       "      <td>5</td>\n",
       "      <td>5</td>\n",
       "      <td>74.774097</td>\n",
       "    </tr>\n",
       "    <tr>\n",
       "      <th>12</th>\n",
       "      <td>4</td>\n",
       "      <td>4</td>\n",
       "      <td>1</td>\n",
       "      <td>1</td>\n",
       "      <td>10.952442</td>\n",
       "    </tr>\n",
       "    <tr>\n",
       "      <th>13</th>\n",
       "      <td>4</td>\n",
       "      <td>4</td>\n",
       "      <td>1</td>\n",
       "      <td>5</td>\n",
       "      <td>74.957496</td>\n",
       "    </tr>\n",
       "    <tr>\n",
       "      <th>14</th>\n",
       "      <td>4</td>\n",
       "      <td>4</td>\n",
       "      <td>5</td>\n",
       "      <td>1</td>\n",
       "      <td>10.478723</td>\n",
       "    </tr>\n",
       "    <tr>\n",
       "      <th>15</th>\n",
       "      <td>4</td>\n",
       "      <td>4</td>\n",
       "      <td>5</td>\n",
       "      <td>5</td>\n",
       "      <td>74.483778</td>\n",
       "    </tr>\n",
       "  </tbody>\n",
       "</table>\n",
       "</div>"
      ],
      "text/plain": [
       "    Strain  Orien  Aspect  Size    predict\n",
       "0        1      1       1     1   3.936973\n",
       "1        1      1       1     5  67.942028\n",
       "2        1      1       5     1   3.463255\n",
       "3        1      1       5     5  67.468309\n",
       "4        1      4       1     1   3.646655\n",
       "5        1      4       1     5  67.651709\n",
       "6        1      4       5     1   3.172936\n",
       "7        1      4       5     5  67.177991\n",
       "8        4      1       1     1  11.242760\n",
       "9        4      1       1     5  75.247815\n",
       "10       4      1       5     1  10.769042\n",
       "11       4      1       5     5  74.774097\n",
       "12       4      4       1     1  10.952442\n",
       "13       4      4       1     5  74.957496\n",
       "14       4      4       5     1  10.478723\n",
       "15       4      4       5     5  74.483778"
      ]
     },
     "execution_count": 201,
     "metadata": {},
     "output_type": "execute_result"
    }
   ],
   "source": [
    "result_representative"
   ]
  },
  {
   "cell_type": "code",
   "execution_count": 202,
   "metadata": {
    "scrolled": true
   },
   "outputs": [
    {
     "data": {
      "text/html": [
       "<div>\n",
       "<style scoped>\n",
       "    .dataframe tbody tr th:only-of-type {\n",
       "        vertical-align: middle;\n",
       "    }\n",
       "\n",
       "    .dataframe tbody tr th {\n",
       "        vertical-align: top;\n",
       "    }\n",
       "\n",
       "    .dataframe thead th {\n",
       "        text-align: right;\n",
       "    }\n",
       "</style>\n",
       "<table border=\"1\" class=\"dataframe\">\n",
       "  <thead>\n",
       "    <tr style=\"text-align: right;\">\n",
       "      <th></th>\n",
       "      <th>Orien</th>\n",
       "      <th>Aspect</th>\n",
       "      <th>Size</th>\n",
       "      <th>predict</th>\n",
       "    </tr>\n",
       "    <tr>\n",
       "      <th>Strain</th>\n",
       "      <th></th>\n",
       "      <th></th>\n",
       "      <th></th>\n",
       "      <th></th>\n",
       "    </tr>\n",
       "  </thead>\n",
       "  <tbody>\n",
       "    <tr>\n",
       "      <th>1</th>\n",
       "      <td>2.5</td>\n",
       "      <td>3.0</td>\n",
       "      <td>3.0</td>\n",
       "      <td>35.557482</td>\n",
       "    </tr>\n",
       "    <tr>\n",
       "      <th>4</th>\n",
       "      <td>2.5</td>\n",
       "      <td>3.0</td>\n",
       "      <td>3.0</td>\n",
       "      <td>42.863269</td>\n",
       "    </tr>\n",
       "  </tbody>\n",
       "</table>\n",
       "</div>"
      ],
      "text/plain": [
       "        Orien  Aspect  Size    predict\n",
       "Strain                                \n",
       "1         2.5     3.0   3.0  35.557482\n",
       "4         2.5     3.0   3.0  42.863269"
      ]
     },
     "execution_count": 202,
     "metadata": {},
     "output_type": "execute_result"
    }
   ],
   "source": [
    "strain = result_representative.groupby('Strain').mean()\n",
    "strain"
   ]
  },
  {
   "cell_type": "code",
   "execution_count": 203,
   "metadata": {},
   "outputs": [
    {
     "name": "stdout",
     "output_type": "stream",
     "text": [
      "ひずみ 変化度：1.21\n"
     ]
    }
   ],
   "source": [
    "print('ひずみ 変化度：{0:0.2f}'.format(strain.iloc[1][3]/strain.iloc[0][3]))"
   ]
  },
  {
   "cell_type": "code",
   "execution_count": 204,
   "metadata": {
    "scrolled": true
   },
   "outputs": [
    {
     "data": {
      "text/html": [
       "<div>\n",
       "<style scoped>\n",
       "    .dataframe tbody tr th:only-of-type {\n",
       "        vertical-align: middle;\n",
       "    }\n",
       "\n",
       "    .dataframe tbody tr th {\n",
       "        vertical-align: top;\n",
       "    }\n",
       "\n",
       "    .dataframe thead th {\n",
       "        text-align: right;\n",
       "    }\n",
       "</style>\n",
       "<table border=\"1\" class=\"dataframe\">\n",
       "  <thead>\n",
       "    <tr style=\"text-align: right;\">\n",
       "      <th></th>\n",
       "      <th>Strain</th>\n",
       "      <th>Aspect</th>\n",
       "      <th>Size</th>\n",
       "      <th>predict</th>\n",
       "    </tr>\n",
       "    <tr>\n",
       "      <th>Orien</th>\n",
       "      <th></th>\n",
       "      <th></th>\n",
       "      <th></th>\n",
       "      <th></th>\n",
       "    </tr>\n",
       "  </thead>\n",
       "  <tbody>\n",
       "    <tr>\n",
       "      <th>1</th>\n",
       "      <td>2.5</td>\n",
       "      <td>3.0</td>\n",
       "      <td>3.0</td>\n",
       "      <td>39.355535</td>\n",
       "    </tr>\n",
       "    <tr>\n",
       "      <th>4</th>\n",
       "      <td>2.5</td>\n",
       "      <td>3.0</td>\n",
       "      <td>3.0</td>\n",
       "      <td>39.065216</td>\n",
       "    </tr>\n",
       "  </tbody>\n",
       "</table>\n",
       "</div>"
      ],
      "text/plain": [
       "       Strain  Aspect  Size    predict\n",
       "Orien                                 \n",
       "1         2.5     3.0   3.0  39.355535\n",
       "4         2.5     3.0   3.0  39.065216"
      ]
     },
     "execution_count": 204,
     "metadata": {},
     "output_type": "execute_result"
    }
   ],
   "source": [
    "orien = result_representative.groupby('Orien').mean()\n",
    "orien"
   ]
  },
  {
   "cell_type": "code",
   "execution_count": 205,
   "metadata": {},
   "outputs": [
    {
     "name": "stdout",
     "output_type": "stream",
     "text": [
      "結晶方向 変化度：0.99\n"
     ]
    }
   ],
   "source": [
    "print('結晶方向 変化度：{0:0.2f}'.format(orien.iloc[1][3]/orien.iloc[0][3]))"
   ]
  },
  {
   "cell_type": "code",
   "execution_count": 206,
   "metadata": {
    "scrolled": true
   },
   "outputs": [
    {
     "data": {
      "text/html": [
       "<div>\n",
       "<style scoped>\n",
       "    .dataframe tbody tr th:only-of-type {\n",
       "        vertical-align: middle;\n",
       "    }\n",
       "\n",
       "    .dataframe tbody tr th {\n",
       "        vertical-align: top;\n",
       "    }\n",
       "\n",
       "    .dataframe thead th {\n",
       "        text-align: right;\n",
       "    }\n",
       "</style>\n",
       "<table border=\"1\" class=\"dataframe\">\n",
       "  <thead>\n",
       "    <tr style=\"text-align: right;\">\n",
       "      <th></th>\n",
       "      <th>Strain</th>\n",
       "      <th>Orien</th>\n",
       "      <th>Size</th>\n",
       "      <th>predict</th>\n",
       "    </tr>\n",
       "    <tr>\n",
       "      <th>Aspect</th>\n",
       "      <th></th>\n",
       "      <th></th>\n",
       "      <th></th>\n",
       "      <th></th>\n",
       "    </tr>\n",
       "  </thead>\n",
       "  <tbody>\n",
       "    <tr>\n",
       "      <th>1</th>\n",
       "      <td>2.5</td>\n",
       "      <td>2.5</td>\n",
       "      <td>3.0</td>\n",
       "      <td>39.447235</td>\n",
       "    </tr>\n",
       "    <tr>\n",
       "      <th>5</th>\n",
       "      <td>2.5</td>\n",
       "      <td>2.5</td>\n",
       "      <td>3.0</td>\n",
       "      <td>38.973516</td>\n",
       "    </tr>\n",
       "  </tbody>\n",
       "</table>\n",
       "</div>"
      ],
      "text/plain": [
       "        Strain  Orien  Size    predict\n",
       "Aspect                                \n",
       "1          2.5    2.5   3.0  39.447235\n",
       "5          2.5    2.5   3.0  38.973516"
      ]
     },
     "execution_count": 206,
     "metadata": {},
     "output_type": "execute_result"
    }
   ],
   "source": [
    "aspect = result_representative.groupby('Aspect').mean()\n",
    "aspect"
   ]
  },
  {
   "cell_type": "code",
   "execution_count": 207,
   "metadata": {},
   "outputs": [
    {
     "name": "stdout",
     "output_type": "stream",
     "text": [
      "アス比 変化度：0.99\n"
     ]
    }
   ],
   "source": [
    "print('アス比 変化度：{0:0.2f}'.format(aspect.iloc[1][3]/aspect.iloc[0][3]))"
   ]
  },
  {
   "cell_type": "code",
   "execution_count": 208,
   "metadata": {
    "scrolled": true
   },
   "outputs": [
    {
     "data": {
      "text/html": [
       "<div>\n",
       "<style scoped>\n",
       "    .dataframe tbody tr th:only-of-type {\n",
       "        vertical-align: middle;\n",
       "    }\n",
       "\n",
       "    .dataframe tbody tr th {\n",
       "        vertical-align: top;\n",
       "    }\n",
       "\n",
       "    .dataframe thead th {\n",
       "        text-align: right;\n",
       "    }\n",
       "</style>\n",
       "<table border=\"1\" class=\"dataframe\">\n",
       "  <thead>\n",
       "    <tr style=\"text-align: right;\">\n",
       "      <th></th>\n",
       "      <th>Strain</th>\n",
       "      <th>Orien</th>\n",
       "      <th>Aspect</th>\n",
       "      <th>predict</th>\n",
       "    </tr>\n",
       "    <tr>\n",
       "      <th>Size</th>\n",
       "      <th></th>\n",
       "      <th></th>\n",
       "      <th></th>\n",
       "      <th></th>\n",
       "    </tr>\n",
       "  </thead>\n",
       "  <tbody>\n",
       "    <tr>\n",
       "      <th>1</th>\n",
       "      <td>2.5</td>\n",
       "      <td>2.5</td>\n",
       "      <td>3.0</td>\n",
       "      <td>7.207848</td>\n",
       "    </tr>\n",
       "    <tr>\n",
       "      <th>5</th>\n",
       "      <td>2.5</td>\n",
       "      <td>2.5</td>\n",
       "      <td>3.0</td>\n",
       "      <td>71.212903</td>\n",
       "    </tr>\n",
       "  </tbody>\n",
       "</table>\n",
       "</div>"
      ],
      "text/plain": [
       "      Strain  Orien  Aspect    predict\n",
       "Size                                  \n",
       "1        2.5    2.5     3.0   7.207848\n",
       "5        2.5    2.5     3.0  71.212903"
      ]
     },
     "execution_count": 208,
     "metadata": {},
     "output_type": "execute_result"
    }
   ],
   "source": [
    "size = result_representative.groupby('Size').mean()\n",
    "size"
   ]
  },
  {
   "cell_type": "code",
   "execution_count": 209,
   "metadata": {},
   "outputs": [
    {
     "name": "stdout",
     "output_type": "stream",
     "text": [
      "サイズ 変化度：9.88\n"
     ]
    }
   ],
   "source": [
    "print('サイズ 変化度：{0:0.2f}'.format(size.iloc[1][3]/size.iloc[0][3]))"
   ]
  },
  {
   "cell_type": "code",
   "execution_count": null,
   "metadata": {},
   "outputs": [],
   "source": []
  },
  {
   "cell_type": "raw",
   "metadata": {},
   "source": [
    "結論：\n",
    "①各因子を固定して体積変化の度合いを見る\n",
    "[ひずみ、結晶方向、アス比、サイズ]\n",
    "[1.21, 0.99, 0.99, 9.88]\n",
    "\n",
    "②RadomForestのfeature_importance_（特徴量の重要度）機能を使う\n",
    "[ひずみ、結晶方向、アス比、サイズ]\n",
    "[0.14, 0.13, 0.14, 0.59]"
   ]
  },
  {
   "cell_type": "code",
   "execution_count": null,
   "metadata": {},
   "outputs": [],
   "source": []
  },
  {
   "cell_type": "raw",
   "metadata": {},
   "source": [
    "次にサイズが近しいものの中で各因子を変化させてみたらどうか？\n",
    "つまり、サイズが同じような粒の中ではサイズの影響度が無視されるので、ひずみとかアス比の影響を受けるのではないか？"
   ]
  },
  {
   "cell_type": "code",
   "execution_count": 210,
   "metadata": {},
   "outputs": [],
   "source": [
    "onefour = [1,4]\n",
    "fourfive = [4,5]\n",
    "onefive = [1,5]\n",
    "temp5 = []\n",
    "temp6 = []\n",
    "for a in onefour:\n",
    "    for b in onefour:\n",
    "        for c in onefive:\n",
    "            for d in fourfive:\n",
    "                temp5 = temp5+[a]+[b]+[c]+[d]\n",
    "                temp6 = temp6 + [temp5]\n",
    "                temp5 = []"
   ]
  },
  {
   "cell_type": "code",
   "execution_count": 211,
   "metadata": {},
   "outputs": [
    {
     "data": {
      "text/plain": [
       "[[1, 1, 1, 4],\n",
       " [1, 1, 1, 5],\n",
       " [1, 1, 5, 4],\n",
       " [1, 1, 5, 5],\n",
       " [1, 4, 1, 4],\n",
       " [1, 4, 1, 5],\n",
       " [1, 4, 5, 4],\n",
       " [1, 4, 5, 5],\n",
       " [4, 1, 1, 4],\n",
       " [4, 1, 1, 5],\n",
       " [4, 1, 5, 4],\n",
       " [4, 1, 5, 5],\n",
       " [4, 4, 1, 4],\n",
       " [4, 4, 1, 5],\n",
       " [4, 4, 5, 4],\n",
       " [4, 4, 5, 5]]"
      ]
     },
     "execution_count": 211,
     "metadata": {},
     "output_type": "execute_result"
    }
   ],
   "source": [
    "temp6"
   ]
  },
  {
   "cell_type": "code",
   "execution_count": 212,
   "metadata": {
    "scrolled": true
   },
   "outputs": [
    {
     "data": {
      "text/plain": [
       "array([13.48169179, 67.94202808, 13.00797319, 67.46830948, 13.19137315,\n",
       "       67.65170944, 12.71765455, 67.17799084, 20.78747882, 75.2478151 ,\n",
       "       20.31376021, 74.7740965 , 20.49716017, 74.95749646, 20.02344157,\n",
       "       74.48377786])"
      ]
     },
     "execution_count": 212,
     "metadata": {},
     "output_type": "execute_result"
    }
   ],
   "source": [
    "prediction_size_close = model_lgb.predict(np.array(temp6))\n",
    "prediction_size_close"
   ]
  },
  {
   "cell_type": "code",
   "execution_count": 213,
   "metadata": {},
   "outputs": [],
   "source": [
    "clmns = all_data.drop('Subtraction', axis=1).columns\n",
    "e = pd.DataFrame(prediction_size_close.reshape(-1,1), columns=['predict'])\n",
    "f = pd.DataFrame(temp6, columns=clmns)"
   ]
  },
  {
   "cell_type": "code",
   "execution_count": 214,
   "metadata": {},
   "outputs": [
    {
     "data": {
      "text/html": [
       "<div>\n",
       "<style scoped>\n",
       "    .dataframe tbody tr th:only-of-type {\n",
       "        vertical-align: middle;\n",
       "    }\n",
       "\n",
       "    .dataframe tbody tr th {\n",
       "        vertical-align: top;\n",
       "    }\n",
       "\n",
       "    .dataframe thead th {\n",
       "        text-align: right;\n",
       "    }\n",
       "</style>\n",
       "<table border=\"1\" class=\"dataframe\">\n",
       "  <thead>\n",
       "    <tr style=\"text-align: right;\">\n",
       "      <th></th>\n",
       "      <th>Strain</th>\n",
       "      <th>Orien</th>\n",
       "      <th>Aspect</th>\n",
       "      <th>Size</th>\n",
       "      <th>predict</th>\n",
       "    </tr>\n",
       "  </thead>\n",
       "  <tbody>\n",
       "    <tr>\n",
       "      <th>0</th>\n",
       "      <td>1</td>\n",
       "      <td>1</td>\n",
       "      <td>1</td>\n",
       "      <td>4</td>\n",
       "      <td>13.481692</td>\n",
       "    </tr>\n",
       "    <tr>\n",
       "      <th>1</th>\n",
       "      <td>1</td>\n",
       "      <td>1</td>\n",
       "      <td>1</td>\n",
       "      <td>5</td>\n",
       "      <td>67.942028</td>\n",
       "    </tr>\n",
       "    <tr>\n",
       "      <th>2</th>\n",
       "      <td>1</td>\n",
       "      <td>1</td>\n",
       "      <td>5</td>\n",
       "      <td>4</td>\n",
       "      <td>13.007973</td>\n",
       "    </tr>\n",
       "    <tr>\n",
       "      <th>3</th>\n",
       "      <td>1</td>\n",
       "      <td>1</td>\n",
       "      <td>5</td>\n",
       "      <td>5</td>\n",
       "      <td>67.468309</td>\n",
       "    </tr>\n",
       "    <tr>\n",
       "      <th>4</th>\n",
       "      <td>1</td>\n",
       "      <td>4</td>\n",
       "      <td>1</td>\n",
       "      <td>4</td>\n",
       "      <td>13.191373</td>\n",
       "    </tr>\n",
       "  </tbody>\n",
       "</table>\n",
       "</div>"
      ],
      "text/plain": [
       "   Strain  Orien  Aspect  Size    predict\n",
       "0       1      1       1     4  13.481692\n",
       "1       1      1       1     5  67.942028\n",
       "2       1      1       5     4  13.007973\n",
       "3       1      1       5     5  67.468309\n",
       "4       1      4       1     4  13.191373"
      ]
     },
     "execution_count": 214,
     "metadata": {},
     "output_type": "execute_result"
    }
   ],
   "source": [
    "size_close_result = pd.concat([f,e], axis=1)\n",
    "size_close_result.head()"
   ]
  },
  {
   "cell_type": "code",
   "execution_count": 215,
   "metadata": {
    "scrolled": true
   },
   "outputs": [
    {
     "data": {
      "text/html": [
       "<div>\n",
       "<style scoped>\n",
       "    .dataframe tbody tr th:only-of-type {\n",
       "        vertical-align: middle;\n",
       "    }\n",
       "\n",
       "    .dataframe tbody tr th {\n",
       "        vertical-align: top;\n",
       "    }\n",
       "\n",
       "    .dataframe thead th {\n",
       "        text-align: right;\n",
       "    }\n",
       "</style>\n",
       "<table border=\"1\" class=\"dataframe\">\n",
       "  <thead>\n",
       "    <tr style=\"text-align: right;\">\n",
       "      <th></th>\n",
       "      <th>Orien</th>\n",
       "      <th>Aspect</th>\n",
       "      <th>Size</th>\n",
       "      <th>predict</th>\n",
       "    </tr>\n",
       "    <tr>\n",
       "      <th>Strain</th>\n",
       "      <th></th>\n",
       "      <th></th>\n",
       "      <th></th>\n",
       "      <th></th>\n",
       "    </tr>\n",
       "  </thead>\n",
       "  <tbody>\n",
       "    <tr>\n",
       "      <th>1</th>\n",
       "      <td>2.5</td>\n",
       "      <td>3.0</td>\n",
       "      <td>4.5</td>\n",
       "      <td>40.329841</td>\n",
       "    </tr>\n",
       "    <tr>\n",
       "      <th>4</th>\n",
       "      <td>2.5</td>\n",
       "      <td>3.0</td>\n",
       "      <td>4.5</td>\n",
       "      <td>47.635628</td>\n",
       "    </tr>\n",
       "  </tbody>\n",
       "</table>\n",
       "</div>"
      ],
      "text/plain": [
       "        Orien  Aspect  Size    predict\n",
       "Strain                                \n",
       "1         2.5     3.0   4.5  40.329841\n",
       "4         2.5     3.0   4.5  47.635628"
      ]
     },
     "execution_count": 215,
     "metadata": {},
     "output_type": "execute_result"
    }
   ],
   "source": [
    "strain_size_close = size_close_result.groupby('Strain').mean()\n",
    "strain_size_close"
   ]
  },
  {
   "cell_type": "code",
   "execution_count": 216,
   "metadata": {},
   "outputs": [
    {
     "name": "stdout",
     "output_type": "stream",
     "text": [
      "ひずみ 変化度：1.18\n"
     ]
    }
   ],
   "source": [
    "print('ひずみ 変化度：{0:0.2f}'.format(strain_size_close.iloc[1][3]/strain_size_close.iloc[0][3]))"
   ]
  },
  {
   "cell_type": "code",
   "execution_count": 217,
   "metadata": {
    "scrolled": false
   },
   "outputs": [
    {
     "data": {
      "text/html": [
       "<div>\n",
       "<style scoped>\n",
       "    .dataframe tbody tr th:only-of-type {\n",
       "        vertical-align: middle;\n",
       "    }\n",
       "\n",
       "    .dataframe tbody tr th {\n",
       "        vertical-align: top;\n",
       "    }\n",
       "\n",
       "    .dataframe thead th {\n",
       "        text-align: right;\n",
       "    }\n",
       "</style>\n",
       "<table border=\"1\" class=\"dataframe\">\n",
       "  <thead>\n",
       "    <tr style=\"text-align: right;\">\n",
       "      <th></th>\n",
       "      <th>Strain</th>\n",
       "      <th>Aspect</th>\n",
       "      <th>Size</th>\n",
       "      <th>predict</th>\n",
       "    </tr>\n",
       "    <tr>\n",
       "      <th>Orien</th>\n",
       "      <th></th>\n",
       "      <th></th>\n",
       "      <th></th>\n",
       "      <th></th>\n",
       "    </tr>\n",
       "  </thead>\n",
       "  <tbody>\n",
       "    <tr>\n",
       "      <th>1</th>\n",
       "      <td>2.5</td>\n",
       "      <td>3.0</td>\n",
       "      <td>4.5</td>\n",
       "      <td>44.127894</td>\n",
       "    </tr>\n",
       "    <tr>\n",
       "      <th>4</th>\n",
       "      <td>2.5</td>\n",
       "      <td>3.0</td>\n",
       "      <td>4.5</td>\n",
       "      <td>43.837576</td>\n",
       "    </tr>\n",
       "  </tbody>\n",
       "</table>\n",
       "</div>"
      ],
      "text/plain": [
       "       Strain  Aspect  Size    predict\n",
       "Orien                                 \n",
       "1         2.5     3.0   4.5  44.127894\n",
       "4         2.5     3.0   4.5  43.837576"
      ]
     },
     "execution_count": 217,
     "metadata": {},
     "output_type": "execute_result"
    }
   ],
   "source": [
    "orien_size_close = size_close_result.groupby('Orien').mean()\n",
    "orien_size_close"
   ]
  },
  {
   "cell_type": "code",
   "execution_count": 218,
   "metadata": {},
   "outputs": [
    {
     "name": "stdout",
     "output_type": "stream",
     "text": [
      "結晶方向 変化度：0.99\n"
     ]
    }
   ],
   "source": [
    "print('結晶方向 変化度：{0:0.2f}'.format(orien_size_close.iloc[1][3]/orien_size_close.iloc[0][3]))"
   ]
  },
  {
   "cell_type": "code",
   "execution_count": 219,
   "metadata": {
    "scrolled": true
   },
   "outputs": [
    {
     "data": {
      "text/html": [
       "<div>\n",
       "<style scoped>\n",
       "    .dataframe tbody tr th:only-of-type {\n",
       "        vertical-align: middle;\n",
       "    }\n",
       "\n",
       "    .dataframe tbody tr th {\n",
       "        vertical-align: top;\n",
       "    }\n",
       "\n",
       "    .dataframe thead th {\n",
       "        text-align: right;\n",
       "    }\n",
       "</style>\n",
       "<table border=\"1\" class=\"dataframe\">\n",
       "  <thead>\n",
       "    <tr style=\"text-align: right;\">\n",
       "      <th></th>\n",
       "      <th>Strain</th>\n",
       "      <th>Orien</th>\n",
       "      <th>Size</th>\n",
       "      <th>predict</th>\n",
       "    </tr>\n",
       "    <tr>\n",
       "      <th>Aspect</th>\n",
       "      <th></th>\n",
       "      <th></th>\n",
       "      <th></th>\n",
       "      <th></th>\n",
       "    </tr>\n",
       "  </thead>\n",
       "  <tbody>\n",
       "    <tr>\n",
       "      <th>1</th>\n",
       "      <td>2.5</td>\n",
       "      <td>2.5</td>\n",
       "      <td>4.5</td>\n",
       "      <td>44.219594</td>\n",
       "    </tr>\n",
       "    <tr>\n",
       "      <th>5</th>\n",
       "      <td>2.5</td>\n",
       "      <td>2.5</td>\n",
       "      <td>4.5</td>\n",
       "      <td>43.745876</td>\n",
       "    </tr>\n",
       "  </tbody>\n",
       "</table>\n",
       "</div>"
      ],
      "text/plain": [
       "        Strain  Orien  Size    predict\n",
       "Aspect                                \n",
       "1          2.5    2.5   4.5  44.219594\n",
       "5          2.5    2.5   4.5  43.745876"
      ]
     },
     "execution_count": 219,
     "metadata": {},
     "output_type": "execute_result"
    }
   ],
   "source": [
    "aspect_size_close = size_close_result.groupby('Aspect').mean()\n",
    "aspect_size_close"
   ]
  },
  {
   "cell_type": "code",
   "execution_count": 220,
   "metadata": {},
   "outputs": [
    {
     "name": "stdout",
     "output_type": "stream",
     "text": [
      "アス比 変化度：0.99\n"
     ]
    }
   ],
   "source": [
    "print('アス比 変化度：{0:0.2f}'.format(aspect_size_close.iloc[1][3]/aspect_size_close.iloc[0][3]))"
   ]
  },
  {
   "cell_type": "code",
   "execution_count": 221,
   "metadata": {
    "scrolled": true
   },
   "outputs": [
    {
     "data": {
      "text/html": [
       "<div>\n",
       "<style scoped>\n",
       "    .dataframe tbody tr th:only-of-type {\n",
       "        vertical-align: middle;\n",
       "    }\n",
       "\n",
       "    .dataframe tbody tr th {\n",
       "        vertical-align: top;\n",
       "    }\n",
       "\n",
       "    .dataframe thead th {\n",
       "        text-align: right;\n",
       "    }\n",
       "</style>\n",
       "<table border=\"1\" class=\"dataframe\">\n",
       "  <thead>\n",
       "    <tr style=\"text-align: right;\">\n",
       "      <th></th>\n",
       "      <th>Strain</th>\n",
       "      <th>Orien</th>\n",
       "      <th>Aspect</th>\n",
       "      <th>predict</th>\n",
       "    </tr>\n",
       "    <tr>\n",
       "      <th>Size</th>\n",
       "      <th></th>\n",
       "      <th></th>\n",
       "      <th></th>\n",
       "      <th></th>\n",
       "    </tr>\n",
       "  </thead>\n",
       "  <tbody>\n",
       "    <tr>\n",
       "      <th>4</th>\n",
       "      <td>2.5</td>\n",
       "      <td>2.5</td>\n",
       "      <td>3.0</td>\n",
       "      <td>16.752567</td>\n",
       "    </tr>\n",
       "    <tr>\n",
       "      <th>5</th>\n",
       "      <td>2.5</td>\n",
       "      <td>2.5</td>\n",
       "      <td>3.0</td>\n",
       "      <td>71.212903</td>\n",
       "    </tr>\n",
       "  </tbody>\n",
       "</table>\n",
       "</div>"
      ],
      "text/plain": [
       "      Strain  Orien  Aspect    predict\n",
       "Size                                  \n",
       "4        2.5    2.5     3.0  16.752567\n",
       "5        2.5    2.5     3.0  71.212903"
      ]
     },
     "execution_count": 221,
     "metadata": {},
     "output_type": "execute_result"
    }
   ],
   "source": [
    "size_size_close = size_close_result.groupby('Size').mean()\n",
    "size_size_close"
   ]
  },
  {
   "cell_type": "code",
   "execution_count": 222,
   "metadata": {},
   "outputs": [
    {
     "name": "stdout",
     "output_type": "stream",
     "text": [
      "サイズ 変化度：4.25\n"
     ]
    }
   ],
   "source": [
    "print('サイズ 変化度：{0:0.2f}'.format(size_size_close.iloc[1][3]/size_size_close.iloc[0][3]))"
   ]
  },
  {
   "cell_type": "raw",
   "metadata": {},
   "source": [
    "結論：\n",
    "①サイズを近しいものにして体積変化の度合いを見る\n",
    "[ひずみ、結晶方向、アス比、サイズ]\n",
    "[1.18, 0.99, 0.99, 4.25]\n",
    "\n",
    "[1.21, 0.99, 0.99, 9.88]（前回の）"
   ]
  },
  {
   "cell_type": "code",
   "execution_count": null,
   "metadata": {},
   "outputs": [],
   "source": []
  },
  {
   "cell_type": "code",
   "execution_count": null,
   "metadata": {},
   "outputs": [],
   "source": []
  },
  {
   "cell_type": "code",
   "execution_count": 223,
   "metadata": {},
   "outputs": [],
   "source": [
    "# 同様に size = [1,2]"
   ]
  },
  {
   "cell_type": "code",
   "execution_count": 224,
   "metadata": {},
   "outputs": [],
   "source": [
    "onefour = [1,4]\n",
    "onetwo = [1,2]\n",
    "onefive = [1,5]\n",
    "temp5 = []\n",
    "temp6 = []\n",
    "for a in onefour:\n",
    "    for b in onefour:\n",
    "        for c in onefive:\n",
    "            for d in onetwo:\n",
    "                temp5 = temp5+[a]+[b]+[c]+[d]\n",
    "                temp6 = temp6 + [temp5]\n",
    "                temp5 = []"
   ]
  },
  {
   "cell_type": "code",
   "execution_count": 225,
   "metadata": {},
   "outputs": [
    {
     "data": {
      "text/plain": [
       "[[1, 1, 1, 1],\n",
       " [1, 1, 1, 2],\n",
       " [1, 1, 5, 1],\n",
       " [1, 1, 5, 2],\n",
       " [1, 4, 1, 1],\n",
       " [1, 4, 1, 2],\n",
       " [1, 4, 5, 1],\n",
       " [1, 4, 5, 2],\n",
       " [4, 1, 1, 1],\n",
       " [4, 1, 1, 2],\n",
       " [4, 1, 5, 1],\n",
       " [4, 1, 5, 2],\n",
       " [4, 4, 1, 1],\n",
       " [4, 4, 1, 2],\n",
       " [4, 4, 5, 1],\n",
       " [4, 4, 5, 2]]"
      ]
     },
     "execution_count": 225,
     "metadata": {},
     "output_type": "execute_result"
    }
   ],
   "source": [
    "temp6"
   ]
  },
  {
   "cell_type": "code",
   "execution_count": 226,
   "metadata": {
    "scrolled": true
   },
   "outputs": [
    {
     "data": {
      "text/plain": [
       "array([ 3.9369732 ,  3.9369732 ,  3.4632546 ,  3.4632546 ,  3.64665456,\n",
       "        3.64665456,  3.17293596,  3.17293596, 11.24276022, 11.24276022,\n",
       "       10.76904162, 10.76904162, 10.95244158, 10.95244158, 10.47872298,\n",
       "       10.47872298])"
      ]
     },
     "execution_count": 226,
     "metadata": {},
     "output_type": "execute_result"
    }
   ],
   "source": [
    "prediction_size_close = model_lgb.predict(np.array(temp6))\n",
    "prediction_size_close"
   ]
  },
  {
   "cell_type": "code",
   "execution_count": 227,
   "metadata": {},
   "outputs": [],
   "source": [
    "clmns = all_data.drop('Subtraction', axis=1).columns\n",
    "e = pd.DataFrame(prediction_size_close.reshape(-1,1), columns=['predict'])\n",
    "f = pd.DataFrame(temp6, columns=clmns)"
   ]
  },
  {
   "cell_type": "code",
   "execution_count": 228,
   "metadata": {},
   "outputs": [
    {
     "data": {
      "text/html": [
       "<div>\n",
       "<style scoped>\n",
       "    .dataframe tbody tr th:only-of-type {\n",
       "        vertical-align: middle;\n",
       "    }\n",
       "\n",
       "    .dataframe tbody tr th {\n",
       "        vertical-align: top;\n",
       "    }\n",
       "\n",
       "    .dataframe thead th {\n",
       "        text-align: right;\n",
       "    }\n",
       "</style>\n",
       "<table border=\"1\" class=\"dataframe\">\n",
       "  <thead>\n",
       "    <tr style=\"text-align: right;\">\n",
       "      <th></th>\n",
       "      <th>Strain</th>\n",
       "      <th>Orien</th>\n",
       "      <th>Aspect</th>\n",
       "      <th>Size</th>\n",
       "      <th>predict</th>\n",
       "    </tr>\n",
       "  </thead>\n",
       "  <tbody>\n",
       "    <tr>\n",
       "      <th>0</th>\n",
       "      <td>1</td>\n",
       "      <td>1</td>\n",
       "      <td>1</td>\n",
       "      <td>1</td>\n",
       "      <td>3.936973</td>\n",
       "    </tr>\n",
       "    <tr>\n",
       "      <th>1</th>\n",
       "      <td>1</td>\n",
       "      <td>1</td>\n",
       "      <td>1</td>\n",
       "      <td>2</td>\n",
       "      <td>3.936973</td>\n",
       "    </tr>\n",
       "    <tr>\n",
       "      <th>2</th>\n",
       "      <td>1</td>\n",
       "      <td>1</td>\n",
       "      <td>5</td>\n",
       "      <td>1</td>\n",
       "      <td>3.463255</td>\n",
       "    </tr>\n",
       "    <tr>\n",
       "      <th>3</th>\n",
       "      <td>1</td>\n",
       "      <td>1</td>\n",
       "      <td>5</td>\n",
       "      <td>2</td>\n",
       "      <td>3.463255</td>\n",
       "    </tr>\n",
       "    <tr>\n",
       "      <th>4</th>\n",
       "      <td>1</td>\n",
       "      <td>4</td>\n",
       "      <td>1</td>\n",
       "      <td>1</td>\n",
       "      <td>3.646655</td>\n",
       "    </tr>\n",
       "  </tbody>\n",
       "</table>\n",
       "</div>"
      ],
      "text/plain": [
       "   Strain  Orien  Aspect  Size   predict\n",
       "0       1      1       1     1  3.936973\n",
       "1       1      1       1     2  3.936973\n",
       "2       1      1       5     1  3.463255\n",
       "3       1      1       5     2  3.463255\n",
       "4       1      4       1     1  3.646655"
      ]
     },
     "execution_count": 228,
     "metadata": {},
     "output_type": "execute_result"
    }
   ],
   "source": [
    "size_close_result = pd.concat([f,e], axis=1)\n",
    "size_close_result.head()"
   ]
  },
  {
   "cell_type": "code",
   "execution_count": 229,
   "metadata": {
    "scrolled": true
   },
   "outputs": [
    {
     "data": {
      "text/html": [
       "<div>\n",
       "<style scoped>\n",
       "    .dataframe tbody tr th:only-of-type {\n",
       "        vertical-align: middle;\n",
       "    }\n",
       "\n",
       "    .dataframe tbody tr th {\n",
       "        vertical-align: top;\n",
       "    }\n",
       "\n",
       "    .dataframe thead th {\n",
       "        text-align: right;\n",
       "    }\n",
       "</style>\n",
       "<table border=\"1\" class=\"dataframe\">\n",
       "  <thead>\n",
       "    <tr style=\"text-align: right;\">\n",
       "      <th></th>\n",
       "      <th>Orien</th>\n",
       "      <th>Aspect</th>\n",
       "      <th>Size</th>\n",
       "      <th>predict</th>\n",
       "    </tr>\n",
       "    <tr>\n",
       "      <th>Strain</th>\n",
       "      <th></th>\n",
       "      <th></th>\n",
       "      <th></th>\n",
       "      <th></th>\n",
       "    </tr>\n",
       "  </thead>\n",
       "  <tbody>\n",
       "    <tr>\n",
       "      <th>1</th>\n",
       "      <td>2.5</td>\n",
       "      <td>3.0</td>\n",
       "      <td>1.5</td>\n",
       "      <td>3.554955</td>\n",
       "    </tr>\n",
       "    <tr>\n",
       "      <th>4</th>\n",
       "      <td>2.5</td>\n",
       "      <td>3.0</td>\n",
       "      <td>1.5</td>\n",
       "      <td>10.860742</td>\n",
       "    </tr>\n",
       "  </tbody>\n",
       "</table>\n",
       "</div>"
      ],
      "text/plain": [
       "        Orien  Aspect  Size    predict\n",
       "Strain                                \n",
       "1         2.5     3.0   1.5   3.554955\n",
       "4         2.5     3.0   1.5  10.860742"
      ]
     },
     "execution_count": 229,
     "metadata": {},
     "output_type": "execute_result"
    }
   ],
   "source": [
    "strain_size_close = size_close_result.groupby('Strain').mean()\n",
    "strain_size_close"
   ]
  },
  {
   "cell_type": "code",
   "execution_count": 230,
   "metadata": {},
   "outputs": [
    {
     "name": "stdout",
     "output_type": "stream",
     "text": [
      "ひずみ 変化度：3.06\n"
     ]
    }
   ],
   "source": [
    "print('ひずみ 変化度：{0:0.2f}'.format(strain_size_close.iloc[1][3]/strain_size_close.iloc[0][3]))"
   ]
  },
  {
   "cell_type": "code",
   "execution_count": 231,
   "metadata": {
    "scrolled": false
   },
   "outputs": [
    {
     "data": {
      "text/html": [
       "<div>\n",
       "<style scoped>\n",
       "    .dataframe tbody tr th:only-of-type {\n",
       "        vertical-align: middle;\n",
       "    }\n",
       "\n",
       "    .dataframe tbody tr th {\n",
       "        vertical-align: top;\n",
       "    }\n",
       "\n",
       "    .dataframe thead th {\n",
       "        text-align: right;\n",
       "    }\n",
       "</style>\n",
       "<table border=\"1\" class=\"dataframe\">\n",
       "  <thead>\n",
       "    <tr style=\"text-align: right;\">\n",
       "      <th></th>\n",
       "      <th>Strain</th>\n",
       "      <th>Aspect</th>\n",
       "      <th>Size</th>\n",
       "      <th>predict</th>\n",
       "    </tr>\n",
       "    <tr>\n",
       "      <th>Orien</th>\n",
       "      <th></th>\n",
       "      <th></th>\n",
       "      <th></th>\n",
       "      <th></th>\n",
       "    </tr>\n",
       "  </thead>\n",
       "  <tbody>\n",
       "    <tr>\n",
       "      <th>1</th>\n",
       "      <td>2.5</td>\n",
       "      <td>3.0</td>\n",
       "      <td>1.5</td>\n",
       "      <td>7.353007</td>\n",
       "    </tr>\n",
       "    <tr>\n",
       "      <th>4</th>\n",
       "      <td>2.5</td>\n",
       "      <td>3.0</td>\n",
       "      <td>1.5</td>\n",
       "      <td>7.062689</td>\n",
       "    </tr>\n",
       "  </tbody>\n",
       "</table>\n",
       "</div>"
      ],
      "text/plain": [
       "       Strain  Aspect  Size   predict\n",
       "Orien                                \n",
       "1         2.5     3.0   1.5  7.353007\n",
       "4         2.5     3.0   1.5  7.062689"
      ]
     },
     "execution_count": 231,
     "metadata": {},
     "output_type": "execute_result"
    }
   ],
   "source": [
    "orien_size_close = size_close_result.groupby('Orien').mean()\n",
    "orien_size_close"
   ]
  },
  {
   "cell_type": "code",
   "execution_count": 232,
   "metadata": {},
   "outputs": [
    {
     "name": "stdout",
     "output_type": "stream",
     "text": [
      "結晶方向 変化度：0.96\n"
     ]
    }
   ],
   "source": [
    "print('結晶方向 変化度：{0:0.2f}'.format(orien_size_close.iloc[1][3]/orien_size_close.iloc[0][3]))"
   ]
  },
  {
   "cell_type": "code",
   "execution_count": 233,
   "metadata": {
    "scrolled": true
   },
   "outputs": [
    {
     "data": {
      "text/html": [
       "<div>\n",
       "<style scoped>\n",
       "    .dataframe tbody tr th:only-of-type {\n",
       "        vertical-align: middle;\n",
       "    }\n",
       "\n",
       "    .dataframe tbody tr th {\n",
       "        vertical-align: top;\n",
       "    }\n",
       "\n",
       "    .dataframe thead th {\n",
       "        text-align: right;\n",
       "    }\n",
       "</style>\n",
       "<table border=\"1\" class=\"dataframe\">\n",
       "  <thead>\n",
       "    <tr style=\"text-align: right;\">\n",
       "      <th></th>\n",
       "      <th>Strain</th>\n",
       "      <th>Orien</th>\n",
       "      <th>Size</th>\n",
       "      <th>predict</th>\n",
       "    </tr>\n",
       "    <tr>\n",
       "      <th>Aspect</th>\n",
       "      <th></th>\n",
       "      <th></th>\n",
       "      <th></th>\n",
       "      <th></th>\n",
       "    </tr>\n",
       "  </thead>\n",
       "  <tbody>\n",
       "    <tr>\n",
       "      <th>1</th>\n",
       "      <td>2.5</td>\n",
       "      <td>2.5</td>\n",
       "      <td>1.5</td>\n",
       "      <td>7.444707</td>\n",
       "    </tr>\n",
       "    <tr>\n",
       "      <th>5</th>\n",
       "      <td>2.5</td>\n",
       "      <td>2.5</td>\n",
       "      <td>1.5</td>\n",
       "      <td>6.970989</td>\n",
       "    </tr>\n",
       "  </tbody>\n",
       "</table>\n",
       "</div>"
      ],
      "text/plain": [
       "        Strain  Orien  Size   predict\n",
       "Aspect                               \n",
       "1          2.5    2.5   1.5  7.444707\n",
       "5          2.5    2.5   1.5  6.970989"
      ]
     },
     "execution_count": 233,
     "metadata": {},
     "output_type": "execute_result"
    }
   ],
   "source": [
    "aspect_size_close = size_close_result.groupby('Aspect').mean()\n",
    "aspect_size_close"
   ]
  },
  {
   "cell_type": "code",
   "execution_count": 234,
   "metadata": {},
   "outputs": [
    {
     "name": "stdout",
     "output_type": "stream",
     "text": [
      "アス比 変化度：0.94\n"
     ]
    }
   ],
   "source": [
    "print('アス比 変化度：{0:0.2f}'.format(aspect_size_close.iloc[1][3]/aspect_size_close.iloc[0][3]))"
   ]
  },
  {
   "cell_type": "code",
   "execution_count": 235,
   "metadata": {
    "scrolled": true
   },
   "outputs": [
    {
     "data": {
      "text/html": [
       "<div>\n",
       "<style scoped>\n",
       "    .dataframe tbody tr th:only-of-type {\n",
       "        vertical-align: middle;\n",
       "    }\n",
       "\n",
       "    .dataframe tbody tr th {\n",
       "        vertical-align: top;\n",
       "    }\n",
       "\n",
       "    .dataframe thead th {\n",
       "        text-align: right;\n",
       "    }\n",
       "</style>\n",
       "<table border=\"1\" class=\"dataframe\">\n",
       "  <thead>\n",
       "    <tr style=\"text-align: right;\">\n",
       "      <th></th>\n",
       "      <th>Strain</th>\n",
       "      <th>Orien</th>\n",
       "      <th>Aspect</th>\n",
       "      <th>predict</th>\n",
       "    </tr>\n",
       "    <tr>\n",
       "      <th>Size</th>\n",
       "      <th></th>\n",
       "      <th></th>\n",
       "      <th></th>\n",
       "      <th></th>\n",
       "    </tr>\n",
       "  </thead>\n",
       "  <tbody>\n",
       "    <tr>\n",
       "      <th>1</th>\n",
       "      <td>2.5</td>\n",
       "      <td>2.5</td>\n",
       "      <td>3.0</td>\n",
       "      <td>7.207848</td>\n",
       "    </tr>\n",
       "    <tr>\n",
       "      <th>2</th>\n",
       "      <td>2.5</td>\n",
       "      <td>2.5</td>\n",
       "      <td>3.0</td>\n",
       "      <td>7.207848</td>\n",
       "    </tr>\n",
       "  </tbody>\n",
       "</table>\n",
       "</div>"
      ],
      "text/plain": [
       "      Strain  Orien  Aspect   predict\n",
       "Size                                 \n",
       "1        2.5    2.5     3.0  7.207848\n",
       "2        2.5    2.5     3.0  7.207848"
      ]
     },
     "execution_count": 235,
     "metadata": {},
     "output_type": "execute_result"
    }
   ],
   "source": [
    "size_size_close = size_close_result.groupby('Size').mean()\n",
    "size_size_close"
   ]
  },
  {
   "cell_type": "code",
   "execution_count": 236,
   "metadata": {},
   "outputs": [
    {
     "name": "stdout",
     "output_type": "stream",
     "text": [
      "サイズ 変化度：1.00\n"
     ]
    }
   ],
   "source": [
    "print('サイズ 変化度：{0:0.2f}'.format(size_size_close.iloc[1][3]/size_size_close.iloc[0][3]))"
   ]
  },
  {
   "cell_type": "raw",
   "metadata": {},
   "source": [
    "サイズ 1,2\n",
    "[3.06, 0.96, 0.94, 1.0]"
   ]
  },
  {
   "cell_type": "code",
   "execution_count": null,
   "metadata": {},
   "outputs": [],
   "source": []
  },
  {
   "cell_type": "code",
   "execution_count": 237,
   "metadata": {},
   "outputs": [],
   "source": [
    "#　同様にsize = [3,4]"
   ]
  },
  {
   "cell_type": "code",
   "execution_count": 238,
   "metadata": {},
   "outputs": [],
   "source": [
    "onefour = [1,4]\n",
    "threefour = [3,4]\n",
    "onefive = [1,5]\n",
    "temp5 = []\n",
    "temp6 = []\n",
    "for a in onefour:\n",
    "    for b in onefour:\n",
    "        for c in onefive:\n",
    "            for d in threefour:\n",
    "                temp5 = temp5+[a]+[b]+[c]+[d]\n",
    "                temp6 = temp6 + [temp5]\n",
    "                temp5 = []"
   ]
  },
  {
   "cell_type": "code",
   "execution_count": 239,
   "metadata": {},
   "outputs": [
    {
     "data": {
      "text/plain": [
       "[[1, 1, 1, 3],\n",
       " [1, 1, 1, 4],\n",
       " [1, 1, 5, 3],\n",
       " [1, 1, 5, 4],\n",
       " [1, 4, 1, 3],\n",
       " [1, 4, 1, 4],\n",
       " [1, 4, 5, 3],\n",
       " [1, 4, 5, 4],\n",
       " [4, 1, 1, 3],\n",
       " [4, 1, 1, 4],\n",
       " [4, 1, 5, 3],\n",
       " [4, 1, 5, 4],\n",
       " [4, 4, 1, 3],\n",
       " [4, 4, 1, 4],\n",
       " [4, 4, 5, 3],\n",
       " [4, 4, 5, 4]]"
      ]
     },
     "execution_count": 239,
     "metadata": {},
     "output_type": "execute_result"
    }
   ],
   "source": [
    "temp6"
   ]
  },
  {
   "cell_type": "code",
   "execution_count": 240,
   "metadata": {
    "scrolled": true
   },
   "outputs": [
    {
     "data": {
      "text/plain": [
       "array([13.48169179, 13.48169179, 13.00797319, 13.00797319, 13.19137315,\n",
       "       13.19137315, 12.71765455, 12.71765455, 20.78747882, 20.78747882,\n",
       "       20.31376021, 20.31376021, 20.49716017, 20.49716017, 20.02344157,\n",
       "       20.02344157])"
      ]
     },
     "execution_count": 240,
     "metadata": {},
     "output_type": "execute_result"
    }
   ],
   "source": [
    "prediction_size_close = model_lgb.predict(np.array(temp6))\n",
    "prediction_size_close"
   ]
  },
  {
   "cell_type": "code",
   "execution_count": 241,
   "metadata": {},
   "outputs": [],
   "source": [
    "clmns = all_data.drop('Subtraction', axis=1).columns\n",
    "e = pd.DataFrame(prediction_size_close.reshape(-1,1), columns=['predict'])\n",
    "f = pd.DataFrame(temp6, columns=clmns)"
   ]
  },
  {
   "cell_type": "code",
   "execution_count": 242,
   "metadata": {},
   "outputs": [
    {
     "data": {
      "text/html": [
       "<div>\n",
       "<style scoped>\n",
       "    .dataframe tbody tr th:only-of-type {\n",
       "        vertical-align: middle;\n",
       "    }\n",
       "\n",
       "    .dataframe tbody tr th {\n",
       "        vertical-align: top;\n",
       "    }\n",
       "\n",
       "    .dataframe thead th {\n",
       "        text-align: right;\n",
       "    }\n",
       "</style>\n",
       "<table border=\"1\" class=\"dataframe\">\n",
       "  <thead>\n",
       "    <tr style=\"text-align: right;\">\n",
       "      <th></th>\n",
       "      <th>Strain</th>\n",
       "      <th>Orien</th>\n",
       "      <th>Aspect</th>\n",
       "      <th>Size</th>\n",
       "      <th>predict</th>\n",
       "    </tr>\n",
       "  </thead>\n",
       "  <tbody>\n",
       "    <tr>\n",
       "      <th>0</th>\n",
       "      <td>1</td>\n",
       "      <td>1</td>\n",
       "      <td>1</td>\n",
       "      <td>3</td>\n",
       "      <td>13.481692</td>\n",
       "    </tr>\n",
       "    <tr>\n",
       "      <th>1</th>\n",
       "      <td>1</td>\n",
       "      <td>1</td>\n",
       "      <td>1</td>\n",
       "      <td>4</td>\n",
       "      <td>13.481692</td>\n",
       "    </tr>\n",
       "    <tr>\n",
       "      <th>2</th>\n",
       "      <td>1</td>\n",
       "      <td>1</td>\n",
       "      <td>5</td>\n",
       "      <td>3</td>\n",
       "      <td>13.007973</td>\n",
       "    </tr>\n",
       "    <tr>\n",
       "      <th>3</th>\n",
       "      <td>1</td>\n",
       "      <td>1</td>\n",
       "      <td>5</td>\n",
       "      <td>4</td>\n",
       "      <td>13.007973</td>\n",
       "    </tr>\n",
       "    <tr>\n",
       "      <th>4</th>\n",
       "      <td>1</td>\n",
       "      <td>4</td>\n",
       "      <td>1</td>\n",
       "      <td>3</td>\n",
       "      <td>13.191373</td>\n",
       "    </tr>\n",
       "    <tr>\n",
       "      <th>5</th>\n",
       "      <td>1</td>\n",
       "      <td>4</td>\n",
       "      <td>1</td>\n",
       "      <td>4</td>\n",
       "      <td>13.191373</td>\n",
       "    </tr>\n",
       "    <tr>\n",
       "      <th>6</th>\n",
       "      <td>1</td>\n",
       "      <td>4</td>\n",
       "      <td>5</td>\n",
       "      <td>3</td>\n",
       "      <td>12.717655</td>\n",
       "    </tr>\n",
       "    <tr>\n",
       "      <th>7</th>\n",
       "      <td>1</td>\n",
       "      <td>4</td>\n",
       "      <td>5</td>\n",
       "      <td>4</td>\n",
       "      <td>12.717655</td>\n",
       "    </tr>\n",
       "    <tr>\n",
       "      <th>8</th>\n",
       "      <td>4</td>\n",
       "      <td>1</td>\n",
       "      <td>1</td>\n",
       "      <td>3</td>\n",
       "      <td>20.787479</td>\n",
       "    </tr>\n",
       "    <tr>\n",
       "      <th>9</th>\n",
       "      <td>4</td>\n",
       "      <td>1</td>\n",
       "      <td>1</td>\n",
       "      <td>4</td>\n",
       "      <td>20.787479</td>\n",
       "    </tr>\n",
       "    <tr>\n",
       "      <th>10</th>\n",
       "      <td>4</td>\n",
       "      <td>1</td>\n",
       "      <td>5</td>\n",
       "      <td>3</td>\n",
       "      <td>20.313760</td>\n",
       "    </tr>\n",
       "    <tr>\n",
       "      <th>11</th>\n",
       "      <td>4</td>\n",
       "      <td>1</td>\n",
       "      <td>5</td>\n",
       "      <td>4</td>\n",
       "      <td>20.313760</td>\n",
       "    </tr>\n",
       "    <tr>\n",
       "      <th>12</th>\n",
       "      <td>4</td>\n",
       "      <td>4</td>\n",
       "      <td>1</td>\n",
       "      <td>3</td>\n",
       "      <td>20.497160</td>\n",
       "    </tr>\n",
       "    <tr>\n",
       "      <th>13</th>\n",
       "      <td>4</td>\n",
       "      <td>4</td>\n",
       "      <td>1</td>\n",
       "      <td>4</td>\n",
       "      <td>20.497160</td>\n",
       "    </tr>\n",
       "    <tr>\n",
       "      <th>14</th>\n",
       "      <td>4</td>\n",
       "      <td>4</td>\n",
       "      <td>5</td>\n",
       "      <td>3</td>\n",
       "      <td>20.023442</td>\n",
       "    </tr>\n",
       "    <tr>\n",
       "      <th>15</th>\n",
       "      <td>4</td>\n",
       "      <td>4</td>\n",
       "      <td>5</td>\n",
       "      <td>4</td>\n",
       "      <td>20.023442</td>\n",
       "    </tr>\n",
       "  </tbody>\n",
       "</table>\n",
       "</div>"
      ],
      "text/plain": [
       "    Strain  Orien  Aspect  Size    predict\n",
       "0        1      1       1     3  13.481692\n",
       "1        1      1       1     4  13.481692\n",
       "2        1      1       5     3  13.007973\n",
       "3        1      1       5     4  13.007973\n",
       "4        1      4       1     3  13.191373\n",
       "5        1      4       1     4  13.191373\n",
       "6        1      4       5     3  12.717655\n",
       "7        1      4       5     4  12.717655\n",
       "8        4      1       1     3  20.787479\n",
       "9        4      1       1     4  20.787479\n",
       "10       4      1       5     3  20.313760\n",
       "11       4      1       5     4  20.313760\n",
       "12       4      4       1     3  20.497160\n",
       "13       4      4       1     4  20.497160\n",
       "14       4      4       5     3  20.023442\n",
       "15       4      4       5     4  20.023442"
      ]
     },
     "execution_count": 242,
     "metadata": {},
     "output_type": "execute_result"
    }
   ],
   "source": [
    "size_close_result = pd.concat([f,e], axis=1)\n",
    "size_close_result"
   ]
  },
  {
   "cell_type": "code",
   "execution_count": 243,
   "metadata": {
    "scrolled": true
   },
   "outputs": [
    {
     "data": {
      "text/html": [
       "<div>\n",
       "<style scoped>\n",
       "    .dataframe tbody tr th:only-of-type {\n",
       "        vertical-align: middle;\n",
       "    }\n",
       "\n",
       "    .dataframe tbody tr th {\n",
       "        vertical-align: top;\n",
       "    }\n",
       "\n",
       "    .dataframe thead th {\n",
       "        text-align: right;\n",
       "    }\n",
       "</style>\n",
       "<table border=\"1\" class=\"dataframe\">\n",
       "  <thead>\n",
       "    <tr style=\"text-align: right;\">\n",
       "      <th></th>\n",
       "      <th>Orien</th>\n",
       "      <th>Aspect</th>\n",
       "      <th>Size</th>\n",
       "      <th>predict</th>\n",
       "    </tr>\n",
       "    <tr>\n",
       "      <th>Strain</th>\n",
       "      <th></th>\n",
       "      <th></th>\n",
       "      <th></th>\n",
       "      <th></th>\n",
       "    </tr>\n",
       "  </thead>\n",
       "  <tbody>\n",
       "    <tr>\n",
       "      <th>1</th>\n",
       "      <td>2.5</td>\n",
       "      <td>3.0</td>\n",
       "      <td>3.5</td>\n",
       "      <td>13.099673</td>\n",
       "    </tr>\n",
       "    <tr>\n",
       "      <th>4</th>\n",
       "      <td>2.5</td>\n",
       "      <td>3.0</td>\n",
       "      <td>3.5</td>\n",
       "      <td>20.405460</td>\n",
       "    </tr>\n",
       "  </tbody>\n",
       "</table>\n",
       "</div>"
      ],
      "text/plain": [
       "        Orien  Aspect  Size    predict\n",
       "Strain                                \n",
       "1         2.5     3.0   3.5  13.099673\n",
       "4         2.5     3.0   3.5  20.405460"
      ]
     },
     "execution_count": 243,
     "metadata": {},
     "output_type": "execute_result"
    }
   ],
   "source": [
    "strain_size_close = size_close_result.groupby('Strain').mean()\n",
    "strain_size_close"
   ]
  },
  {
   "cell_type": "code",
   "execution_count": 244,
   "metadata": {},
   "outputs": [
    {
     "name": "stdout",
     "output_type": "stream",
     "text": [
      "ひずみ 変化度：1.56\n"
     ]
    }
   ],
   "source": [
    "print('ひずみ 変化度：{0:0.2f}'.format(strain_size_close.iloc[1][3]/strain_size_close.iloc[0][3]))"
   ]
  },
  {
   "cell_type": "code",
   "execution_count": 245,
   "metadata": {
    "scrolled": false
   },
   "outputs": [
    {
     "data": {
      "text/html": [
       "<div>\n",
       "<style scoped>\n",
       "    .dataframe tbody tr th:only-of-type {\n",
       "        vertical-align: middle;\n",
       "    }\n",
       "\n",
       "    .dataframe tbody tr th {\n",
       "        vertical-align: top;\n",
       "    }\n",
       "\n",
       "    .dataframe thead th {\n",
       "        text-align: right;\n",
       "    }\n",
       "</style>\n",
       "<table border=\"1\" class=\"dataframe\">\n",
       "  <thead>\n",
       "    <tr style=\"text-align: right;\">\n",
       "      <th></th>\n",
       "      <th>Strain</th>\n",
       "      <th>Aspect</th>\n",
       "      <th>Size</th>\n",
       "      <th>predict</th>\n",
       "    </tr>\n",
       "    <tr>\n",
       "      <th>Orien</th>\n",
       "      <th></th>\n",
       "      <th></th>\n",
       "      <th></th>\n",
       "      <th></th>\n",
       "    </tr>\n",
       "  </thead>\n",
       "  <tbody>\n",
       "    <tr>\n",
       "      <th>1</th>\n",
       "      <td>2.5</td>\n",
       "      <td>3.0</td>\n",
       "      <td>3.5</td>\n",
       "      <td>16.897726</td>\n",
       "    </tr>\n",
       "    <tr>\n",
       "      <th>4</th>\n",
       "      <td>2.5</td>\n",
       "      <td>3.0</td>\n",
       "      <td>3.5</td>\n",
       "      <td>16.607407</td>\n",
       "    </tr>\n",
       "  </tbody>\n",
       "</table>\n",
       "</div>"
      ],
      "text/plain": [
       "       Strain  Aspect  Size    predict\n",
       "Orien                                 \n",
       "1         2.5     3.0   3.5  16.897726\n",
       "4         2.5     3.0   3.5  16.607407"
      ]
     },
     "execution_count": 245,
     "metadata": {},
     "output_type": "execute_result"
    }
   ],
   "source": [
    "orien_size_close = size_close_result.groupby('Orien').mean()\n",
    "orien_size_close"
   ]
  },
  {
   "cell_type": "code",
   "execution_count": 246,
   "metadata": {},
   "outputs": [
    {
     "name": "stdout",
     "output_type": "stream",
     "text": [
      "結晶方向 変化度：0.98\n"
     ]
    }
   ],
   "source": [
    "print('結晶方向 変化度：{0:0.2f}'.format(orien_size_close.iloc[1][3]/orien_size_close.iloc[0][3]))"
   ]
  },
  {
   "cell_type": "code",
   "execution_count": 247,
   "metadata": {
    "scrolled": true
   },
   "outputs": [
    {
     "data": {
      "text/html": [
       "<div>\n",
       "<style scoped>\n",
       "    .dataframe tbody tr th:only-of-type {\n",
       "        vertical-align: middle;\n",
       "    }\n",
       "\n",
       "    .dataframe tbody tr th {\n",
       "        vertical-align: top;\n",
       "    }\n",
       "\n",
       "    .dataframe thead th {\n",
       "        text-align: right;\n",
       "    }\n",
       "</style>\n",
       "<table border=\"1\" class=\"dataframe\">\n",
       "  <thead>\n",
       "    <tr style=\"text-align: right;\">\n",
       "      <th></th>\n",
       "      <th>Strain</th>\n",
       "      <th>Orien</th>\n",
       "      <th>Size</th>\n",
       "      <th>predict</th>\n",
       "    </tr>\n",
       "    <tr>\n",
       "      <th>Aspect</th>\n",
       "      <th></th>\n",
       "      <th></th>\n",
       "      <th></th>\n",
       "      <th></th>\n",
       "    </tr>\n",
       "  </thead>\n",
       "  <tbody>\n",
       "    <tr>\n",
       "      <th>1</th>\n",
       "      <td>2.5</td>\n",
       "      <td>2.5</td>\n",
       "      <td>3.5</td>\n",
       "      <td>16.989426</td>\n",
       "    </tr>\n",
       "    <tr>\n",
       "      <th>5</th>\n",
       "      <td>2.5</td>\n",
       "      <td>2.5</td>\n",
       "      <td>3.5</td>\n",
       "      <td>16.515707</td>\n",
       "    </tr>\n",
       "  </tbody>\n",
       "</table>\n",
       "</div>"
      ],
      "text/plain": [
       "        Strain  Orien  Size    predict\n",
       "Aspect                                \n",
       "1          2.5    2.5   3.5  16.989426\n",
       "5          2.5    2.5   3.5  16.515707"
      ]
     },
     "execution_count": 247,
     "metadata": {},
     "output_type": "execute_result"
    }
   ],
   "source": [
    "aspect_size_close = size_close_result.groupby('Aspect').mean()\n",
    "aspect_size_close"
   ]
  },
  {
   "cell_type": "code",
   "execution_count": 248,
   "metadata": {},
   "outputs": [
    {
     "name": "stdout",
     "output_type": "stream",
     "text": [
      "アス比 変化度：0.97\n"
     ]
    }
   ],
   "source": [
    "print('アス比 変化度：{0:0.2f}'.format(aspect_size_close.iloc[1][3]/aspect_size_close.iloc[0][3]))"
   ]
  },
  {
   "cell_type": "code",
   "execution_count": 249,
   "metadata": {
    "scrolled": true
   },
   "outputs": [
    {
     "data": {
      "text/html": [
       "<div>\n",
       "<style scoped>\n",
       "    .dataframe tbody tr th:only-of-type {\n",
       "        vertical-align: middle;\n",
       "    }\n",
       "\n",
       "    .dataframe tbody tr th {\n",
       "        vertical-align: top;\n",
       "    }\n",
       "\n",
       "    .dataframe thead th {\n",
       "        text-align: right;\n",
       "    }\n",
       "</style>\n",
       "<table border=\"1\" class=\"dataframe\">\n",
       "  <thead>\n",
       "    <tr style=\"text-align: right;\">\n",
       "      <th></th>\n",
       "      <th>Strain</th>\n",
       "      <th>Orien</th>\n",
       "      <th>Aspect</th>\n",
       "      <th>predict</th>\n",
       "    </tr>\n",
       "    <tr>\n",
       "      <th>Size</th>\n",
       "      <th></th>\n",
       "      <th></th>\n",
       "      <th></th>\n",
       "      <th></th>\n",
       "    </tr>\n",
       "  </thead>\n",
       "  <tbody>\n",
       "    <tr>\n",
       "      <th>3</th>\n",
       "      <td>2.5</td>\n",
       "      <td>2.5</td>\n",
       "      <td>3.0</td>\n",
       "      <td>16.752567</td>\n",
       "    </tr>\n",
       "    <tr>\n",
       "      <th>4</th>\n",
       "      <td>2.5</td>\n",
       "      <td>2.5</td>\n",
       "      <td>3.0</td>\n",
       "      <td>16.752567</td>\n",
       "    </tr>\n",
       "  </tbody>\n",
       "</table>\n",
       "</div>"
      ],
      "text/plain": [
       "      Strain  Orien  Aspect    predict\n",
       "Size                                  \n",
       "3        2.5    2.5     3.0  16.752567\n",
       "4        2.5    2.5     3.0  16.752567"
      ]
     },
     "execution_count": 249,
     "metadata": {},
     "output_type": "execute_result"
    }
   ],
   "source": [
    "size_size_close = size_close_result.groupby('Size').mean()\n",
    "size_size_close"
   ]
  },
  {
   "cell_type": "code",
   "execution_count": 250,
   "metadata": {},
   "outputs": [
    {
     "name": "stdout",
     "output_type": "stream",
     "text": [
      "サイズ 変化度：1.00\n"
     ]
    }
   ],
   "source": [
    "print('サイズ 変化度：{0:0.2f}'.format(size_size_close.iloc[1][3]/size_size_close.iloc[0][3]))"
   ]
  },
  {
   "cell_type": "raw",
   "metadata": {},
   "source": [
    "サイズ 3,4\n",
    "[1.56, 0.98, 0.97, 1.0]"
   ]
  },
  {
   "cell_type": "code",
   "execution_count": null,
   "metadata": {},
   "outputs": [],
   "source": []
  },
  {
   "cell_type": "code",
   "execution_count": null,
   "metadata": {},
   "outputs": [],
   "source": []
  },
  {
   "cell_type": "code",
   "execution_count": null,
   "metadata": {},
   "outputs": [],
   "source": []
  },
  {
   "cell_type": "markdown",
   "metadata": {},
   "source": [
    "# PCAで寄与度評価してみる"
   ]
  },
  {
   "cell_type": "code",
   "execution_count": 251,
   "metadata": {
    "scrolled": false
   },
   "outputs": [],
   "source": [
    "col = np.array([i for i in all_data.columns if not i == 'Subtraction'])\n",
    "train_dataframe = pd.DataFrame(train, columns=col)"
   ]
  },
  {
   "cell_type": "code",
   "execution_count": 252,
   "metadata": {},
   "outputs": [
    {
     "data": {
      "text/plain": [
       "array([0.37986018, 0.28368638, 0.22872427, 0.10772917])"
      ]
     },
     "execution_count": 252,
     "metadata": {},
     "output_type": "execute_result"
    }
   ],
   "source": [
    "from sklearn.decomposition import PCA\n",
    "    \n",
    "pca = PCA()\n",
    "train_pca = pca.fit_transform(pd.DataFrame(train_dataframe))\n",
    "pca.explained_variance_ratio_"
   ]
  },
  {
   "cell_type": "code",
   "execution_count": null,
   "metadata": {},
   "outputs": [],
   "source": []
  },
  {
   "cell_type": "markdown",
   "metadata": {},
   "source": [
    "# Aspect, Sizeを標準化させ、numericalのままSubtractionをLogistic Regressionに。"
   ]
  },
  {
   "cell_type": "code",
   "execution_count": 253,
   "metadata": {
    "scrolled": true
   },
   "outputs": [
    {
     "data": {
      "text/html": [
       "<div>\n",
       "<style scoped>\n",
       "    .dataframe tbody tr th:only-of-type {\n",
       "        vertical-align: middle;\n",
       "    }\n",
       "\n",
       "    .dataframe tbody tr th {\n",
       "        vertical-align: top;\n",
       "    }\n",
       "\n",
       "    .dataframe thead th {\n",
       "        text-align: right;\n",
       "    }\n",
       "</style>\n",
       "<table border=\"1\" class=\"dataframe\">\n",
       "  <thead>\n",
       "    <tr style=\"text-align: right;\">\n",
       "      <th></th>\n",
       "      <th>Strain</th>\n",
       "      <th>Orien</th>\n",
       "      <th>Aspect</th>\n",
       "      <th>Size</th>\n",
       "      <th>Subtraction</th>\n",
       "    </tr>\n",
       "  </thead>\n",
       "  <tbody>\n",
       "    <tr>\n",
       "      <th>0</th>\n",
       "      <td>1</td>\n",
       "      <td>4</td>\n",
       "      <td>0.589215</td>\n",
       "      <td>203.32</td>\n",
       "      <td>117.53</td>\n",
       "    </tr>\n",
       "    <tr>\n",
       "      <th>1</th>\n",
       "      <td>2</td>\n",
       "      <td>4</td>\n",
       "      <td>0.290944</td>\n",
       "      <td>15.91</td>\n",
       "      <td>13.29</td>\n",
       "    </tr>\n",
       "    <tr>\n",
       "      <th>2</th>\n",
       "      <td>3</td>\n",
       "      <td>1</td>\n",
       "      <td>0.256198</td>\n",
       "      <td>257.93</td>\n",
       "      <td>202.06</td>\n",
       "    </tr>\n",
       "    <tr>\n",
       "      <th>3</th>\n",
       "      <td>2</td>\n",
       "      <td>4</td>\n",
       "      <td>0.120000</td>\n",
       "      <td>84.60</td>\n",
       "      <td>52.88</td>\n",
       "    </tr>\n",
       "    <tr>\n",
       "      <th>4</th>\n",
       "      <td>2</td>\n",
       "      <td>2</td>\n",
       "      <td>0.340909</td>\n",
       "      <td>21.04</td>\n",
       "      <td>18.55</td>\n",
       "    </tr>\n",
       "  </tbody>\n",
       "</table>\n",
       "</div>"
      ],
      "text/plain": [
       "   Strain  Orien    Aspect    Size  Subtraction\n",
       "0       1      4  0.589215  203.32       117.53\n",
       "1       2      4  0.290944   15.91        13.29\n",
       "2       3      1  0.256198  257.93       202.06\n",
       "3       2      4  0.120000   84.60        52.88\n",
       "4       2      2  0.340909   21.04        18.55"
      ]
     },
     "execution_count": 253,
     "metadata": {},
     "output_type": "execute_result"
    }
   ],
   "source": [
    "kei_all_data = pd.read_csv('input_microSubtraction.csv')\n",
    "kei_all_data.head()"
   ]
  },
  {
   "cell_type": "code",
   "execution_count": 254,
   "metadata": {},
   "outputs": [],
   "source": [
    "y = kei_all_data.Subtraction\n",
    "X = kei_all_data.drop('Subtraction', axis=1)"
   ]
  },
  {
   "cell_type": "code",
   "execution_count": 255,
   "metadata": {
    "scrolled": true
   },
   "outputs": [],
   "source": [
    "for index, i in enumerate(y):\n",
    "    if i<=3.33:\n",
    "        y[index] = 1\n",
    "    elif i>3.33 and i<=8.165:\n",
    "        y[index] = 2\n",
    "    elif i>8.165 and i<=19:\n",
    "        y[index] = 3\n",
    "    else:\n",
    "        y[index] = 4"
   ]
  },
  {
   "cell_type": "code",
   "execution_count": 256,
   "metadata": {},
   "outputs": [],
   "source": [
    "from sklearn.preprocessing import StandardScaler\n",
    "sc = StandardScaler()\n",
    "X_std = sc.fit_transform(X.iloc[:, [2,3]])\n",
    "X_std = sc.transform(X.iloc[:, [2,3]])"
   ]
  },
  {
   "cell_type": "code",
   "execution_count": 257,
   "metadata": {},
   "outputs": [],
   "source": [
    "X = pd.concat([X.iloc[:, [0,1]], pd.DataFrame(X_std, columns=['Aspect', 'Size'])], axis=1)"
   ]
  },
  {
   "cell_type": "raw",
   "metadata": {},
   "source": [
    "ここで書くなら log1p(X.Size)"
   ]
  },
  {
   "cell_type": "code",
   "execution_count": 258,
   "metadata": {},
   "outputs": [],
   "source": [
    "from sklearn.cross_validation import train_test_split\n",
    "X_train, X_test, y_train, y_test = train_test_split(X, y, test_size=0.1, random_state=0)"
   ]
  },
  {
   "cell_type": "code",
   "execution_count": 259,
   "metadata": {},
   "outputs": [
    {
     "data": {
      "text/plain": [
       "0.5379310344827586"
      ]
     },
     "execution_count": 259,
     "metadata": {},
     "output_type": "execute_result"
    }
   ],
   "source": [
    "# 層化 k 分割交差検証\n",
    "from sklearn.model_selection import StratifiedKFold, cross_val_score\n",
    "from sklearn.linear_model import LogisticRegression\n",
    "\n",
    "lr = LogisticRegression()\n",
    "lr.fit(X_train, y_train)\n",
    "\n",
    "stratifiedkfold = StratifiedKFold(n_splits=5)\n",
    "scores = cross_val_score(lr, X_train, y_train, cv=stratifiedkfold)\n",
    "np.mean(scores)"
   ]
  },
  {
   "cell_type": "raw",
   "metadata": {},
   "source": [
    "終わった。。おそらくLogistic Regressionは回帰向きじゃないのかも"
   ]
  },
  {
   "cell_type": "code",
   "execution_count": null,
   "metadata": {},
   "outputs": [],
   "source": []
  },
  {
   "cell_type": "markdown",
   "metadata": {},
   "source": [
    "# 全ての特徴量をCategoricalにし、Logistic Regressionに。"
   ]
  },
  {
   "cell_type": "code",
   "execution_count": 260,
   "metadata": {
    "scrolled": true
   },
   "outputs": [
    {
     "data": {
      "text/html": [
       "<div>\n",
       "<style scoped>\n",
       "    .dataframe tbody tr th:only-of-type {\n",
       "        vertical-align: middle;\n",
       "    }\n",
       "\n",
       "    .dataframe tbody tr th {\n",
       "        vertical-align: top;\n",
       "    }\n",
       "\n",
       "    .dataframe thead th {\n",
       "        text-align: right;\n",
       "    }\n",
       "</style>\n",
       "<table border=\"1\" class=\"dataframe\">\n",
       "  <thead>\n",
       "    <tr style=\"text-align: right;\">\n",
       "      <th></th>\n",
       "      <th>Strain_1</th>\n",
       "      <th>Strain_2</th>\n",
       "      <th>Strain_3</th>\n",
       "      <th>Strain_4</th>\n",
       "      <th>Orien_1</th>\n",
       "      <th>Orien_2</th>\n",
       "      <th>Orien_3</th>\n",
       "      <th>Orien_4</th>\n",
       "      <th>Aspect_1.0</th>\n",
       "      <th>Aspect_2.0</th>\n",
       "      <th>Aspect_3.0</th>\n",
       "      <th>Aspect_4.0</th>\n",
       "      <th>Aspect_5.0</th>\n",
       "      <th>Size_1.0</th>\n",
       "      <th>Size_2.0</th>\n",
       "      <th>Size_3.0</th>\n",
       "      <th>Size_4.0</th>\n",
       "      <th>Size_5.0</th>\n",
       "      <th>sub</th>\n",
       "    </tr>\n",
       "  </thead>\n",
       "  <tbody>\n",
       "    <tr>\n",
       "      <th>0</th>\n",
       "      <td>1</td>\n",
       "      <td>0</td>\n",
       "      <td>0</td>\n",
       "      <td>0</td>\n",
       "      <td>0</td>\n",
       "      <td>0</td>\n",
       "      <td>0</td>\n",
       "      <td>1</td>\n",
       "      <td>0</td>\n",
       "      <td>0</td>\n",
       "      <td>0</td>\n",
       "      <td>1</td>\n",
       "      <td>0</td>\n",
       "      <td>0</td>\n",
       "      <td>0</td>\n",
       "      <td>0</td>\n",
       "      <td>0</td>\n",
       "      <td>1</td>\n",
       "      <td>117.53</td>\n",
       "    </tr>\n",
       "    <tr>\n",
       "      <th>1</th>\n",
       "      <td>0</td>\n",
       "      <td>1</td>\n",
       "      <td>0</td>\n",
       "      <td>0</td>\n",
       "      <td>0</td>\n",
       "      <td>0</td>\n",
       "      <td>0</td>\n",
       "      <td>1</td>\n",
       "      <td>0</td>\n",
       "      <td>1</td>\n",
       "      <td>0</td>\n",
       "      <td>0</td>\n",
       "      <td>0</td>\n",
       "      <td>0</td>\n",
       "      <td>0</td>\n",
       "      <td>1</td>\n",
       "      <td>0</td>\n",
       "      <td>0</td>\n",
       "      <td>13.29</td>\n",
       "    </tr>\n",
       "    <tr>\n",
       "      <th>2</th>\n",
       "      <td>0</td>\n",
       "      <td>0</td>\n",
       "      <td>1</td>\n",
       "      <td>0</td>\n",
       "      <td>1</td>\n",
       "      <td>0</td>\n",
       "      <td>0</td>\n",
       "      <td>0</td>\n",
       "      <td>1</td>\n",
       "      <td>0</td>\n",
       "      <td>0</td>\n",
       "      <td>0</td>\n",
       "      <td>0</td>\n",
       "      <td>0</td>\n",
       "      <td>0</td>\n",
       "      <td>0</td>\n",
       "      <td>0</td>\n",
       "      <td>1</td>\n",
       "      <td>202.06</td>\n",
       "    </tr>\n",
       "    <tr>\n",
       "      <th>3</th>\n",
       "      <td>0</td>\n",
       "      <td>1</td>\n",
       "      <td>0</td>\n",
       "      <td>0</td>\n",
       "      <td>0</td>\n",
       "      <td>0</td>\n",
       "      <td>0</td>\n",
       "      <td>1</td>\n",
       "      <td>1</td>\n",
       "      <td>0</td>\n",
       "      <td>0</td>\n",
       "      <td>0</td>\n",
       "      <td>0</td>\n",
       "      <td>0</td>\n",
       "      <td>0</td>\n",
       "      <td>0</td>\n",
       "      <td>0</td>\n",
       "      <td>1</td>\n",
       "      <td>52.88</td>\n",
       "    </tr>\n",
       "    <tr>\n",
       "      <th>4</th>\n",
       "      <td>0</td>\n",
       "      <td>1</td>\n",
       "      <td>0</td>\n",
       "      <td>0</td>\n",
       "      <td>0</td>\n",
       "      <td>1</td>\n",
       "      <td>0</td>\n",
       "      <td>0</td>\n",
       "      <td>0</td>\n",
       "      <td>1</td>\n",
       "      <td>0</td>\n",
       "      <td>0</td>\n",
       "      <td>0</td>\n",
       "      <td>0</td>\n",
       "      <td>0</td>\n",
       "      <td>0</td>\n",
       "      <td>1</td>\n",
       "      <td>0</td>\n",
       "      <td>18.55</td>\n",
       "    </tr>\n",
       "  </tbody>\n",
       "</table>\n",
       "</div>"
      ],
      "text/plain": [
       "   Strain_1  Strain_2  Strain_3  Strain_4  Orien_1  Orien_2  Orien_3  Orien_4  \\\n",
       "0         1         0         0         0        0        0        0        1   \n",
       "1         0         1         0         0        0        0        0        1   \n",
       "2         0         0         1         0        1        0        0        0   \n",
       "3         0         1         0         0        0        0        0        1   \n",
       "4         0         1         0         0        0        1        0        0   \n",
       "\n",
       "   Aspect_1.0  Aspect_2.0  Aspect_3.0  Aspect_4.0  Aspect_5.0  Size_1.0  \\\n",
       "0           0           0           0           1           0         0   \n",
       "1           0           1           0           0           0         0   \n",
       "2           1           0           0           0           0         0   \n",
       "3           1           0           0           0           0         0   \n",
       "4           0           1           0           0           0         0   \n",
       "\n",
       "   Size_2.0  Size_3.0  Size_4.0  Size_5.0     sub  \n",
       "0         0         0         0         1  117.53  \n",
       "1         0         1         0         0   13.29  \n",
       "2         0         0         0         1  202.06  \n",
       "3         0         0         0         1   52.88  \n",
       "4         0         0         1         0   18.55  "
      ]
     },
     "execution_count": 260,
     "metadata": {},
     "output_type": "execute_result"
    }
   ],
   "source": [
    "# subtraction_before_dummy.csvでもできる。\n",
    "all_data = pd.read_csv('subtraction_get_dummy.csv')\n",
    "all_data.head()"
   ]
  },
  {
   "cell_type": "code",
   "execution_count": 261,
   "metadata": {},
   "outputs": [],
   "source": [
    "y = all_data['sub']\n",
    "X = all_data.drop('sub', axis=1)"
   ]
  },
  {
   "cell_type": "code",
   "execution_count": 262,
   "metadata": {
    "scrolled": true
   },
   "outputs": [],
   "source": [
    "for index, i in enumerate(y):\n",
    "    if i<=3.33:\n",
    "        y[index] = 1\n",
    "    elif i>3.33 and i<=8.165:\n",
    "        y[index] = 2\n",
    "    elif i>8.165 and i<=19:\n",
    "        y[index] = 3\n",
    "    else:\n",
    "        y[index] = 4"
   ]
  },
  {
   "cell_type": "code",
   "execution_count": 263,
   "metadata": {
    "scrolled": true
   },
   "outputs": [
    {
     "name": "stdout",
     "output_type": "stream",
     "text": [
      "0.47058823529411764\n",
      "0.47058823529411764\n"
     ]
    }
   ],
   "source": [
    "from sklearn import metrics\n",
    "from sklearn.cross_validation import train_test_split\n",
    "from sklearn.linear_model import LogisticRegression\n",
    "\n",
    "X_train, X_test, y_train, y_test = train_test_split(X, y, test_size=0.1, random_state=10)\n",
    "\n",
    "lr_onehot = LogisticRegression()\n",
    "lr_onehot.fit(X_train, y_train)\n",
    "Y_pred = lr_onehot.predict(X_test)\n",
    "\n",
    "print(metrics.accuracy_score(y_test,Y_pred))\n",
    "print(lr_onehot.score(X_test, y_test))"
   ]
  },
  {
   "cell_type": "code",
   "execution_count": 264,
   "metadata": {},
   "outputs": [
    {
     "data": {
      "text/plain": [
       "0.7550044984255511"
      ]
     },
     "execution_count": 264,
     "metadata": {},
     "output_type": "execute_result"
    }
   ],
   "source": [
    "# 層化 k 分割交差検証\n",
    "from sklearn.model_selection import StratifiedKFold, cross_val_score\n",
    "\n",
    "stratifiedkfold = StratifiedKFold(n_splits=4)\n",
    "scores = cross_val_score(lr_onehot, X_train, y_train, cv=stratifiedkfold)\n",
    "np.mean(scores)"
   ]
  },
  {
   "cell_type": "code",
   "execution_count": 353,
   "metadata": {},
   "outputs": [
    {
     "name": "stdout",
     "output_type": "stream",
     "text": [
      "test score max:  0.9411764705882353 random_state:  13\n",
      "cv score max:  0.7549668874172185 random_state:  31\n",
      "Test set score: 0.765\n",
      "Best parameters: {'C': 0.01}\n",
      "Best cross-validation: 0.709\n"
     ]
    }
   ],
   "source": [
    "#　GridSearchCVは内部で交差検証を行ってくれる上、最適なパラメータを教えてくれる。\n",
    "# SVC　でも代替可\n",
    "\n",
    "nrange = range(0,100)\n",
    "grid_score_test = []\n",
    "grid_score_cv = []\n",
    "max_score_test = 0\n",
    "max_score_cv = 0\n",
    "i_then_test = 0\n",
    "i_then_cv = 0\n",
    "\n",
    "for i in nrange:\n",
    "    param_grid = {'C': [0.00001, 0.0001, 0.0005, 0.001, 0.01]}\n",
    "\n",
    "    X_train, X_test, y_train, y_test = train_test_split(X, y, test_size=0.1, random_state=i)\n",
    "\n",
    "    lr_onehot = LogisticRegression()\n",
    "    grid_search = GridSearchCV(lr_onehot, param_grid, cv=5)\n",
    "    grid_search.fit(X_train, y_train)\n",
    "    grid_score_test.append(grid_search.score(X_test, y_test))\n",
    "    if max_score_test < grid_search.score(X_test, y_test):\n",
    "        max_score_test = grid_search.score(X_test, y_test)\n",
    "        i_then_test = i\n",
    "    grid_score_cv.append(grid_search.best_score_)\n",
    "    if max_score_cv < grid_search.best_score_:\n",
    "        max_score_cv = grid_search.best_score_\n",
    "        i_then_cv = i\n",
    "\n",
    "print('test score max: ', max_score_test, 'random_state: ', i_then_test)\n",
    "print('cv score max: ', max_score_cv, 'random_state: ', i_then_cv)\n",
    "\n",
    "print('Test set score: {0:0.3f}'.format(grid_search.score(X_test, y_test)))\n",
    "print('Best parameters: {}'.format(grid_search.best_params_))\n",
    "print('Best cross-validation: {0:0.3f}'.format(grid_search.best_score_))"
   ]
  },
  {
   "cell_type": "code",
   "execution_count": 266,
   "metadata": {},
   "outputs": [
    {
     "name": "stdout",
     "output_type": "stream",
     "text": [
      "Test set score: 0.765\n",
      "Best parameters: {'C': 0.01}\n",
      "Best cross-validation: 0.709\n"
     ]
    }
   ],
   "source": [
    "# 確認用\n",
    "\n",
    "from sklearn.model_selection import GridSearchCV\n",
    "\n",
    "param_grid = {'C': [0.00001, 0.0001, 0.0005, 0.001, 0.01]}\n",
    "            \n",
    "X_train, X_test, y_train, y_test = train_test_split(X, y, test_size=0.1, random_state=99)\n",
    "\n",
    "lr_onehot = LogisticRegression()\n",
    "grid_search = GridSearchCV(lr_onehot, param_grid, cv=5)\n",
    "grid_search.fit(X_train, y_train)\n",
    "\n",
    "print('Test set score: {0:0.3f}'.format(grid_search.score(X_test, y_test)))\n",
    "print('Best parameters: {}'.format(grid_search.best_params_))\n",
    "print('Best cross-validation: {0:0.3f}'.format(grid_search.best_score_))"
   ]
  },
  {
   "cell_type": "code",
   "execution_count": 267,
   "metadata": {
    "scrolled": true
   },
   "outputs": [
    {
     "data": {
      "text/plain": [
       "[<matplotlib.lines.Line2D at 0x10a0ee518>]"
      ]
     },
     "execution_count": 267,
     "metadata": {},
     "output_type": "execute_result"
    },
    {
     "data": {
      "image/png": "[encoded data removed]",
      "text/plain": [
       "<Figure size 432x288 with 1 Axes>"
      ]
     },
     "metadata": {},
     "output_type": "display_data"
    }
   ],
   "source": [
    "import matplotlib.pyplot as plt\n",
    "plt.title('search best grid_search.score(X_test, y_test) for test set')\n",
    "plt.plot(nrange, grid_score_test)"
   ]
  },
  {
   "cell_type": "code",
   "execution_count": 268,
   "metadata": {},
   "outputs": [
    {
     "data": {
      "text/plain": [
       "[<matplotlib.lines.Line2D at 0x10a0ee908>]"
      ]
     },
     "execution_count": 268,
     "metadata": {},
     "output_type": "execute_result"
    },
    {
     "data": {
      "image/png": "[encoded data removed]",
      "text/plain": [
       "<Figure size 432x288 with 1 Axes>"
      ]
     },
     "metadata": {},
     "output_type": "display_data"
    }
   ],
   "source": [
    "import matplotlib.pyplot as plt\n",
    "plt.title('search best grid_search.best_score_(X_test, y_test) for cv')\n",
    "plt.plot(nrange, grid_score_cv)"
   ]
  },
  {
   "cell_type": "code",
   "execution_count": 269,
   "metadata": {
    "scrolled": true
   },
   "outputs": [
    {
     "data": {
      "text/plain": [
       "LogisticRegression(C=0.01, class_weight=None, dual=False, fit_intercept=True,\n",
       "          intercept_scaling=1, max_iter=100, multi_class='ovr', n_jobs=1,\n",
       "          penalty='l2', random_state=None, solver='liblinear', tol=0.0001,\n",
       "          verbose=0, warm_start=False)"
      ]
     },
     "execution_count": 269,
     "metadata": {},
     "output_type": "execute_result"
    }
   ],
   "source": [
    "predictor = grid_search.best_estimator_\n",
    "predictor"
   ]
  },
  {
   "cell_type": "code",
   "execution_count": 270,
   "metadata": {
    "scrolled": false
   },
   "outputs": [
    {
     "data": {
      "text/plain": [
       "array([[-0.02786862, -0.06891568, -0.1186478 , -0.00563523, -0.05797508,\n",
       "        -0.04716085, -0.04642773, -0.06950367, -0.06879915, -0.02950296,\n",
       "        -0.03501566, -0.05072578, -0.03702379,  0.14817971, -0.03598125,\n",
       "        -0.11564758, -0.10508084, -0.11253737],\n",
       "       [-0.02130909, -0.0948153 , -0.05118555, -0.03479768,  0.01137726,\n",
       "        -0.04770201, -0.04018834, -0.12559453, -0.06286199, -0.05732471,\n",
       "        -0.04402229, -0.03411521, -0.00378341, -0.09437091,  0.081602  ,\n",
       "        -0.00614461, -0.06885048, -0.11434362],\n",
       "       [-0.05587498, -0.09192577, -0.07403953, -0.00419917, -0.06800008,\n",
       "        -0.04685751, -0.02670078, -0.08448107, -0.03476001, -0.03729212,\n",
       "        -0.04267834, -0.02111556, -0.09019341, -0.11141533, -0.10904986,\n",
       "         0.06188222,  0.00748016, -0.07493663],\n",
       "       [-0.02932723, -0.11909107, -0.04055993, -0.02519957, -0.07632592,\n",
       "        -0.02048326, -0.0482454 , -0.06912321,  0.00030498, -0.04765634,\n",
       "        -0.04258937, -0.06941055, -0.05482652, -0.11200217, -0.12022872,\n",
       "        -0.11627364,  0.0058152 ,  0.12851154]])"
      ]
     },
     "execution_count": 270,
     "metadata": {},
     "output_type": "execute_result"
    }
   ],
   "source": [
    "predictor.coef_"
   ]
  },
  {
   "cell_type": "code",
   "execution_count": 271,
   "metadata": {},
   "outputs": [
    {
     "data": {
      "text/plain": [
       "array([-0.22106733, -0.20210761, -0.22603944, -0.21417779])"
      ]
     },
     "execution_count": 271,
     "metadata": {},
     "output_type": "execute_result"
    }
   ],
   "source": [
    "predictor.intercept_"
   ]
  },
  {
   "cell_type": "code",
   "execution_count": 272,
   "metadata": {
    "scrolled": false
   },
   "outputs": [
    {
     "data": {
      "text/html": [
       "<div>\n",
       "<style scoped>\n",
       "    .dataframe tbody tr th:only-of-type {\n",
       "        vertical-align: middle;\n",
       "    }\n",
       "\n",
       "    .dataframe tbody tr th {\n",
       "        vertical-align: top;\n",
       "    }\n",
       "\n",
       "    .dataframe thead th {\n",
       "        text-align: right;\n",
       "    }\n",
       "</style>\n",
       "<table border=\"1\" class=\"dataframe\">\n",
       "  <thead>\n",
       "    <tr style=\"text-align: right;\">\n",
       "      <th></th>\n",
       "      <th>Strain_1</th>\n",
       "      <th>Strain_2</th>\n",
       "      <th>Strain_3</th>\n",
       "      <th>Strain_4</th>\n",
       "      <th>Orien_1</th>\n",
       "      <th>Orien_2</th>\n",
       "      <th>Orien_3</th>\n",
       "      <th>Orien_4</th>\n",
       "      <th>Aspect_1.0</th>\n",
       "      <th>Aspect_2.0</th>\n",
       "      <th>Aspect_3.0</th>\n",
       "      <th>Aspect_4.0</th>\n",
       "      <th>Aspect_5.0</th>\n",
       "      <th>Size_1.0</th>\n",
       "      <th>Size_2.0</th>\n",
       "      <th>Size_3.0</th>\n",
       "      <th>Size_4.0</th>\n",
       "      <th>Size_5.0</th>\n",
       "    </tr>\n",
       "  </thead>\n",
       "  <tbody>\n",
       "    <tr>\n",
       "      <th>~3.3</th>\n",
       "      <td>-0.027869</td>\n",
       "      <td>-0.068916</td>\n",
       "      <td>-0.118648</td>\n",
       "      <td>-0.005635</td>\n",
       "      <td>-0.057975</td>\n",
       "      <td>-0.047161</td>\n",
       "      <td>-0.046428</td>\n",
       "      <td>-0.069504</td>\n",
       "      <td>-0.068799</td>\n",
       "      <td>-0.029503</td>\n",
       "      <td>-0.035016</td>\n",
       "      <td>-0.050726</td>\n",
       "      <td>-0.037024</td>\n",
       "      <td>0.148180</td>\n",
       "      <td>-0.035981</td>\n",
       "      <td>-0.115648</td>\n",
       "      <td>-0.105081</td>\n",
       "      <td>-0.112537</td>\n",
       "    </tr>\n",
       "    <tr>\n",
       "      <th>3.3~8.2</th>\n",
       "      <td>-0.021309</td>\n",
       "      <td>-0.094815</td>\n",
       "      <td>-0.051186</td>\n",
       "      <td>-0.034798</td>\n",
       "      <td>0.011377</td>\n",
       "      <td>-0.047702</td>\n",
       "      <td>-0.040188</td>\n",
       "      <td>-0.125595</td>\n",
       "      <td>-0.062862</td>\n",
       "      <td>-0.057325</td>\n",
       "      <td>-0.044022</td>\n",
       "      <td>-0.034115</td>\n",
       "      <td>-0.003783</td>\n",
       "      <td>-0.094371</td>\n",
       "      <td>0.081602</td>\n",
       "      <td>-0.006145</td>\n",
       "      <td>-0.068850</td>\n",
       "      <td>-0.114344</td>\n",
       "    </tr>\n",
       "    <tr>\n",
       "      <th>8.2~19</th>\n",
       "      <td>-0.055875</td>\n",
       "      <td>-0.091926</td>\n",
       "      <td>-0.074040</td>\n",
       "      <td>-0.004199</td>\n",
       "      <td>-0.068000</td>\n",
       "      <td>-0.046858</td>\n",
       "      <td>-0.026701</td>\n",
       "      <td>-0.084481</td>\n",
       "      <td>-0.034760</td>\n",
       "      <td>-0.037292</td>\n",
       "      <td>-0.042678</td>\n",
       "      <td>-0.021116</td>\n",
       "      <td>-0.090193</td>\n",
       "      <td>-0.111415</td>\n",
       "      <td>-0.109050</td>\n",
       "      <td>0.061882</td>\n",
       "      <td>0.007480</td>\n",
       "      <td>-0.074937</td>\n",
       "    </tr>\n",
       "    <tr>\n",
       "      <th>19~</th>\n",
       "      <td>-0.029327</td>\n",
       "      <td>-0.119091</td>\n",
       "      <td>-0.040560</td>\n",
       "      <td>-0.025200</td>\n",
       "      <td>-0.076326</td>\n",
       "      <td>-0.020483</td>\n",
       "      <td>-0.048245</td>\n",
       "      <td>-0.069123</td>\n",
       "      <td>0.000305</td>\n",
       "      <td>-0.047656</td>\n",
       "      <td>-0.042589</td>\n",
       "      <td>-0.069411</td>\n",
       "      <td>-0.054827</td>\n",
       "      <td>-0.112002</td>\n",
       "      <td>-0.120229</td>\n",
       "      <td>-0.116274</td>\n",
       "      <td>0.005815</td>\n",
       "      <td>0.128512</td>\n",
       "    </tr>\n",
       "  </tbody>\n",
       "</table>\n",
       "</div>"
      ],
      "text/plain": [
       "         Strain_1  Strain_2  Strain_3  Strain_4   Orien_1   Orien_2   Orien_3  \\\n",
       "~3.3    -0.027869 -0.068916 -0.118648 -0.005635 -0.057975 -0.047161 -0.046428   \n",
       "3.3~8.2 -0.021309 -0.094815 -0.051186 -0.034798  0.011377 -0.047702 -0.040188   \n",
       "8.2~19  -0.055875 -0.091926 -0.074040 -0.004199 -0.068000 -0.046858 -0.026701   \n",
       "19~     -0.029327 -0.119091 -0.040560 -0.025200 -0.076326 -0.020483 -0.048245   \n",
       "\n",
       "          Orien_4  Aspect_1.0  Aspect_2.0  Aspect_3.0  Aspect_4.0  Aspect_5.0  \\\n",
       "~3.3    -0.069504   -0.068799   -0.029503   -0.035016   -0.050726   -0.037024   \n",
       "3.3~8.2 -0.125595   -0.062862   -0.057325   -0.044022   -0.034115   -0.003783   \n",
       "8.2~19  -0.084481   -0.034760   -0.037292   -0.042678   -0.021116   -0.090193   \n",
       "19~     -0.069123    0.000305   -0.047656   -0.042589   -0.069411   -0.054827   \n",
       "\n",
       "         Size_1.0  Size_2.0  Size_3.0  Size_4.0  Size_5.0  \n",
       "~3.3     0.148180 -0.035981 -0.115648 -0.105081 -0.112537  \n",
       "3.3~8.2 -0.094371  0.081602 -0.006145 -0.068850 -0.114344  \n",
       "8.2~19  -0.111415 -0.109050  0.061882  0.007480 -0.074937  \n",
       "19~     -0.112002 -0.120229 -0.116274  0.005815  0.128512  "
      ]
     },
     "execution_count": 272,
     "metadata": {},
     "output_type": "execute_result"
    }
   ],
   "source": [
    "coef_df = pd.DataFrame(predictor.coef_, index=['~3.3','3.3~8.2','8.2~19','19~'] , columns=X_train.columns)\n",
    "coef_df"
   ]
  },
  {
   "cell_type": "code",
   "execution_count": 273,
   "metadata": {},
   "outputs": [],
   "source": [
    "coef_df.columns = [i.replace('_', '').replace('.0', '') for i in coef_df.columns]"
   ]
  },
  {
   "cell_type": "code",
   "execution_count": 274,
   "metadata": {},
   "outputs": [],
   "source": [
    "coef_df.to_csv('coef_subtraction.csv')"
   ]
  },
  {
   "cell_type": "code",
   "execution_count": 442,
   "metadata": {},
   "outputs": [],
   "source": [
    "temp_1 = coef_df.iloc[0, :]+predictor.intercept_[0]\n",
    "temp_2 = coef_df.iloc[1, :]+predictor.intercept_[1]\n",
    "temp_3 = coef_df.iloc[2, :]+predictor.intercept_[2]\n",
    "temp_4 = coef_df.iloc[3, :]+predictor.intercept_[3]"
   ]
  },
  {
   "cell_type": "code",
   "execution_count": 433,
   "metadata": {
    "scrolled": false
   },
   "outputs": [
    {
     "data": {
      "text/plain": [
       "-1.1349296543577692"
      ]
     },
     "execution_count": 433,
     "metadata": {},
     "output_type": "execute_result"
    }
   ],
   "source": [
    "a1 = np.dot(temp_1, X_test.loc[4,:])\n",
    "a1"
   ]
  },
  {
   "cell_type": "code",
   "execution_count": 434,
   "metadata": {},
   "outputs": [
    {
     "data": {
      "text/plain": [
       "-1.0771229549328138"
      ]
     },
     "execution_count": 434,
     "metadata": {},
     "output_type": "execute_result"
    }
   ],
   "source": [
    "a2 = np.dot(temp_2, X_test.loc[4,:])\n",
    "a2"
   ]
  },
  {
   "cell_type": "code",
   "execution_count": 435,
   "metadata": {},
   "outputs": [
    {
     "data": {
      "text/plain": [
       "-1.0727529901307595"
      ]
     },
     "execution_count": 435,
     "metadata": {},
     "output_type": "execute_result"
    }
   ],
   "source": [
    "a3 = np.dot(temp_3, X_test.loc[4,:])\n",
    "a3"
   ]
  },
  {
   "cell_type": "code",
   "execution_count": 436,
   "metadata": {},
   "outputs": [
    {
     "data": {
      "text/plain": [
       "-1.0381266429037639"
      ]
     },
     "execution_count": 436,
     "metadata": {},
     "output_type": "execute_result"
    }
   ],
   "source": [
    "a4 = np.dot(temp_4, X_test.loc[4,:])\n",
    "a4"
   ]
  },
  {
   "cell_type": "code",
   "execution_count": 437,
   "metadata": {},
   "outputs": [
    {
     "data": {
      "text/plain": [
       "0.2366693705860108"
      ]
     },
     "execution_count": 437,
     "metadata": {},
     "output_type": "execute_result"
    }
   ],
   "source": [
    "np.exp(a1)/(np.exp(a1)+np.exp(a2)+np.exp(a3)+np.exp(a4))"
   ]
  },
  {
   "cell_type": "code",
   "execution_count": 438,
   "metadata": {},
   "outputs": [
    {
     "data": {
      "text/plain": [
       "0.25075360553414644"
      ]
     },
     "execution_count": 438,
     "metadata": {},
     "output_type": "execute_result"
    }
   ],
   "source": [
    "np.exp(a2)/(np.exp(a1)+np.exp(a2)+np.exp(a3)+np.exp(a4))"
   ]
  },
  {
   "cell_type": "code",
   "execution_count": 439,
   "metadata": {},
   "outputs": [
    {
     "data": {
      "text/plain": [
       "0.2518517877254524"
      ]
     },
     "execution_count": 439,
     "metadata": {},
     "output_type": "execute_result"
    }
   ],
   "source": [
    "np.exp(a3)/(np.exp(a1)+np.exp(a2)+np.exp(a3)+np.exp(a4))"
   ]
  },
  {
   "cell_type": "code",
   "execution_count": 440,
   "metadata": {},
   "outputs": [
    {
     "data": {
      "text/plain": [
       "0.2607252361543904"
      ]
     },
     "execution_count": 440,
     "metadata": {},
     "output_type": "execute_result"
    }
   ],
   "source": [
    "np.exp(a4)/(np.exp(a1)+np.exp(a2)+np.exp(a3)+np.exp(a4))"
   ]
  },
  {
   "cell_type": "code",
   "execution_count": 371,
   "metadata": {},
   "outputs": [],
   "source": [
    "test_for_pp = X_test.copy()\n",
    "test_for_pp['predict'] = grid_search.predict(X_test)"
   ]
  },
  {
   "cell_type": "code",
   "execution_count": 405,
   "metadata": {
    "scrolled": true
   },
   "outputs": [
    {
     "data": {
      "text/html": [
       "<div>\n",
       "<style scoped>\n",
       "    .dataframe tbody tr th:only-of-type {\n",
       "        vertical-align: middle;\n",
       "    }\n",
       "\n",
       "    .dataframe tbody tr th {\n",
       "        vertical-align: top;\n",
       "    }\n",
       "\n",
       "    .dataframe thead th {\n",
       "        text-align: right;\n",
       "    }\n",
       "</style>\n",
       "<table border=\"1\" class=\"dataframe\">\n",
       "  <thead>\n",
       "    <tr style=\"text-align: right;\">\n",
       "      <th></th>\n",
       "      <th>Strain_1</th>\n",
       "      <th>Strain_2</th>\n",
       "      <th>Strain_3</th>\n",
       "      <th>Strain_4</th>\n",
       "      <th>Orien_1</th>\n",
       "      <th>Orien_2</th>\n",
       "      <th>Orien_3</th>\n",
       "      <th>Orien_4</th>\n",
       "      <th>Aspect_1.0</th>\n",
       "      <th>Aspect_2.0</th>\n",
       "      <th>Aspect_3.0</th>\n",
       "      <th>Aspect_4.0</th>\n",
       "      <th>Aspect_5.0</th>\n",
       "      <th>Size_1.0</th>\n",
       "      <th>Size_2.0</th>\n",
       "      <th>Size_3.0</th>\n",
       "      <th>Size_4.0</th>\n",
       "      <th>Size_5.0</th>\n",
       "      <th>predict</th>\n",
       "    </tr>\n",
       "  </thead>\n",
       "  <tbody>\n",
       "    <tr>\n",
       "      <th>92</th>\n",
       "      <td>0</td>\n",
       "      <td>1</td>\n",
       "      <td>0</td>\n",
       "      <td>0</td>\n",
       "      <td>0</td>\n",
       "      <td>0</td>\n",
       "      <td>0</td>\n",
       "      <td>1</td>\n",
       "      <td>0</td>\n",
       "      <td>0</td>\n",
       "      <td>1</td>\n",
       "      <td>0</td>\n",
       "      <td>0</td>\n",
       "      <td>1</td>\n",
       "      <td>0</td>\n",
       "      <td>0</td>\n",
       "      <td>0</td>\n",
       "      <td>0</td>\n",
       "      <td>1.0</td>\n",
       "    </tr>\n",
       "    <tr>\n",
       "      <th>165</th>\n",
       "      <td>0</td>\n",
       "      <td>1</td>\n",
       "      <td>0</td>\n",
       "      <td>0</td>\n",
       "      <td>0</td>\n",
       "      <td>0</td>\n",
       "      <td>1</td>\n",
       "      <td>0</td>\n",
       "      <td>1</td>\n",
       "      <td>0</td>\n",
       "      <td>0</td>\n",
       "      <td>0</td>\n",
       "      <td>0</td>\n",
       "      <td>0</td>\n",
       "      <td>0</td>\n",
       "      <td>0</td>\n",
       "      <td>0</td>\n",
       "      <td>1</td>\n",
       "      <td>4.0</td>\n",
       "    </tr>\n",
       "    <tr>\n",
       "      <th>103</th>\n",
       "      <td>0</td>\n",
       "      <td>1</td>\n",
       "      <td>0</td>\n",
       "      <td>0</td>\n",
       "      <td>0</td>\n",
       "      <td>0</td>\n",
       "      <td>1</td>\n",
       "      <td>0</td>\n",
       "      <td>1</td>\n",
       "      <td>0</td>\n",
       "      <td>0</td>\n",
       "      <td>0</td>\n",
       "      <td>0</td>\n",
       "      <td>0</td>\n",
       "      <td>0</td>\n",
       "      <td>0</td>\n",
       "      <td>1</td>\n",
       "      <td>0</td>\n",
       "      <td>3.0</td>\n",
       "    </tr>\n",
       "    <tr>\n",
       "      <th>144</th>\n",
       "      <td>0</td>\n",
       "      <td>1</td>\n",
       "      <td>0</td>\n",
       "      <td>0</td>\n",
       "      <td>0</td>\n",
       "      <td>0</td>\n",
       "      <td>0</td>\n",
       "      <td>1</td>\n",
       "      <td>1</td>\n",
       "      <td>0</td>\n",
       "      <td>0</td>\n",
       "      <td>0</td>\n",
       "      <td>0</td>\n",
       "      <td>1</td>\n",
       "      <td>0</td>\n",
       "      <td>0</td>\n",
       "      <td>0</td>\n",
       "      <td>0</td>\n",
       "      <td>1.0</td>\n",
       "    </tr>\n",
       "    <tr>\n",
       "      <th>14</th>\n",
       "      <td>0</td>\n",
       "      <td>1</td>\n",
       "      <td>0</td>\n",
       "      <td>0</td>\n",
       "      <td>0</td>\n",
       "      <td>0</td>\n",
       "      <td>0</td>\n",
       "      <td>1</td>\n",
       "      <td>0</td>\n",
       "      <td>0</td>\n",
       "      <td>1</td>\n",
       "      <td>0</td>\n",
       "      <td>0</td>\n",
       "      <td>0</td>\n",
       "      <td>0</td>\n",
       "      <td>0</td>\n",
       "      <td>1</td>\n",
       "      <td>0</td>\n",
       "      <td>3.0</td>\n",
       "    </tr>\n",
       "    <tr>\n",
       "      <th>89</th>\n",
       "      <td>0</td>\n",
       "      <td>0</td>\n",
       "      <td>1</td>\n",
       "      <td>0</td>\n",
       "      <td>0</td>\n",
       "      <td>0</td>\n",
       "      <td>0</td>\n",
       "      <td>1</td>\n",
       "      <td>0</td>\n",
       "      <td>1</td>\n",
       "      <td>0</td>\n",
       "      <td>0</td>\n",
       "      <td>0</td>\n",
       "      <td>0</td>\n",
       "      <td>0</td>\n",
       "      <td>0</td>\n",
       "      <td>1</td>\n",
       "      <td>0</td>\n",
       "      <td>4.0</td>\n",
       "    </tr>\n",
       "    <tr>\n",
       "      <th>24</th>\n",
       "      <td>0</td>\n",
       "      <td>0</td>\n",
       "      <td>0</td>\n",
       "      <td>1</td>\n",
       "      <td>0</td>\n",
       "      <td>0</td>\n",
       "      <td>0</td>\n",
       "      <td>1</td>\n",
       "      <td>0</td>\n",
       "      <td>0</td>\n",
       "      <td>0</td>\n",
       "      <td>1</td>\n",
       "      <td>0</td>\n",
       "      <td>0</td>\n",
       "      <td>0</td>\n",
       "      <td>0</td>\n",
       "      <td>1</td>\n",
       "      <td>0</td>\n",
       "      <td>3.0</td>\n",
       "    </tr>\n",
       "    <tr>\n",
       "      <th>159</th>\n",
       "      <td>0</td>\n",
       "      <td>1</td>\n",
       "      <td>0</td>\n",
       "      <td>0</td>\n",
       "      <td>0</td>\n",
       "      <td>0</td>\n",
       "      <td>0</td>\n",
       "      <td>1</td>\n",
       "      <td>0</td>\n",
       "      <td>0</td>\n",
       "      <td>1</td>\n",
       "      <td>0</td>\n",
       "      <td>0</td>\n",
       "      <td>0</td>\n",
       "      <td>0</td>\n",
       "      <td>1</td>\n",
       "      <td>0</td>\n",
       "      <td>0</td>\n",
       "      <td>3.0</td>\n",
       "    </tr>\n",
       "    <tr>\n",
       "      <th>4</th>\n",
       "      <td>0</td>\n",
       "      <td>1</td>\n",
       "      <td>0</td>\n",
       "      <td>0</td>\n",
       "      <td>0</td>\n",
       "      <td>1</td>\n",
       "      <td>0</td>\n",
       "      <td>0</td>\n",
       "      <td>0</td>\n",
       "      <td>1</td>\n",
       "      <td>0</td>\n",
       "      <td>0</td>\n",
       "      <td>0</td>\n",
       "      <td>0</td>\n",
       "      <td>0</td>\n",
       "      <td>0</td>\n",
       "      <td>1</td>\n",
       "      <td>0</td>\n",
       "      <td>3.0</td>\n",
       "    </tr>\n",
       "    <tr>\n",
       "      <th>134</th>\n",
       "      <td>0</td>\n",
       "      <td>1</td>\n",
       "      <td>0</td>\n",
       "      <td>0</td>\n",
       "      <td>0</td>\n",
       "      <td>0</td>\n",
       "      <td>1</td>\n",
       "      <td>0</td>\n",
       "      <td>0</td>\n",
       "      <td>0</td>\n",
       "      <td>1</td>\n",
       "      <td>0</td>\n",
       "      <td>0</td>\n",
       "      <td>0</td>\n",
       "      <td>1</td>\n",
       "      <td>0</td>\n",
       "      <td>0</td>\n",
       "      <td>0</td>\n",
       "      <td>2.0</td>\n",
       "    </tr>\n",
       "    <tr>\n",
       "      <th>8</th>\n",
       "      <td>0</td>\n",
       "      <td>1</td>\n",
       "      <td>0</td>\n",
       "      <td>0</td>\n",
       "      <td>1</td>\n",
       "      <td>0</td>\n",
       "      <td>0</td>\n",
       "      <td>0</td>\n",
       "      <td>0</td>\n",
       "      <td>0</td>\n",
       "      <td>0</td>\n",
       "      <td>1</td>\n",
       "      <td>0</td>\n",
       "      <td>0</td>\n",
       "      <td>0</td>\n",
       "      <td>0</td>\n",
       "      <td>1</td>\n",
       "      <td>0</td>\n",
       "      <td>2.0</td>\n",
       "    </tr>\n",
       "    <tr>\n",
       "      <th>67</th>\n",
       "      <td>0</td>\n",
       "      <td>1</td>\n",
       "      <td>0</td>\n",
       "      <td>0</td>\n",
       "      <td>1</td>\n",
       "      <td>0</td>\n",
       "      <td>0</td>\n",
       "      <td>0</td>\n",
       "      <td>1</td>\n",
       "      <td>0</td>\n",
       "      <td>0</td>\n",
       "      <td>0</td>\n",
       "      <td>0</td>\n",
       "      <td>0</td>\n",
       "      <td>0</td>\n",
       "      <td>0</td>\n",
       "      <td>0</td>\n",
       "      <td>1</td>\n",
       "      <td>4.0</td>\n",
       "    </tr>\n",
       "    <tr>\n",
       "      <th>51</th>\n",
       "      <td>0</td>\n",
       "      <td>0</td>\n",
       "      <td>1</td>\n",
       "      <td>0</td>\n",
       "      <td>0</td>\n",
       "      <td>0</td>\n",
       "      <td>0</td>\n",
       "      <td>1</td>\n",
       "      <td>0</td>\n",
       "      <td>0</td>\n",
       "      <td>0</td>\n",
       "      <td>0</td>\n",
       "      <td>1</td>\n",
       "      <td>0</td>\n",
       "      <td>0</td>\n",
       "      <td>0</td>\n",
       "      <td>0</td>\n",
       "      <td>1</td>\n",
       "      <td>4.0</td>\n",
       "    </tr>\n",
       "    <tr>\n",
       "      <th>49</th>\n",
       "      <td>0</td>\n",
       "      <td>1</td>\n",
       "      <td>0</td>\n",
       "      <td>0</td>\n",
       "      <td>0</td>\n",
       "      <td>0</td>\n",
       "      <td>1</td>\n",
       "      <td>0</td>\n",
       "      <td>0</td>\n",
       "      <td>1</td>\n",
       "      <td>0</td>\n",
       "      <td>0</td>\n",
       "      <td>0</td>\n",
       "      <td>0</td>\n",
       "      <td>0</td>\n",
       "      <td>1</td>\n",
       "      <td>0</td>\n",
       "      <td>0</td>\n",
       "      <td>3.0</td>\n",
       "    </tr>\n",
       "    <tr>\n",
       "      <th>124</th>\n",
       "      <td>0</td>\n",
       "      <td>0</td>\n",
       "      <td>0</td>\n",
       "      <td>1</td>\n",
       "      <td>0</td>\n",
       "      <td>1</td>\n",
       "      <td>0</td>\n",
       "      <td>0</td>\n",
       "      <td>0</td>\n",
       "      <td>1</td>\n",
       "      <td>0</td>\n",
       "      <td>0</td>\n",
       "      <td>0</td>\n",
       "      <td>0</td>\n",
       "      <td>1</td>\n",
       "      <td>0</td>\n",
       "      <td>0</td>\n",
       "      <td>0</td>\n",
       "      <td>2.0</td>\n",
       "    </tr>\n",
       "    <tr>\n",
       "      <th>131</th>\n",
       "      <td>1</td>\n",
       "      <td>0</td>\n",
       "      <td>0</td>\n",
       "      <td>0</td>\n",
       "      <td>0</td>\n",
       "      <td>0</td>\n",
       "      <td>0</td>\n",
       "      <td>1</td>\n",
       "      <td>0</td>\n",
       "      <td>0</td>\n",
       "      <td>1</td>\n",
       "      <td>0</td>\n",
       "      <td>0</td>\n",
       "      <td>0</td>\n",
       "      <td>1</td>\n",
       "      <td>0</td>\n",
       "      <td>0</td>\n",
       "      <td>0</td>\n",
       "      <td>2.0</td>\n",
       "    </tr>\n",
       "    <tr>\n",
       "      <th>109</th>\n",
       "      <td>1</td>\n",
       "      <td>0</td>\n",
       "      <td>0</td>\n",
       "      <td>0</td>\n",
       "      <td>0</td>\n",
       "      <td>0</td>\n",
       "      <td>0</td>\n",
       "      <td>1</td>\n",
       "      <td>1</td>\n",
       "      <td>0</td>\n",
       "      <td>0</td>\n",
       "      <td>0</td>\n",
       "      <td>0</td>\n",
       "      <td>1</td>\n",
       "      <td>0</td>\n",
       "      <td>0</td>\n",
       "      <td>0</td>\n",
       "      <td>0</td>\n",
       "      <td>1.0</td>\n",
       "    </tr>\n",
       "  </tbody>\n",
       "</table>\n",
       "</div>"
      ],
      "text/plain": [
       "     Strain_1  Strain_2  Strain_3  Strain_4  Orien_1  Orien_2  Orien_3  \\\n",
       "92          0         1         0         0        0        0        0   \n",
       "165         0         1         0         0        0        0        1   \n",
       "103         0         1         0         0        0        0        1   \n",
       "144         0         1         0         0        0        0        0   \n",
       "14          0         1         0         0        0        0        0   \n",
       "89          0         0         1         0        0        0        0   \n",
       "24          0         0         0         1        0        0        0   \n",
       "159         0         1         0         0        0        0        0   \n",
       "4           0         1         0         0        0        1        0   \n",
       "134         0         1         0         0        0        0        1   \n",
       "8           0         1         0         0        1        0        0   \n",
       "67          0         1         0         0        1        0        0   \n",
       "51          0         0         1         0        0        0        0   \n",
       "49          0         1         0         0        0        0        1   \n",
       "124         0         0         0         1        0        1        0   \n",
       "131         1         0         0         0        0        0        0   \n",
       "109         1         0         0         0        0        0        0   \n",
       "\n",
       "     Orien_4  Aspect_1.0  Aspect_2.0  Aspect_3.0  Aspect_4.0  Aspect_5.0  \\\n",
       "92         1           0           0           1           0           0   \n",
       "165        0           1           0           0           0           0   \n",
       "103        0           1           0           0           0           0   \n",
       "144        1           1           0           0           0           0   \n",
       "14         1           0           0           1           0           0   \n",
       "89         1           0           1           0           0           0   \n",
       "24         1           0           0           0           1           0   \n",
       "159        1           0           0           1           0           0   \n",
       "4          0           0           1           0           0           0   \n",
       "134        0           0           0           1           0           0   \n",
       "8          0           0           0           0           1           0   \n",
       "67         0           1           0           0           0           0   \n",
       "51         1           0           0           0           0           1   \n",
       "49         0           0           1           0           0           0   \n",
       "124        0           0           1           0           0           0   \n",
       "131        1           0           0           1           0           0   \n",
       "109        1           1           0           0           0           0   \n",
       "\n",
       "     Size_1.0  Size_2.0  Size_3.0  Size_4.0  Size_5.0  predict  \n",
       "92          1         0         0         0         0      1.0  \n",
       "165         0         0         0         0         1      4.0  \n",
       "103         0         0         0         1         0      3.0  \n",
       "144         1         0         0         0         0      1.0  \n",
       "14          0         0         0         1         0      3.0  \n",
       "89          0         0         0         1         0      4.0  \n",
       "24          0         0         0         1         0      3.0  \n",
       "159         0         0         1         0         0      3.0  \n",
       "4           0         0         0         1         0      3.0  \n",
       "134         0         1         0         0         0      2.0  \n",
       "8           0         0         0         1         0      2.0  \n",
       "67          0         0         0         0         1      4.0  \n",
       "51          0         0         0         0         1      4.0  \n",
       "49          0         0         1         0         0      3.0  \n",
       "124         0         1         0         0         0      2.0  \n",
       "131         0         1         0         0         0      2.0  \n",
       "109         1         0         0         0         0      1.0  "
      ]
     },
     "execution_count": 405,
     "metadata": {},
     "output_type": "execute_result"
    }
   ],
   "source": [
    "test_for_pp"
   ]
  },
  {
   "cell_type": "code",
   "execution_count": 450,
   "metadata": {},
   "outputs": [],
   "source": [
    "coef_1 = np.exp(coef_df.iloc[0, :]+predictor.intercept_[0])\n",
    "coef_2 = np.exp(coef_df.iloc[1, :]+predictor.intercept_[1])\n",
    "coef_3 = np.exp(coef_df.iloc[2, :]+predictor.intercept_[2])\n",
    "coef_4 = np.exp(coef_df.iloc[3, :]+predictor.intercept_[3])\n",
    "softmax_1 = coef_1/(coef_1+coef_2+coef_3+coef_4)\n",
    "softmax_2 = coef_2/(coef_1+coef_2+coef_3+coef_4)\n",
    "softmax_3 = coef_3/(coef_1+coef_2+coef_3+coef_4)\n",
    "softmax_4 = coef_4/(coef_1+coef_2+coef_3+coef_4)"
   ]
  },
  {
   "cell_type": "code",
   "execution_count": 331,
   "metadata": {
    "scrolled": true
   },
   "outputs": [
    {
     "data": {
      "image/png": "[encoded data removed]",
      "text/plain": [
       "<Figure size 432x288 with 1 Axes>"
      ]
     },
     "metadata": {},
     "output_type": "display_data"
    }
   ],
   "source": [
    "import matplotlib.pyplot as plt\n",
    "\n",
    "plt.barh(softmax_1.index, softmax_1, align='center')\n",
    "plt.grid()\n",
    "plt.xlim(xmin=0.22, xmax=0.31)\n",
    "plt.title('subtraction ~3.3')\n",
    "plt.show()"
   ]
  },
  {
   "cell_type": "code",
   "execution_count": 336,
   "metadata": {
    "scrolled": true
   },
   "outputs": [
    {
     "data": {
      "image/png": "[encoded data removed]",
      "text/plain": [
       "<Figure size 432x288 with 1 Axes>"
      ]
     },
     "metadata": {},
     "output_type": "display_data"
    }
   ],
   "source": [
    "plt.barh(softmax_2.index, softmax_2, align='center')\n",
    "plt.grid()\n",
    "plt.xlim(xmin=0.22, xmax=0.31)\n",
    "plt.title('subtraction 3.3~8.2')\n",
    "plt.show()"
   ]
  },
  {
   "cell_type": "code",
   "execution_count": 337,
   "metadata": {
    "scrolled": true
   },
   "outputs": [
    {
     "data": {
      "image/png": "[encoded data removed]",
      "text/plain": [
       "<Figure size 432x288 with 1 Axes>"
      ]
     },
     "metadata": {},
     "output_type": "display_data"
    }
   ],
   "source": [
    "plt.barh(softmax_3.index, softmax_3, align='center')\n",
    "plt.grid()\n",
    "plt.xlim(xmin=0.22, xmax=0.31)\n",
    "plt.title('subtraction 8.2~19')\n",
    "plt.show()"
   ]
  },
  {
   "cell_type": "code",
   "execution_count": 452,
   "metadata": {
    "scrolled": false
   },
   "outputs": [
    {
     "data": {
      "image/png": "[encoded data removed]",
      "text/plain": [
       "<Figure size 432x288 with 1 Axes>"
      ]
     },
     "metadata": {},
     "output_type": "display_data"
    }
   ],
   "source": [
    "plt.barh(softmax_4.index, softmax_4, align='center')\n",
    "plt.grid()\n",
    "plt.xlim(xmin=0.22, xmax=0.31)\n",
    "plt.title('subtraction 19~')\n",
    "plt.show()"
   ]
  },
  {
   "cell_type": "markdown",
   "metadata": {},
   "source": [
    "# 4次元入力　3クラス分類のロジスティック回帰モデル"
   ]
  },
  {
   "cell_type": "raw",
   "metadata": {},
   "source": [
    "                                                体積　　小　　　中　　　大\n",
    "Strain='(-inf-1.5]'                            5.7194, 3.595, 0.5623\n",
    "Strain='(1.5-2.5]'                             0.9385, 1.2791, 0.585\n",
    "Strain='(2.5-3.5]'                            -4.7973, -2.9966, -1.8167\n",
    "Strain='(3.5-inf)'                             1.2768, -1.6586, 2.4325\n",
    "Orien='(-inf-1.5]'                             3.0297, 3.124, 1.5294\n",
    "Orien='(1.5-2.5]'                             -0.0785, 0.9175, -0.7303\n",
    "Orien='(2.5-3.5]'                              1.3911, 1.1352, 1.334\n",
    "Orien='(3.5-inf)'                             -2.8399, -3.3254, -1.419\n",
    "Aspect='(-inf-0.278306]'                       1.1457, -1.1993, -1.2128\n",
    "Aspect='(0.278306-0.380543]'                   1.0768, 0.9927, 1.2152\n",
    "Aspect='(0.380543-0.511905]'                  -1.3539, -0.9422, -1.0328\n",
    "Aspect='(0.511905-0.66092]'                    0.6485, 1.4735, 2.291\n",
    "Aspect='(0.66092-inf)'                        -1.5368, -0.2986, -1.2372\n",
    "Size='(-inf-4.07]'                            55.1811, 35.7414, -3.4074\n",
    "Size='(4.07-8.46]'                            35.7887, 21.0376, 12.8513\n",
    "Size='(8.46-18.43]'                          -10.5264, 47.4803, 44.8393\n",
    "Size='(18.43-40.385]'                        -53.3201, -24.7599, -25.0519\n",
    "Size='(40.385-inf)'                           -27.521, -79.8825, -29.2403\n",
    "Intercept                                      7.0762, 22.773, 26.0028"
   ]
  },
  {
   "cell_type": "code",
   "execution_count": 280,
   "metadata": {},
   "outputs": [],
   "source": [
    "W = np.array([[0.9385, 1.2791, 0.585],[3.0297, 3.124, 1.5294],\n",
    "              [-1.3539, -0.9422, -1.0328],[-10.5264, 47.4803, 44.8393],[7.0762, 22.773, 26.0028]])"
   ]
  },
  {
   "cell_type": "code",
   "execution_count": 281,
   "metadata": {},
   "outputs": [],
   "source": [
    "def soft():\n",
    "    all = []\n",
    "    x = [2,1,3,3]\n",
    "    for i in (0, 1, 2):\n",
    "        a = x[0]*W[0][i] + x[1]*W[1][i] + x[2]*W[2][i] + x[3]*W[3][i] + 1.0*W[4][i]\n",
    "        all = all + [a]\n",
    "    print(all,': all here')\n",
    "    print(np.exp(all[0])/(np.exp(all[0])+np.exp(all[1])+np.exp(all[2])))\n",
    "    print(np.exp(all[1])/(np.exp(all[0])+np.exp(all[1])+np.exp(all[2])))\n",
    "    print(np.exp(all[2])/(np.exp(all[0])+np.exp(all[1])+np.exp(all[2])))"
   ]
  },
  {
   "cell_type": "code",
   "execution_count": 282,
   "metadata": {
    "scrolled": false
   },
   "outputs": [
    {
     "name": "stdout",
     "output_type": "stream",
     "text": [
      "[-23.658, 168.0695, 160.1217] : all here\n",
      "5.415658258253209e-84\n",
      "0.999646685999444\n",
      "0.0003533140005560378\n"
     ]
    }
   ],
   "source": [
    "soft()"
   ]
  },
  {
   "cell_type": "markdown",
   "metadata": {},
   "source": [
    "# K近傍法"
   ]
  },
  {
   "cell_type": "code",
   "execution_count": 283,
   "metadata": {},
   "outputs": [
    {
     "name": "stdout",
     "output_type": "stream",
     "text": [
      "0.8235294117647058\n"
     ]
    }
   ],
   "source": [
    "from sklearn.neighbors import KNeighborsClassifier\n",
    "\n",
    "knn = KNeighborsClassifier(n_neighbors = 17)\n",
    "knn.fit(X_train,y_train)\n",
    "Y_pred = knn.predict(X_test)\n",
    "\n",
    "print(metrics.accuracy_score(y_test,Y_pred))"
   ]
  },
  {
   "cell_type": "code",
   "execution_count": 284,
   "metadata": {},
   "outputs": [],
   "source": [
    "k_range = range(1, 90)\n",
    "accuracy = []\n",
    "\n",
    "for k in k_range:\n",
    "    knn = KNeighborsClassifier(n_neighbors=k)\n",
    "    knn.fit(X_train, y_train)\n",
    "    Y_pred = knn.predict(X_test)\n",
    "    accuracy.append(metrics.accuracy_score(y_test, Y_pred))"
   ]
  },
  {
   "cell_type": "code",
   "execution_count": 285,
   "metadata": {},
   "outputs": [
    {
     "data": {
      "text/plain": [
       "Text(0,0.5,'Testing Accuracy')"
      ]
     },
     "execution_count": 285,
     "metadata": {},
     "output_type": "execute_result"
    },
    {
     "data": {
      "image/png": "[encoded data removed]",
      "text/plain": [
       "<Figure size 432x288 with 1 Axes>"
      ]
     },
     "metadata": {},
     "output_type": "display_data"
    }
   ],
   "source": [
    "import matplotlib.pyplot as plt\n",
    "\n",
    "plt.plot(k_range, accuracy)\n",
    "plt.xlabel('K for kNN')\n",
    "plt.ylabel('Testing Accuracy')"
   ]
  },
  {
   "cell_type": "code",
   "execution_count": null,
   "metadata": {},
   "outputs": [],
   "source": []
  }
 ],
 "metadata": {
  "kernelspec": {
   "display_name": "Python 3",
   "language": "python",
   "name": "python3"
  },
  "language_info": {
   "codemirror_mode": {
    "name": "ipython",
    "version": 3
   },
   "file_extension": ".py",
   "mimetype": "text/x-python",
   "name": "python",
   "nbconvert_exporter": "python",
   "pygments_lexer": "ipython3",
   "version": "3.6.1"
  },
  "toc": {
   "base_numbering": 1,
   "nav_menu": {},
   "number_sections": true,
   "sideBar": true,
   "skip_h1_title": false,
   "title_cell": "Table of Contents",
   "title_sidebar": "Contents",
   "toc_cell": false,
   "toc_position": {},
   "toc_section_display": true,
   "toc_window_display": false
  }
 },
 "nbformat": 4,
 "nbformat_minor": 2
}
