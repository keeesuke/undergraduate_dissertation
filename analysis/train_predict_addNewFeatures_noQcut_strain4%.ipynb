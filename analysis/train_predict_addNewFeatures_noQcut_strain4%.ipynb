{
 "cells": [
  {
   "cell_type": "code",
   "execution_count": 159,
   "metadata": {
    "scrolled": true
   },
   "outputs": [
    {
     "name": "stdout",
     "output_type": "stream",
     "text": [
      "Once deleted, variables cannot be recovered. Proceed (y/[n])? y\n"
     ]
    }
   ],
   "source": [
    "%reset"
   ]
  },
  {
   "cell_type": "code",
   "execution_count": 539,
   "metadata": {},
   "outputs": [],
   "source": [
    "import warnings\n",
    "warnings.filterwarnings('ignore')\n",
    "import pandas as pd\n",
    "import numpy as np\n",
    "import matplotlib.pyplot as plt\n",
    "import scipy.stats"
   ]
  },
  {
   "cell_type": "code",
   "execution_count": 540,
   "metadata": {},
   "outputs": [],
   "source": [
    "# division\n",
    "all_data = pd.read_csv(\n",
    "    '/Users/keisuke/Downloads/Yokohama_National_university/image_recognition/all_sample/df_all.csv')\n",
    "#all_data = all_data[~all_data[['strain', 'orien']].isnull().any(axis=1)].reset_index(drop=True)"
   ]
  },
  {
   "cell_type": "code",
   "execution_count": 343,
   "metadata": {},
   "outputs": [],
   "source": [
    "# subtraction\n",
    "all_data = pd.read_csv(\n",
    "    '/Users/keisuke/Downloads/Yokohama_National_university/image_recognition/all_sample/df_all_subtraction.csv')"
   ]
  },
  {
   "cell_type": "code",
   "execution_count": 495,
   "metadata": {},
   "outputs": [],
   "source": [
    "# division with sample\n",
    "all_data = pd.read_csv(\n",
    "'/Users/keisuke/Downloads/Yokohama_National_university/image_recognition/3rd-sample/output/csv_files/df.csv')"
   ]
  },
  {
   "cell_type": "raw",
   "metadata": {},
   "source": [
    "all_data = pd.read_csv(\n",
    "    '/Users/keisuke/Downloads/Yokohama_National_university/Weka/data/csv_files/all_data.csv')\n",
    "all_data = all_data[~all_data[['strain', 'orien']].isnull().any(axis=1)].reset_index(drop=True)"
   ]
  },
  {
   "cell_type": "code",
   "execution_count": 166,
   "metadata": {},
   "outputs": [],
   "source": [
    "#体積減少率 12%\n",
    "all_data = pd.read_csv(\n",
    "    '/Users/keisuke/Downloads/Yokohama_National_university/Weka/data/csv_files/all_data.csv')\n",
    "all_data = all_data[~all_data[['strain', 'orien']].isnull().any(axis=1)].reset_index(drop=True)\n",
    "all_data['subtraction'] = (all_data['size'] - all_data['subtraction'])/all_data['size']\n",
    "##体積減少率 4%\n",
    "# all_data = pd.read_csv(\n",
    "#     '/Users/keisuke/Downloads/Yokohama_National_university/image_recognition/output_all/df.csv')\n",
    "# all_data = all_data[~all_data[['strain', 'orien']].isnull().any(axis=1)].reset_index(drop=True)\n",
    "# all_data['subtraction'] = (all_data['subtraction']/3.0)/all_data['size']"
   ]
  },
  {
   "cell_type": "code",
   "execution_count": 423,
   "metadata": {},
   "outputs": [],
   "source": [
    "all_data['subtraction'] = all_data['size'] - all_data['subtraction']/3.0"
   ]
  },
  {
   "cell_type": "raw",
   "metadata": {},
   "source": [
    "all_data = all_data.drop(['arclength'], axis=1)\n",
    "all_data.to_csv('test_for_Weka.csv', index=False)"
   ]
  },
  {
   "cell_type": "raw",
   "metadata": {},
   "source": [
    "all_data['subtraction'] = all_data['subtraction']/all_data['size']"
   ]
  },
  {
   "cell_type": "code",
   "execution_count": 476,
   "metadata": {
    "scrolled": false
   },
   "outputs": [
    {
     "name": "stdout",
     "output_type": "stream",
     "text": [
      "(315, 10)\n"
     ]
    },
    {
     "data": {
      "text/html": [
       "<div>\n",
       "<style scoped>\n",
       "    .dataframe tbody tr th:only-of-type {\n",
       "        vertical-align: middle;\n",
       "    }\n",
       "\n",
       "    .dataframe tbody tr th {\n",
       "        vertical-align: top;\n",
       "    }\n",
       "\n",
       "    .dataframe thead th {\n",
       "        text-align: right;\n",
       "    }\n",
       "</style>\n",
       "<table border=\"1\" class=\"dataframe\">\n",
       "  <thead>\n",
       "    <tr style=\"text-align: right;\">\n",
       "      <th></th>\n",
       "      <th>strain</th>\n",
       "      <th>orien</th>\n",
       "      <th>roundness</th>\n",
       "      <th>aspect</th>\n",
       "      <th>size</th>\n",
       "      <th>tilt</th>\n",
       "      <th>nearest_grain</th>\n",
       "      <th>ferrite_bainite</th>\n",
       "      <th>size4</th>\n",
       "      <th>division</th>\n",
       "    </tr>\n",
       "  </thead>\n",
       "  <tbody>\n",
       "    <tr>\n",
       "      <th>0</th>\n",
       "      <td>1.0</td>\n",
       "      <td>1.0</td>\n",
       "      <td>0.598</td>\n",
       "      <td>0.898</td>\n",
       "      <td>1.013398</td>\n",
       "      <td>26.152</td>\n",
       "      <td>14.7648</td>\n",
       "      <td>1.0</td>\n",
       "      <td>0.956035</td>\n",
       "      <td>5.660377</td>\n",
       "    </tr>\n",
       "    <tr>\n",
       "      <th>1</th>\n",
       "      <td>1.0</td>\n",
       "      <td>3.0</td>\n",
       "      <td>0.433</td>\n",
       "      <td>0.301</td>\n",
       "      <td>0.956035</td>\n",
       "      <td>2.852</td>\n",
       "      <td>20.0998</td>\n",
       "      <td>0.0</td>\n",
       "      <td>0.879553</td>\n",
       "      <td>8.000000</td>\n",
       "    </tr>\n",
       "    <tr>\n",
       "      <th>2</th>\n",
       "      <td>1.0</td>\n",
       "      <td>1.0</td>\n",
       "      <td>0.401</td>\n",
       "      <td>0.564</td>\n",
       "      <td>1.096254</td>\n",
       "      <td>27.389</td>\n",
       "      <td>32.8938</td>\n",
       "      <td>0.0</td>\n",
       "      <td>0.701093</td>\n",
       "      <td>36.046512</td>\n",
       "    </tr>\n",
       "    <tr>\n",
       "      <th>3</th>\n",
       "      <td>1.0</td>\n",
       "      <td>2.0</td>\n",
       "      <td>0.449</td>\n",
       "      <td>0.404</td>\n",
       "      <td>0.892300</td>\n",
       "      <td>9.741</td>\n",
       "      <td>33.5261</td>\n",
       "      <td>0.0</td>\n",
       "      <td>0.726587</td>\n",
       "      <td>18.571429</td>\n",
       "    </tr>\n",
       "    <tr>\n",
       "      <th>4</th>\n",
       "      <td>1.0</td>\n",
       "      <td>1.0</td>\n",
       "      <td>0.641</td>\n",
       "      <td>0.469</td>\n",
       "      <td>0.318678</td>\n",
       "      <td>40.252</td>\n",
       "      <td>34.1321</td>\n",
       "      <td>1.0</td>\n",
       "      <td>0.305931</td>\n",
       "      <td>4.000000</td>\n",
       "    </tr>\n",
       "  </tbody>\n",
       "</table>\n",
       "</div>"
      ],
      "text/plain": [
       "   strain  orien  roundness  aspect      size    tilt  nearest_grain  \\\n",
       "0     1.0    1.0      0.598   0.898  1.013398  26.152        14.7648   \n",
       "1     1.0    3.0      0.433   0.301  0.956035   2.852        20.0998   \n",
       "2     1.0    1.0      0.401   0.564  1.096254  27.389        32.8938   \n",
       "3     1.0    2.0      0.449   0.404  0.892300   9.741        33.5261   \n",
       "4     1.0    1.0      0.641   0.469  0.318678  40.252        34.1321   \n",
       "\n",
       "   ferrite_bainite     size4   division  \n",
       "0              1.0  0.956035   5.660377  \n",
       "1              0.0  0.879553   8.000000  \n",
       "2              0.0  0.701093  36.046512  \n",
       "3              0.0  0.726587  18.571429  \n",
       "4              1.0  0.305931   4.000000  "
      ]
     },
     "execution_count": 476,
     "metadata": {},
     "output_type": "execute_result"
    }
   ],
   "source": [
    "print(all_data.shape)\n",
    "all_data.head()"
   ]
  },
  {
   "cell_type": "code",
   "execution_count": 403,
   "metadata": {},
   "outputs": [],
   "source": [
    "all_data = all_data[all_data['size'] < 100]"
   ]
  },
  {
   "cell_type": "code",
   "execution_count": 94,
   "metadata": {
    "scrolled": true
   },
   "outputs": [
    {
     "data": {
      "image/png": "[encoded data removed]",
      "text/plain": [
       "<Figure size 720x720 with 12 Axes>"
      ]
     },
     "metadata": {
      "needs_background": "light"
     },
     "output_type": "display_data"
    }
   ],
   "source": [
    "all_data.hist(bins=50, figsize=(10,10))\n",
    "plt.show()"
   ]
  },
  {
   "cell_type": "raw",
   "metadata": {
    "scrolled": true
   },
   "source": [
    "all_data.sort_values(['subtraction'], ascending=False)"
   ]
  },
  {
   "cell_type": "code",
   "execution_count": 541,
   "metadata": {},
   "outputs": [],
   "source": [
    "all_data.rename(columns={\"division\": \"subtraction\"}, inplace=True)"
   ]
  },
  {
   "cell_type": "code",
   "execution_count": null,
   "metadata": {},
   "outputs": [],
   "source": []
  },
  {
   "cell_type": "markdown",
   "metadata": {},
   "source": [
    "*複数の特徴量　離散化なし*"
   ]
  },
  {
   "cell_type": "code",
   "execution_count": 542,
   "metadata": {
    "scrolled": true
   },
   "outputs": [],
   "source": [
    "#体積減少値　出力\n",
    "y_train = all_data.subtraction.values\n",
    "# train = all_data.drop(['roundness', 'tilt', 'nearest_grain', 'ferrite_bainite', 'size4', 'subtraction'], axis=1).values\n",
    "train = all_data.drop(['size4', 'subtraction'], axis=1).values\n",
    "train = scipy.stats.zscore(train)"
   ]
  },
  {
   "cell_type": "code",
   "execution_count": 95,
   "metadata": {},
   "outputs": [],
   "source": [
    "#体積減少率　出力\n",
    "y_train = all_data.subtraction.values\n",
    "train = all_data.drop(['size4', 'subtraction'], axis=1).values\n",
    "train = scipy.stats.zscore(train)\n",
    "#pd.DataFrame(train).to_csv('test_for_Weka.csv', index=False)"
   ]
  },
  {
   "cell_type": "markdown",
   "metadata": {},
   "source": [
    "*複数の特徴量　離散化あり*"
   ]
  },
  {
   "cell_type": "code",
   "execution_count": 59,
   "metadata": {
    "scrolled": true
   },
   "outputs": [],
   "source": [
    "all_data.size = pd.qcut(all_data['size'], 5, labels=False)\n",
    "all_data.aspect = pd.qcut(all_data['aspect'], 5, labels=False)\n",
    "all_data.arclength = pd.qcut(all_data['arclength'], 5, labels=False)\n",
    "all_data[['strain', 'orien']] = all_data[['strain', 'orien']].astype('int64')\n",
    "y_train = all_data.subtraction.values\n",
    "train = all_data.drop(['subtraction'], axis=1).values\n",
    "train = scipy.stats.zscore(train)"
   ]
  },
  {
   "cell_type": "markdown",
   "metadata": {},
   "source": [
    "*4つの特徴量　離散化なし*"
   ]
  },
  {
   "cell_type": "code",
   "execution_count": null,
   "metadata": {},
   "outputs": [],
   "source": [
    "all_data = all_data[all_data.columns[[0,1,3,4,5]]]\n",
    "y_train = all_data.subtraction.values\n",
    "train = all_data.drop(['subtraction'], axis=1).values\n",
    "train = scipy.stats.zscore(train)"
   ]
  },
  {
   "cell_type": "raw",
   "metadata": {},
   "source": [
    "all_data = all_data[all_data.columns[[0,1,3,4,5]]]\n",
    "y_train = all_data.subtraction.values\n",
    "train = all_data.values\n",
    "train = scipy.stats.zscore(train)\n",
    "pd.DataFrame(train).to_csv('test_for_Weka.csv', index=False)"
   ]
  },
  {
   "cell_type": "markdown",
   "metadata": {},
   "source": [
    "*4つの特徴量　離散化あり*"
   ]
  },
  {
   "cell_type": "code",
   "execution_count": 217,
   "metadata": {
    "scrolled": true
   },
   "outputs": [],
   "source": [
    "all_data.size = pd.qcut(all_data['size'], 5, labels=False)\n",
    "all_data.aspect = pd.qcut(all_data['aspect'], 5, labels=False)\n",
    "all_data[['strain', 'orien']] = all_data[['strain', 'orien']].astype('int64')\n",
    "all_data = all_data[all_data.columns[[3,4,5,6,7]]]\n",
    "#all_data = all_data[all_data.columns[[0,1,3,4,5]]]\n",
    "y_train = all_data.subtraction.values\n",
    "train = all_data.drop(['subtraction'], axis=1).values\n",
    "train = scipy.stats.zscore(train)"
   ]
  },
  {
   "cell_type": "markdown",
   "metadata": {},
   "source": [
    "*size < 8.41の（68インスタンス）で6つの特徴量　離散化なし*"
   ]
  },
  {
   "cell_type": "code",
   "execution_count": 233,
   "metadata": {},
   "outputs": [],
   "source": [
    "all_data = all_data[all_data['size'] < 8.411]\n",
    "y_train = all_data.subtraction.values\n",
    "#train = all_data.drop(['id', 'subtraction'], axis=1).values\n",
    "train = all_data.drop(['id', 'boundary', 'structure', 'subtraction'], axis=1).values\n",
    "train = scipy.stats.zscore(train)"
   ]
  },
  {
   "cell_type": "code",
   "execution_count": null,
   "metadata": {},
   "outputs": [],
   "source": []
  },
  {
   "cell_type": "code",
   "execution_count": 543,
   "metadata": {},
   "outputs": [],
   "source": [
    "from sklearn.model_selection import train_test_split\n",
    "\n",
    "xtrain, xtest, ytrain, ytest = train_test_split(\n",
    "    train, y_train, test_size=0.2, random_state=42\n",
    ")"
   ]
  },
  {
   "cell_type": "code",
   "execution_count": 544,
   "metadata": {},
   "outputs": [
    {
     "name": "stdout",
     "output_type": "stream",
     "text": [
      "xtrain shape:  (963, 8)\n",
      "y_train shape:  (963,)\n",
      "xtest shape:  (241, 8)\n",
      "y_test shape:  (241,)\n"
     ]
    }
   ],
   "source": [
    "print('xtrain shape: ', xtrain.shape)\n",
    "print('y_train shape: ', ytrain.shape)\n",
    "print('xtest shape: ', xtest.shape)\n",
    "print('y_test shape: ', ytest.shape)"
   ]
  },
  {
   "cell_type": "raw",
   "metadata": {},
   "source": [
    "xtrain = train.copy()\n",
    "xtest = train.copy()\n",
    "ytrain = y_train.copy()\n",
    "ytest = y_train.copy()"
   ]
  },
  {
   "cell_type": "markdown",
   "metadata": {},
   "source": [
    "## cross-validation開始"
   ]
  },
  {
   "cell_type": "code",
   "execution_count": 545,
   "metadata": {},
   "outputs": [],
   "source": [
    "from sklearn.model_selection import StratifiedKFold, cross_val_score\n",
    "n_folds = 10\n",
    "\n",
    "def rmsle_cv(model):\n",
    "    kf = StratifiedKFold(n_folds, shuffle=True, random_state=42).get_n_splits(xtrain)\n",
    "    rmse= np.sqrt(-cross_val_score(model, xtrain, ytrain, scoring=\"neg_mean_squared_error\", cv = kf))\n",
    "    return(rmse)"
   ]
  },
  {
   "cell_type": "markdown",
   "metadata": {},
   "source": [
    "## 様々な予測器を試す。"
   ]
  },
  {
   "cell_type": "code",
   "execution_count": 546,
   "metadata": {},
   "outputs": [],
   "source": [
    "from sklearn.kernel_ridge import KernelRidge\n",
    "KRR = KernelRidge(alpha=0.6, kernel='polynomial', degree=2, coef0=2.5)"
   ]
  },
  {
   "cell_type": "code",
   "execution_count": 547,
   "metadata": {},
   "outputs": [],
   "source": [
    "import xgboost as xgb\n",
    "model_xgb = xgb.XGBRegressor(colsample_bytree=0.4603, gamma=0.0468, \n",
    "                             learning_rate=0.05, max_depth=3, \n",
    "                             min_child_weight=1.7817, n_estimators=2200,\n",
    "                             reg_alpha=0.4640, reg_lambda=0.8571,\n",
    "                             subsample=0.5213, silent=1,\n",
    "                             random_state =7, nthread = -1)"
   ]
  },
  {
   "cell_type": "code",
   "execution_count": 548,
   "metadata": {},
   "outputs": [],
   "source": [
    "import lightgbm as lgb\n",
    "model_lgb = lgb.LGBMRegressor(objective='regression',num_leaves=5,\n",
    "                              learning_rate=0.05, n_estimators=720,\n",
    "                              max_bin = 55, bagging_fraction = 0.8,\n",
    "                              bagging_freq = 5, feature_fraction = 0.2319,\n",
    "                              feature_fraction_seed=9, bagging_seed=9,\n",
    "                              min_data_in_leaf =6, min_sum_hessian_in_leaf = 11)"
   ]
  },
  {
   "cell_type": "code",
   "execution_count": 549,
   "metadata": {},
   "outputs": [],
   "source": [
    "from sklearn.ensemble import RandomForestRegressor\n",
    "forest_reg = RandomForestRegressor(random_state=42)"
   ]
  },
  {
   "cell_type": "code",
   "execution_count": 550,
   "metadata": {},
   "outputs": [],
   "source": [
    "from sklearn.linear_model import LinearRegression\n",
    "lin_reg = LinearRegression()"
   ]
  },
  {
   "cell_type": "markdown",
   "metadata": {},
   "source": [
    "## それぞれの予測器のrmseをみる"
   ]
  },
  {
   "cell_type": "code",
   "execution_count": 211,
   "metadata": {},
   "outputs": [
    {
     "name": "stdout",
     "output_type": "stream",
     "text": [
      "all_data : 5つの特徴量　離散化なし\n",
      "Kernel Ridge score: 109.6903 (31.9492)\n",
      "Xgboost score: 119.0218 (35.4846)\n",
      "LGBM score: 133.7936 (26.8396)\n",
      "\n",
      "lin_reg score: 109.4150 (24.8798)\n",
      "\n",
      "forest_reg score: 119.3968 (33.4162)\n"
     ]
    }
   ],
   "source": [
    "print('all_data : 5つの特徴量　離散化なし')\n",
    "score = rmsle_cv(KRR)\n",
    "print(\"Kernel Ridge score: {:.4f} ({:.4f})\".format(score.mean(), score.std()))\n",
    "score = rmsle_cv(model_xgb)\n",
    "print(\"Xgboost score: {:.4f} ({:.4f})\".format(score.mean(), score.std()))\n",
    "score = rmsle_cv(model_lgb)\n",
    "print(\"LGBM score: {:.4f} ({:.4f})\".format(score.mean(), score.std()))\n",
    "score = rmsle_cv(lin_reg)\n",
    "print(\"\\nlin_reg score: {:.4f} ({:.4f})\".format(score.mean(), score.std()))\n",
    "score = rmsle_cv(forest_reg)\n",
    "print(\"\\nforest_reg score: {:.4f} ({:.4f})\".format(score.mean(), score.std()))"
   ]
  },
  {
   "cell_type": "code",
   "execution_count": 68,
   "metadata": {},
   "outputs": [
    {
     "name": "stdout",
     "output_type": "stream",
     "text": [
      "all_data : 6つの特徴量　離散化あり\n",
      "Kernel Ridge score: 129.0559 (49.5351)\n",
      "Xgboost score: 143.6694 (33.8349)\n",
      "LGBM score: 125.6899 (45.4931)\n",
      "\n",
      "lin_reg score: 147.5255 (50.3988)\n",
      "\n",
      "forest_reg score: 132.2010 (30.8317)\n"
     ]
    }
   ],
   "source": [
    "print('all_data : 5つの特徴量　離散化あり')\n",
    "score = rmsle_cv(KRR)\n",
    "print(\"Kernel Ridge score: {:.4f} ({:.4f})\".format(score.mean(), score.std()))\n",
    "score = rmsle_cv(model_xgb)\n",
    "print(\"Xgboost score: {:.4f} ({:.4f})\".format(score.mean(), score.std()))\n",
    "score = rmsle_cv(model_lgb)\n",
    "print(\"LGBM score: {:.4f} ({:.4f})\".format(score.mean(), score.std()))\n",
    "score = rmsle_cv(lin_reg)\n",
    "print(\"\\nlin_reg score: {:.4f} ({:.4f})\".format(score.mean(), score.std()))\n",
    "score = rmsle_cv(forest_reg)\n",
    "print(\"\\nforest_reg score: {:.4f} ({:.4f})\".format(score.mean(), score.std()))"
   ]
  },
  {
   "cell_type": "code",
   "execution_count": 419,
   "metadata": {},
   "outputs": [
    {
     "name": "stdout",
     "output_type": "stream",
     "text": [
      "all_data : 4つの特徴量　離散化なし\n",
      "Kernel Ridge score: 10.7307 (3.1743)\n",
      "Xgboost score: 12.2000 (2.6617)\n",
      "LGBM score: 10.0479 (4.0458)\n",
      "\n",
      "lin_reg score: 9.9091 (2.8015)\n",
      "\n",
      "forest_reg score: 10.3782 (3.2379)\n"
     ]
    }
   ],
   "source": [
    "print('all_data : 4つの特徴量　離散化なし')\n",
    "score = rmsle_cv(KRR)\n",
    "print(\"Kernel Ridge score: {:.4f} ({:.4f})\".format(score.mean(), score.std()))\n",
    "score = rmsle_cv(model_xgb)\n",
    "print(\"Xgboost score: {:.4f} ({:.4f})\".format(score.mean(), score.std()))\n",
    "score = rmsle_cv(model_lgb)\n",
    "print(\"LGBM score: {:.4f} ({:.4f})\".format(score.mean(), score.std()))\n",
    "score = rmsle_cv(lin_reg)\n",
    "print(\"\\nlin_reg score: {:.4f} ({:.4f})\".format(score.mean(), score.std()))\n",
    "score = rmsle_cv(forest_reg)\n",
    "print(\"\\nforest_reg score: {:.4f} ({:.4f})\".format(score.mean(), score.std()))"
   ]
  },
  {
   "cell_type": "code",
   "execution_count": 306,
   "metadata": {},
   "outputs": [
    {
     "name": "stdout",
     "output_type": "stream",
     "text": [
      "all_data : 4つの特徴量　離散化あり\n",
      "Kernel Ridge score: 18.0110 (9.1003)\n",
      "\n",
      "Xgboost score: 17.6561 (8.8187)\n",
      "\n",
      "LGBM score: 17.7170 (8.6502)\n",
      "\n",
      "\n",
      "lin_reg score: 20.1769 (10.1799)\n",
      "\n",
      "\n",
      "forest_reg score: 18.3700 (8.2380)\n",
      "\n"
     ]
    }
   ],
   "source": [
    "print('all_data : 4つの特徴量　離散化あり')\n",
    "score = rmsle_cv(KRR)\n",
    "print(\"Kernel Ridge score: {:.4f} ({:.4f})\".format(score.mean(), score.std()))\n",
    "score = rmsle_cv(model_xgb)\n",
    "print(\"Xgboost score: {:.4f} ({:.4f})\".format(score.mean(), score.std()))\n",
    "score = rmsle_cv(model_lgb)\n",
    "print(\"LGBM score: {:.4f} ({:.4f})\".format(score.mean(), score.std()))\n",
    "score = rmsle_cv(lin_reg)\n",
    "print(\"\\nlin_reg score: {:.4f} ({:.4f})\".format(score.mean(), score.std()))\n",
    "score = rmsle_cv(forest_reg)\n",
    "print(\"\\nforest_reg score: {:.4f} ({:.4f})\".format(score.mean(), score.std()))"
   ]
  },
  {
   "cell_type": "code",
   "execution_count": 369,
   "metadata": {},
   "outputs": [
    {
     "name": "stdout",
     "output_type": "stream",
     "text": [
      "all_data : 4つの特徴量　体積減少率　離散化なし\n",
      "Kernel Ridge score: 13.5557 (2.5681)\n",
      "\n",
      "Xgboost score: 17.0989 (2.0803)\n",
      "\n",
      "LGBM score: 14.1470 (2.1700)\n",
      "\n",
      "\n",
      "lin_reg score: 13.4536 (2.4215)\n",
      "\n",
      "\n",
      "forest_reg score: 14.4945 (2.3936)\n",
      "\n"
     ]
    }
   ],
   "source": [
    "print('all_data : 4つの特徴量　体積減少率　離散化なし')\n",
    "score = rmsle_cv(KRR)\n",
    "print(\"Kernel Ridge score: {:.4f} ({:.4f})\\n\".format(score.mean(), score.std()))\n",
    "score = rmsle_cv(model_xgb)\n",
    "print(\"Xgboost score: {:.4f} ({:.4f})\\n\".format(score.mean(), score.std()))\n",
    "score = rmsle_cv(model_lgb)\n",
    "print(\"LGBM score: {:.4f} ({:.4f})\\n\".format(score.mean(), score.std()))\n",
    "score = rmsle_cv(lin_reg)\n",
    "print(\"\\nlin_reg score: {:.4f} ({:.4f})\\n\".format(score.mean(), score.std()))\n",
    "score = rmsle_cv(forest_reg)\n",
    "print(\"\\nforest_reg score: {:.4f} ({:.4f})\\n\".format(score.mean(), score.std()))"
   ]
  },
  {
   "cell_type": "code",
   "execution_count": 429,
   "metadata": {
    "scrolled": true
   },
   "outputs": [
    {
     "name": "stdout",
     "output_type": "stream",
     "text": [
      "all_data : 6つの特徴量　size < 8.41　離散化なし\n",
      "Kernel Ridge score: 1.1340 (0.3206)\n",
      "\n",
      "Xgboost score: 1.0479 (0.3787)\n",
      "\n",
      "LGBM score: 1.2026 (0.3548)\n",
      "\n",
      "\n",
      "lin_reg score: 1.0365 (0.3083)\n",
      "\n",
      "\n",
      "forest_reg score: 0.9399 (0.3471)\n",
      "\n"
     ]
    }
   ],
   "source": [
    "print('all_data : 6つの特徴量　size < 8.41　離散化なし')\n",
    "score = rmsle_cv(KRR)\n",
    "print(\"Kernel Ridge score: {:.4f} ({:.4f})\\n\".format(score.mean(), score.std()))\n",
    "score = rmsle_cv(model_xgb)\n",
    "print(\"Xgboost score: {:.4f} ({:.4f})\\n\".format(score.mean(), score.std()))\n",
    "score = rmsle_cv(model_lgb)\n",
    "print(\"LGBM score: {:.4f} ({:.4f})\\n\".format(score.mean(), score.std()))\n",
    "score = rmsle_cv(lin_reg)\n",
    "print(\"\\nlin_reg score: {:.4f} ({:.4f})\\n\".format(score.mean(), score.std()))\n",
    "score = rmsle_cv(forest_reg)\n",
    "print(\"\\nforest_reg score: {:.4f} ({:.4f})\\n\".format(score.mean(), score.std()))"
   ]
  },
  {
   "cell_type": "markdown",
   "metadata": {},
   "source": [
    "## correlation coefficientの計算と、random forestのGridSearch開始"
   ]
  },
  {
   "cell_type": "code",
   "execution_count": 551,
   "metadata": {},
   "outputs": [],
   "source": [
    "def cc(y, y_pre):\n",
    "    correlation = pd.DataFrame({'y':y, 'y_pre':y_pre})\n",
    "    return print('correlation coefficient is: {0:0.3f}'.format(correlation.corr().iloc[0,1]))"
   ]
  },
  {
   "cell_type": "code",
   "execution_count": 552,
   "metadata": {},
   "outputs": [
    {
     "name": "stdout",
     "output_type": "stream",
     "text": [
      "correlation coefficient is: 0.370\n"
     ]
    }
   ],
   "source": [
    "model_xgb.fit(xtrain, ytrain)\n",
    "cc(model_xgb.predict(xtest), ytest)"
   ]
  },
  {
   "cell_type": "code",
   "execution_count": 553,
   "metadata": {},
   "outputs": [
    {
     "name": "stdout",
     "output_type": "stream",
     "text": [
      "correlation coefficient is: 0.368\n"
     ]
    }
   ],
   "source": [
    "model_lgb.fit(xtrain, ytrain)\n",
    "cc(model_lgb.predict(xtest), ytest)"
   ]
  },
  {
   "cell_type": "code",
   "execution_count": 554,
   "metadata": {},
   "outputs": [
    {
     "name": "stdout",
     "output_type": "stream",
     "text": [
      "correlation coefficient is: 0.387\n"
     ]
    }
   ],
   "source": [
    "lin_reg.fit(xtrain, ytrain)\n",
    "cc(lin_reg.predict(xtest), ytest)"
   ]
  },
  {
   "cell_type": "code",
   "execution_count": 555,
   "metadata": {
    "scrolled": true
   },
   "outputs": [
    {
     "name": "stdout",
     "output_type": "stream",
     "text": [
      "correlation coefficient is: 0.432\n"
     ]
    }
   ],
   "source": [
    "from sklearn.svm import SVR\n",
    "svr = SVR(C=1.0, epsilon=0.2)\n",
    "svr.fit(xtrain, ytrain)\n",
    "cc(svr.predict(xtest), ytest)"
   ]
  },
  {
   "cell_type": "code",
   "execution_count": 556,
   "metadata": {},
   "outputs": [
    {
     "name": "stdout",
     "output_type": "stream",
     "text": [
      "correlation coefficient is: 0.391\n"
     ]
    }
   ],
   "source": [
    "from sklearn import svm\n",
    "svm_lin = svm.LinearSVR()\n",
    "svm_lin.fit(xtrain, ytrain)\n",
    "cc(svm_lin.predict(xtest), ytest)"
   ]
  },
  {
   "cell_type": "code",
   "execution_count": 557,
   "metadata": {},
   "outputs": [
    {
     "name": "stdout",
     "output_type": "stream",
     "text": [
      "correlation coefficient is: 0.424\n"
     ]
    }
   ],
   "source": [
    "from sklearn.neural_network import MLPRegressor\n",
    "mlp_reg = MLPRegressor(random_state=1)\n",
    "#hidden_layer_sizes=(5, ), activation=’relu’, solver=’adam’, alpha=0.0001, batch_size=’auto’, \n",
    "#learning_rate=’constant’, learning_rate_init=0.001, max_iter=200, shuffle=True, momentum=0.9\n",
    "mlp_reg.fit(xtrain, ytrain)\n",
    "cc(mlp_reg.predict(xtest), ytest)"
   ]
  },
  {
   "cell_type": "code",
   "execution_count": 558,
   "metadata": {
    "scrolled": true
   },
   "outputs": [
    {
     "name": "stdout",
     "output_type": "stream",
     "text": [
      "correlation coefficient is: 0.424\n"
     ]
    }
   ],
   "source": [
    "KRR = KernelRidge(alpha=0.6, kernel='polynomial', degree=2, coef0=2.5)\n",
    "KRR.fit(xtrain, ytrain)\n",
    "cc(KRR.predict(xtest), ytest)"
   ]
  },
  {
   "cell_type": "code",
   "execution_count": 559,
   "metadata": {},
   "outputs": [
    {
     "name": "stdout",
     "output_type": "stream",
     "text": [
      "correlation coefficient is: 0.409\n"
     ]
    }
   ],
   "source": [
    "forest_reg = RandomForestRegressor(random_state=1)\n",
    "forest_reg.fit(xtrain, ytrain)\n",
    "cc(forest_reg.predict(xtest), ytest)"
   ]
  },
  {
   "cell_type": "code",
   "execution_count": 560,
   "metadata": {
    "scrolled": true
   },
   "outputs": [
    {
     "name": "stdout",
     "output_type": "stream",
     "text": [
      "mean correlation:  0.4086149876969849\n"
     ]
    },
    {
     "data": {
      "image/png": "[encoded data removed]",
      "text/plain": [
       "<Figure size 432x288 with 1 Axes>"
      ]
     },
     "metadata": {
      "needs_background": "light"
     },
     "output_type": "display_data"
    }
   ],
   "source": [
    "import matplotlib.pyplot as plt\n",
    "\n",
    "nrange = range(0,500)\n",
    "grid_score = []\n",
    "feature_importances = np.ones((0,xtrain[0, :].shape[0]))\n",
    "\n",
    "for i in nrange:\n",
    "    forest_reg = RandomForestRegressor(random_state=i)\n",
    "    forest_reg.fit(xtrain, ytrain)\n",
    "    correlation = pd.DataFrame({'y':ytest, 'y_pre':forest_reg.predict(xtest)})\n",
    "    grid_score.append(correlation.corr().iloc[0,1])\n",
    "    fi = forest_reg.feature_importances_.reshape(1,-1)\n",
    "    feature_importances = np.r_[feature_importances, fi]\n",
    "print('mean correlation: ', np.mean(grid_score))\n",
    "plt.plot(nrange, grid_score)\n",
    "plt.show()"
   ]
  },
  {
   "cell_type": "code",
   "execution_count": 31,
   "metadata": {},
   "outputs": [
    {
     "data": {
      "image/png": "[encoded data removed]",
      "text/plain": [
       "<Figure size 1080x360 with 3 Axes>"
      ]
     },
     "metadata": {
      "needs_background": "light"
     },
     "output_type": "display_data"
    }
   ],
   "source": [
    "plt.figure(figsize=(15,5))\n",
    "plt.subplot(1,3,1)\n",
    "plt.hist(ytest, bins=ytest.shape[0])\n",
    "plt.title('ture ans')\n",
    "plt.xlim([min(ytest), max(ytest)])\n",
    "plt.ylim([0, 15])\n",
    "\n",
    "plt.subplot(1,3,2)\n",
    "plt.hist(KRR.predict(xtest), bins=ytest.shape[0])\n",
    "plt.title('KRR predict')\n",
    "plt.xlim([min(ytest), max(ytest)])\n",
    "plt.ylim([0, 15])\n",
    "\n",
    "plt.subplot(1,3,3)\n",
    "plt.hist(forest_reg.predict(xtest), bins=ytest.shape[0])\n",
    "plt.title('forest_reg predict')\n",
    "plt.xlim([min(ytest), max(ytest)])\n",
    "plt.ylim([0, 15])\n",
    "\n",
    "plt.show()"
   ]
  },
  {
   "cell_type": "markdown",
   "metadata": {},
   "source": [
    "*4% (subtraction = サイズ - 変形後サイズ/3)　4つ　離散化なし*"
   ]
  },
  {
   "cell_type": "code",
   "execution_count": 80,
   "metadata": {
    "scrolled": true
   },
   "outputs": [
    {
     "name": "stdout",
     "output_type": "stream",
     "text": [
      "4 features without recretization\n"
     ]
    },
    {
     "data": {
      "text/html": [
       "<div>\n",
       "<style scoped>\n",
       "    .dataframe tbody tr th:only-of-type {\n",
       "        vertical-align: middle;\n",
       "    }\n",
       "\n",
       "    .dataframe tbody tr th {\n",
       "        vertical-align: top;\n",
       "    }\n",
       "\n",
       "    .dataframe thead th {\n",
       "        text-align: right;\n",
       "    }\n",
       "</style>\n",
       "<table border=\"1\" class=\"dataframe\">\n",
       "  <thead>\n",
       "    <tr style=\"text-align: right;\">\n",
       "      <th></th>\n",
       "      <th>feature_importances_</th>\n",
       "    </tr>\n",
       "  </thead>\n",
       "  <tbody>\n",
       "    <tr>\n",
       "      <th>strain</th>\n",
       "      <td>0.003868</td>\n",
       "    </tr>\n",
       "    <tr>\n",
       "      <th>orien</th>\n",
       "      <td>0.003240</td>\n",
       "    </tr>\n",
       "    <tr>\n",
       "      <th>aspect</th>\n",
       "      <td>0.015890</td>\n",
       "    </tr>\n",
       "    <tr>\n",
       "      <th>size</th>\n",
       "      <td>0.977001</td>\n",
       "    </tr>\n",
       "  </tbody>\n",
       "</table>\n",
       "</div>"
      ],
      "text/plain": [
       "        feature_importances_\n",
       "strain              0.003868\n",
       "orien               0.003240\n",
       "aspect              0.015890\n",
       "size                0.977001"
      ]
     },
     "execution_count": 80,
     "metadata": {},
     "output_type": "execute_result"
    }
   ],
   "source": [
    "print('4 features without recretization')\n",
    "pd.DataFrame(feature_importances.mean(axis=0), index=list(all_data.columns[0:4]), columns=['feature_importances_'])"
   ]
  },
  {
   "cell_type": "markdown",
   "metadata": {},
   "source": [
    "4% 4つ（体積減少率）離散化なし"
   ]
  },
  {
   "cell_type": "code",
   "execution_count": 367,
   "metadata": {
    "scrolled": true
   },
   "outputs": [
    {
     "data": {
      "text/html": [
       "<div>\n",
       "<style scoped>\n",
       "    .dataframe tbody tr th:only-of-type {\n",
       "        vertical-align: middle;\n",
       "    }\n",
       "\n",
       "    .dataframe tbody tr th {\n",
       "        vertical-align: top;\n",
       "    }\n",
       "\n",
       "    .dataframe thead th {\n",
       "        text-align: right;\n",
       "    }\n",
       "</style>\n",
       "<table border=\"1\" class=\"dataframe\">\n",
       "  <thead>\n",
       "    <tr style=\"text-align: right;\">\n",
       "      <th></th>\n",
       "      <th>feature_importances_</th>\n",
       "    </tr>\n",
       "  </thead>\n",
       "  <tbody>\n",
       "    <tr>\n",
       "      <th>strain</th>\n",
       "      <td>0.072540</td>\n",
       "    </tr>\n",
       "    <tr>\n",
       "      <th>orien</th>\n",
       "      <td>0.051389</td>\n",
       "    </tr>\n",
       "    <tr>\n",
       "      <th>aspect</th>\n",
       "      <td>0.294003</td>\n",
       "    </tr>\n",
       "    <tr>\n",
       "      <th>size</th>\n",
       "      <td>0.582068</td>\n",
       "    </tr>\n",
       "  </tbody>\n",
       "</table>\n",
       "</div>"
      ],
      "text/plain": [
       "        feature_importances_\n",
       "strain              0.072540\n",
       "orien               0.051389\n",
       "aspect              0.294003\n",
       "size                0.582068"
      ]
     },
     "execution_count": 367,
     "metadata": {},
     "output_type": "execute_result"
    }
   ],
   "source": [
    "pd.DataFrame(feature_importances.mean(axis=0), index=list(all_data.columns[:4]), \n",
    "             columns=['feature_importances_'])"
   ]
  },
  {
   "cell_type": "markdown",
   "metadata": {},
   "source": [
    "4% 4つ (サイズ<100)　離散化なし"
   ]
  },
  {
   "cell_type": "code",
   "execution_count": 418,
   "metadata": {},
   "outputs": [
    {
     "data": {
      "text/html": [
       "<div>\n",
       "<style scoped>\n",
       "    .dataframe tbody tr th:only-of-type {\n",
       "        vertical-align: middle;\n",
       "    }\n",
       "\n",
       "    .dataframe tbody tr th {\n",
       "        vertical-align: top;\n",
       "    }\n",
       "\n",
       "    .dataframe thead th {\n",
       "        text-align: right;\n",
       "    }\n",
       "</style>\n",
       "<table border=\"1\" class=\"dataframe\">\n",
       "  <thead>\n",
       "    <tr style=\"text-align: right;\">\n",
       "      <th></th>\n",
       "      <th>feature_importances_</th>\n",
       "    </tr>\n",
       "  </thead>\n",
       "  <tbody>\n",
       "    <tr>\n",
       "      <th>strain</th>\n",
       "      <td>0.129779</td>\n",
       "    </tr>\n",
       "    <tr>\n",
       "      <th>orien</th>\n",
       "      <td>0.044086</td>\n",
       "    </tr>\n",
       "    <tr>\n",
       "      <th>aspect</th>\n",
       "      <td>0.354375</td>\n",
       "    </tr>\n",
       "    <tr>\n",
       "      <th>size</th>\n",
       "      <td>0.471760</td>\n",
       "    </tr>\n",
       "  </tbody>\n",
       "</table>\n",
       "</div>"
      ],
      "text/plain": [
       "        feature_importances_\n",
       "strain              0.129779\n",
       "orien               0.044086\n",
       "aspect              0.354375\n",
       "size                0.471760"
      ]
     },
     "execution_count": 418,
     "metadata": {},
     "output_type": "execute_result"
    }
   ],
   "source": [
    "pd.DataFrame(feature_importances.mean(axis=0), index=list(all_data.columns[:4]), \n",
    "             columns=['feature_importances_'])"
   ]
  },
  {
   "cell_type": "markdown",
   "metadata": {},
   "source": [
    "*12% 4つ ( size < 8.41)　離散化なし*"
   ]
  },
  {
   "cell_type": "code",
   "execution_count": 245,
   "metadata": {},
   "outputs": [
    {
     "data": {
      "text/html": [
       "<div>\n",
       "<style scoped>\n",
       "    .dataframe tbody tr th:only-of-type {\n",
       "        vertical-align: middle;\n",
       "    }\n",
       "\n",
       "    .dataframe tbody tr th {\n",
       "        vertical-align: top;\n",
       "    }\n",
       "\n",
       "    .dataframe thead th {\n",
       "        text-align: right;\n",
       "    }\n",
       "</style>\n",
       "<table border=\"1\" class=\"dataframe\">\n",
       "  <thead>\n",
       "    <tr style=\"text-align: right;\">\n",
       "      <th></th>\n",
       "      <th>feature_importances_</th>\n",
       "    </tr>\n",
       "  </thead>\n",
       "  <tbody>\n",
       "    <tr>\n",
       "      <th>strain</th>\n",
       "      <td>0.050831</td>\n",
       "    </tr>\n",
       "    <tr>\n",
       "      <th>orien</th>\n",
       "      <td>0.042516</td>\n",
       "    </tr>\n",
       "    <tr>\n",
       "      <th>aspect</th>\n",
       "      <td>0.104693</td>\n",
       "    </tr>\n",
       "    <tr>\n",
       "      <th>size</th>\n",
       "      <td>0.801959</td>\n",
       "    </tr>\n",
       "  </tbody>\n",
       "</table>\n",
       "</div>"
      ],
      "text/plain": [
       "        feature_importances_\n",
       "strain              0.050831\n",
       "orien               0.042516\n",
       "aspect              0.104693\n",
       "size                0.801959"
      ]
     },
     "execution_count": 245,
     "metadata": {},
     "output_type": "execute_result"
    }
   ],
   "source": [
    "pd.DataFrame(feature_importances.mean(axis=0), index=list(all_data.columns[3:7]), \n",
    "             columns=['feature_importances_'])"
   ]
  },
  {
   "cell_type": "markdown",
   "metadata": {},
   "source": [
    "*12% 4つ　離散化あり*"
   ]
  },
  {
   "cell_type": "code",
   "execution_count": 230,
   "metadata": {},
   "outputs": [
    {
     "name": "stdout",
     "output_type": "stream",
     "text": [
      "4 features without recretization\n"
     ]
    },
    {
     "data": {
      "text/html": [
       "<div>\n",
       "<style scoped>\n",
       "    .dataframe tbody tr th:only-of-type {\n",
       "        vertical-align: middle;\n",
       "    }\n",
       "\n",
       "    .dataframe tbody tr th {\n",
       "        vertical-align: top;\n",
       "    }\n",
       "\n",
       "    .dataframe thead th {\n",
       "        text-align: right;\n",
       "    }\n",
       "</style>\n",
       "<table border=\"1\" class=\"dataframe\">\n",
       "  <thead>\n",
       "    <tr style=\"text-align: right;\">\n",
       "      <th></th>\n",
       "      <th>feature_importances_</th>\n",
       "    </tr>\n",
       "  </thead>\n",
       "  <tbody>\n",
       "    <tr>\n",
       "      <th>strain</th>\n",
       "      <td>0.123451</td>\n",
       "    </tr>\n",
       "    <tr>\n",
       "      <th>orien</th>\n",
       "      <td>0.161108</td>\n",
       "    </tr>\n",
       "    <tr>\n",
       "      <th>aspect</th>\n",
       "      <td>0.119547</td>\n",
       "    </tr>\n",
       "    <tr>\n",
       "      <th>size</th>\n",
       "      <td>0.595894</td>\n",
       "    </tr>\n",
       "  </tbody>\n",
       "</table>\n",
       "</div>"
      ],
      "text/plain": [
       "        feature_importances_\n",
       "strain              0.123451\n",
       "orien               0.161108\n",
       "aspect              0.119547\n",
       "size                0.595894"
      ]
     },
     "execution_count": 230,
     "metadata": {},
     "output_type": "execute_result"
    }
   ],
   "source": [
    "print('4 features without recretization')\n",
    "pd.DataFrame(feature_importances.mean(axis=0), index=list(all_data.columns[0:4]), columns=['feature_importances_'])"
   ]
  },
  {
   "cell_type": "markdown",
   "metadata": {},
   "source": [
    "12% 6つ　離散化なし"
   ]
  },
  {
   "cell_type": "code",
   "execution_count": 163,
   "metadata": {
    "scrolled": true
   },
   "outputs": [
    {
     "data": {
      "text/html": [
       "<div>\n",
       "<style scoped>\n",
       "    .dataframe tbody tr th:only-of-type {\n",
       "        vertical-align: middle;\n",
       "    }\n",
       "\n",
       "    .dataframe tbody tr th {\n",
       "        vertical-align: top;\n",
       "    }\n",
       "\n",
       "    .dataframe thead th {\n",
       "        text-align: right;\n",
       "    }\n",
       "</style>\n",
       "<table border=\"1\" class=\"dataframe\">\n",
       "  <thead>\n",
       "    <tr style=\"text-align: right;\">\n",
       "      <th></th>\n",
       "      <th>feature_importances_</th>\n",
       "    </tr>\n",
       "  </thead>\n",
       "  <tbody>\n",
       "    <tr>\n",
       "      <th>boundary</th>\n",
       "      <td>0.007702</td>\n",
       "    </tr>\n",
       "    <tr>\n",
       "      <th>structure</th>\n",
       "      <td>0.006475</td>\n",
       "    </tr>\n",
       "    <tr>\n",
       "      <th>strain</th>\n",
       "      <td>0.011902</td>\n",
       "    </tr>\n",
       "    <tr>\n",
       "      <th>orien</th>\n",
       "      <td>0.009008</td>\n",
       "    </tr>\n",
       "    <tr>\n",
       "      <th>aspect</th>\n",
       "      <td>0.016138</td>\n",
       "    </tr>\n",
       "    <tr>\n",
       "      <th>size</th>\n",
       "      <td>0.948775</td>\n",
       "    </tr>\n",
       "  </tbody>\n",
       "</table>\n",
       "</div>"
      ],
      "text/plain": [
       "           feature_importances_\n",
       "boundary               0.007702\n",
       "structure              0.006475\n",
       "strain                 0.011902\n",
       "orien                  0.009008\n",
       "aspect                 0.016138\n",
       "size                   0.948775"
      ]
     },
     "execution_count": 163,
     "metadata": {},
     "output_type": "execute_result"
    }
   ],
   "source": [
    "pd.DataFrame(feature_importances.mean(axis=0), index=list(all_data.columns[1:7]), \n",
    "             columns=['feature_importances_'])"
   ]
  },
  {
   "cell_type": "markdown",
   "metadata": {},
   "source": [
    "12% 6つ→4つ　離散化なし"
   ]
  },
  {
   "cell_type": "code",
   "execution_count": 184,
   "metadata": {},
   "outputs": [
    {
     "data": {
      "text/html": [
       "<div>\n",
       "<style scoped>\n",
       "    .dataframe tbody tr th:only-of-type {\n",
       "        vertical-align: middle;\n",
       "    }\n",
       "\n",
       "    .dataframe tbody tr th {\n",
       "        vertical-align: top;\n",
       "    }\n",
       "\n",
       "    .dataframe thead th {\n",
       "        text-align: right;\n",
       "    }\n",
       "</style>\n",
       "<table border=\"1\" class=\"dataframe\">\n",
       "  <thead>\n",
       "    <tr style=\"text-align: right;\">\n",
       "      <th></th>\n",
       "      <th>feature_importances_</th>\n",
       "    </tr>\n",
       "  </thead>\n",
       "  <tbody>\n",
       "    <tr>\n",
       "      <th>strain</th>\n",
       "      <td>0.012899</td>\n",
       "    </tr>\n",
       "    <tr>\n",
       "      <th>orien</th>\n",
       "      <td>0.010522</td>\n",
       "    </tr>\n",
       "    <tr>\n",
       "      <th>aspect</th>\n",
       "      <td>0.018304</td>\n",
       "    </tr>\n",
       "    <tr>\n",
       "      <th>size</th>\n",
       "      <td>0.958275</td>\n",
       "    </tr>\n",
       "  </tbody>\n",
       "</table>\n",
       "</div>"
      ],
      "text/plain": [
       "        feature_importances_\n",
       "strain              0.012899\n",
       "orien               0.010522\n",
       "aspect              0.018304\n",
       "size                0.958275"
      ]
     },
     "execution_count": 184,
     "metadata": {},
     "output_type": "execute_result"
    }
   ],
   "source": [
    "pd.DataFrame(feature_importances.mean(axis=0), index=list(all_data.columns[3:7]), \n",
    "             columns=['feature_importances_'])"
   ]
  },
  {
   "cell_type": "markdown",
   "metadata": {},
   "source": [
    "12% 6つ（体積減少率）離散化なし"
   ]
  },
  {
   "cell_type": "code",
   "execution_count": 342,
   "metadata": {
    "scrolled": true
   },
   "outputs": [
    {
     "data": {
      "text/html": [
       "<div>\n",
       "<style scoped>\n",
       "    .dataframe tbody tr th:only-of-type {\n",
       "        vertical-align: middle;\n",
       "    }\n",
       "\n",
       "    .dataframe tbody tr th {\n",
       "        vertical-align: top;\n",
       "    }\n",
       "\n",
       "    .dataframe thead th {\n",
       "        text-align: right;\n",
       "    }\n",
       "</style>\n",
       "<table border=\"1\" class=\"dataframe\">\n",
       "  <thead>\n",
       "    <tr style=\"text-align: right;\">\n",
       "      <th></th>\n",
       "      <th>feature_importances_</th>\n",
       "    </tr>\n",
       "  </thead>\n",
       "  <tbody>\n",
       "    <tr>\n",
       "      <th>boundary</th>\n",
       "      <td>0.041607</td>\n",
       "    </tr>\n",
       "    <tr>\n",
       "      <th>structure</th>\n",
       "      <td>0.060747</td>\n",
       "    </tr>\n",
       "    <tr>\n",
       "      <th>strain</th>\n",
       "      <td>0.159143</td>\n",
       "    </tr>\n",
       "    <tr>\n",
       "      <th>orien</th>\n",
       "      <td>0.127619</td>\n",
       "    </tr>\n",
       "    <tr>\n",
       "      <th>aspect</th>\n",
       "      <td>0.245961</td>\n",
       "    </tr>\n",
       "    <tr>\n",
       "      <th>size</th>\n",
       "      <td>0.364924</td>\n",
       "    </tr>\n",
       "  </tbody>\n",
       "</table>\n",
       "</div>"
      ],
      "text/plain": [
       "           feature_importances_\n",
       "boundary               0.041607\n",
       "structure              0.060747\n",
       "strain                 0.159143\n",
       "orien                  0.127619\n",
       "aspect                 0.245961\n",
       "size                   0.364924"
      ]
     },
     "execution_count": 342,
     "metadata": {},
     "output_type": "execute_result"
    }
   ],
   "source": [
    "pd.DataFrame(feature_importances.mean(axis=0), index=list(all_data.columns[1:7]), \n",
    "             columns=['feature_importances_'])"
   ]
  },
  {
   "cell_type": "markdown",
   "metadata": {},
   "source": [
    "*12% 6つ（体積減少率）離散化なし　テストデータ学習データと同じで過学習必須*"
   ]
  },
  {
   "cell_type": "code",
   "execution_count": 79,
   "metadata": {
    "scrolled": true
   },
   "outputs": [
    {
     "data": {
      "text/html": [
       "<div>\n",
       "<style scoped>\n",
       "    .dataframe tbody tr th:only-of-type {\n",
       "        vertical-align: middle;\n",
       "    }\n",
       "\n",
       "    .dataframe tbody tr th {\n",
       "        vertical-align: top;\n",
       "    }\n",
       "\n",
       "    .dataframe thead th {\n",
       "        text-align: right;\n",
       "    }\n",
       "</style>\n",
       "<table border=\"1\" class=\"dataframe\">\n",
       "  <thead>\n",
       "    <tr style=\"text-align: right;\">\n",
       "      <th></th>\n",
       "      <th>feature_importances_</th>\n",
       "    </tr>\n",
       "  </thead>\n",
       "  <tbody>\n",
       "    <tr>\n",
       "      <th>boundary</th>\n",
       "      <td>0.046075</td>\n",
       "    </tr>\n",
       "    <tr>\n",
       "      <th>structure</th>\n",
       "      <td>0.066272</td>\n",
       "    </tr>\n",
       "    <tr>\n",
       "      <th>strain</th>\n",
       "      <td>0.153843</td>\n",
       "    </tr>\n",
       "    <tr>\n",
       "      <th>orien</th>\n",
       "      <td>0.124694</td>\n",
       "    </tr>\n",
       "    <tr>\n",
       "      <th>aspect</th>\n",
       "      <td>0.251942</td>\n",
       "    </tr>\n",
       "    <tr>\n",
       "      <th>size</th>\n",
       "      <td>0.357173</td>\n",
       "    </tr>\n",
       "  </tbody>\n",
       "</table>\n",
       "</div>"
      ],
      "text/plain": [
       "           feature_importances_\n",
       "boundary               0.046075\n",
       "structure              0.066272\n",
       "strain                 0.153843\n",
       "orien                  0.124694\n",
       "aspect                 0.251942\n",
       "size                   0.357173"
      ]
     },
     "execution_count": 79,
     "metadata": {},
     "output_type": "execute_result"
    }
   ],
   "source": [
    "pd.DataFrame(feature_importances.mean(axis=0), index=list(all_data.columns[1:7]), \n",
    "             columns=['feature_importances_'])"
   ]
  },
  {
   "cell_type": "markdown",
   "metadata": {},
   "source": [
    "*初のsubtraction自動　4つの特徴量　離散化なし*"
   ]
  },
  {
   "cell_type": "code",
   "execution_count": 73,
   "metadata": {},
   "outputs": [
    {
     "data": {
      "text/html": [
       "<div>\n",
       "<style scoped>\n",
       "    .dataframe tbody tr th:only-of-type {\n",
       "        vertical-align: middle;\n",
       "    }\n",
       "\n",
       "    .dataframe tbody tr th {\n",
       "        vertical-align: top;\n",
       "    }\n",
       "\n",
       "    .dataframe thead th {\n",
       "        text-align: right;\n",
       "    }\n",
       "</style>\n",
       "<table border=\"1\" class=\"dataframe\">\n",
       "  <thead>\n",
       "    <tr style=\"text-align: right;\">\n",
       "      <th></th>\n",
       "      <th>feature_importances_</th>\n",
       "    </tr>\n",
       "  </thead>\n",
       "  <tbody>\n",
       "    <tr>\n",
       "      <th>strain</th>\n",
       "      <td>0.015187</td>\n",
       "    </tr>\n",
       "    <tr>\n",
       "      <th>orien</th>\n",
       "      <td>0.067124</td>\n",
       "    </tr>\n",
       "    <tr>\n",
       "      <th>aspect</th>\n",
       "      <td>0.060852</td>\n",
       "    </tr>\n",
       "    <tr>\n",
       "      <th>size</th>\n",
       "      <td>0.856836</td>\n",
       "    </tr>\n",
       "  </tbody>\n",
       "</table>\n",
       "</div>"
      ],
      "text/plain": [
       "        feature_importances_\n",
       "strain              0.015187\n",
       "orien               0.067124\n",
       "aspect              0.060852\n",
       "size                0.856836"
      ]
     },
     "execution_count": 73,
     "metadata": {},
     "output_type": "execute_result"
    }
   ],
   "source": [
    "pd.DataFrame(feature_importances.mean(axis=0), index=['strain', 'orien', 'aspect', 'size'], \n",
    "             columns=['feature_importances_'])"
   ]
  },
  {
   "cell_type": "markdown",
   "metadata": {},
   "source": [
    "*初のsubtraction自動　4つの特徴量（体積減少率）　離散化なし*"
   ]
  },
  {
   "cell_type": "code",
   "execution_count": 36,
   "metadata": {},
   "outputs": [
    {
     "data": {
      "text/html": [
       "<div>\n",
       "<style scoped>\n",
       "    .dataframe tbody tr th:only-of-type {\n",
       "        vertical-align: middle;\n",
       "    }\n",
       "\n",
       "    .dataframe tbody tr th {\n",
       "        vertical-align: top;\n",
       "    }\n",
       "\n",
       "    .dataframe thead th {\n",
       "        text-align: right;\n",
       "    }\n",
       "</style>\n",
       "<table border=\"1\" class=\"dataframe\">\n",
       "  <thead>\n",
       "    <tr style=\"text-align: right;\">\n",
       "      <th></th>\n",
       "      <th>feature_importances_</th>\n",
       "    </tr>\n",
       "  </thead>\n",
       "  <tbody>\n",
       "    <tr>\n",
       "      <th>strain</th>\n",
       "      <td>0.101194</td>\n",
       "    </tr>\n",
       "    <tr>\n",
       "      <th>orien</th>\n",
       "      <td>0.102540</td>\n",
       "    </tr>\n",
       "    <tr>\n",
       "      <th>aspect</th>\n",
       "      <td>0.416900</td>\n",
       "    </tr>\n",
       "    <tr>\n",
       "      <th>size</th>\n",
       "      <td>0.379366</td>\n",
       "    </tr>\n",
       "  </tbody>\n",
       "</table>\n",
       "</div>"
      ],
      "text/plain": [
       "        feature_importances_\n",
       "strain              0.101194\n",
       "orien               0.102540\n",
       "aspect              0.416900\n",
       "size                0.379366"
      ]
     },
     "execution_count": 36,
     "metadata": {},
     "output_type": "execute_result"
    }
   ],
   "source": [
    "pd.DataFrame(feature_importances.mean(axis=0), index=['strain', 'orien', 'aspect', 'size'], \n",
    "             columns=['feature_importances_'])"
   ]
  },
  {
   "cell_type": "markdown",
   "metadata": {},
   "source": [
    "*初の自動認識　5つの特徴量（体積減少率）　離散化なし*"
   ]
  },
  {
   "cell_type": "code",
   "execution_count": 63,
   "metadata": {},
   "outputs": [
    {
     "data": {
      "text/html": [
       "<div>\n",
       "<style scoped>\n",
       "    .dataframe tbody tr th:only-of-type {\n",
       "        vertical-align: middle;\n",
       "    }\n",
       "\n",
       "    .dataframe tbody tr th {\n",
       "        vertical-align: top;\n",
       "    }\n",
       "\n",
       "    .dataframe thead th {\n",
       "        text-align: right;\n",
       "    }\n",
       "</style>\n",
       "<table border=\"1\" class=\"dataframe\">\n",
       "  <thead>\n",
       "    <tr style=\"text-align: right;\">\n",
       "      <th></th>\n",
       "      <th>feature_importances_</th>\n",
       "    </tr>\n",
       "  </thead>\n",
       "  <tbody>\n",
       "    <tr>\n",
       "      <th>strain</th>\n",
       "      <td>0.084779</td>\n",
       "    </tr>\n",
       "    <tr>\n",
       "      <th>orien</th>\n",
       "      <td>0.055584</td>\n",
       "    </tr>\n",
       "    <tr>\n",
       "      <th>arclength</th>\n",
       "      <td>0.232967</td>\n",
       "    </tr>\n",
       "    <tr>\n",
       "      <th>aspect</th>\n",
       "      <td>0.318043</td>\n",
       "    </tr>\n",
       "    <tr>\n",
       "      <th>size</th>\n",
       "      <td>0.308627</td>\n",
       "    </tr>\n",
       "  </tbody>\n",
       "</table>\n",
       "</div>"
      ],
      "text/plain": [
       "           feature_importances_\n",
       "strain                 0.084779\n",
       "orien                  0.055584\n",
       "arclength              0.232967\n",
       "aspect                 0.318043\n",
       "size                   0.308627"
      ]
     },
     "execution_count": 63,
     "metadata": {},
     "output_type": "execute_result"
    }
   ],
   "source": [
    "pd.DataFrame(feature_importances.mean(axis=0), index=list(all_data.columns[:5]), \n",
    "             columns=['feature_importances_'])"
   ]
  },
  {
   "cell_type": "markdown",
   "metadata": {},
   "source": [
    "*初の自動認識　5つの特徴量　離散化なし*"
   ]
  },
  {
   "cell_type": "code",
   "execution_count": 87,
   "metadata": {
    "scrolled": true
   },
   "outputs": [
    {
     "data": {
      "text/html": [
       "<div>\n",
       "<style scoped>\n",
       "    .dataframe tbody tr th:only-of-type {\n",
       "        vertical-align: middle;\n",
       "    }\n",
       "\n",
       "    .dataframe tbody tr th {\n",
       "        vertical-align: top;\n",
       "    }\n",
       "\n",
       "    .dataframe thead th {\n",
       "        text-align: right;\n",
       "    }\n",
       "</style>\n",
       "<table border=\"1\" class=\"dataframe\">\n",
       "  <thead>\n",
       "    <tr style=\"text-align: right;\">\n",
       "      <th></th>\n",
       "      <th>feature_importances_</th>\n",
       "    </tr>\n",
       "  </thead>\n",
       "  <tbody>\n",
       "    <tr>\n",
       "      <th>strain</th>\n",
       "      <td>0.031859</td>\n",
       "    </tr>\n",
       "    <tr>\n",
       "      <th>orien</th>\n",
       "      <td>0.012597</td>\n",
       "    </tr>\n",
       "    <tr>\n",
       "      <th>arclength</th>\n",
       "      <td>0.067017</td>\n",
       "    </tr>\n",
       "    <tr>\n",
       "      <th>aspect</th>\n",
       "      <td>0.179585</td>\n",
       "    </tr>\n",
       "    <tr>\n",
       "      <th>size</th>\n",
       "      <td>0.708942</td>\n",
       "    </tr>\n",
       "  </tbody>\n",
       "</table>\n",
       "</div>"
      ],
      "text/plain": [
       "           feature_importances_\n",
       "strain                 0.031859\n",
       "orien                  0.012597\n",
       "arclength              0.067017\n",
       "aspect                 0.179585\n",
       "size                   0.708942"
      ]
     },
     "execution_count": 87,
     "metadata": {},
     "output_type": "execute_result"
    }
   ],
   "source": [
    "pd.DataFrame(feature_importances.mean(axis=0), index=list(all_data.columns[:5]), \n",
    "             columns=['feature_importances_'])"
   ]
  },
  {
   "cell_type": "markdown",
   "metadata": {},
   "source": [
    "*自動認識　8つの特徴量　離散化なし*"
   ]
  },
  {
   "cell_type": "code",
   "execution_count": 88,
   "metadata": {
    "scrolled": true
   },
   "outputs": [
    {
     "data": {
      "text/html": [
       "<div>\n",
       "<style scoped>\n",
       "    .dataframe tbody tr th:only-of-type {\n",
       "        vertical-align: middle;\n",
       "    }\n",
       "\n",
       "    .dataframe tbody tr th {\n",
       "        vertical-align: top;\n",
       "    }\n",
       "\n",
       "    .dataframe thead th {\n",
       "        text-align: right;\n",
       "    }\n",
       "</style>\n",
       "<table border=\"1\" class=\"dataframe\">\n",
       "  <thead>\n",
       "    <tr style=\"text-align: right;\">\n",
       "      <th></th>\n",
       "      <th>feature_importances_</th>\n",
       "    </tr>\n",
       "  </thead>\n",
       "  <tbody>\n",
       "    <tr>\n",
       "      <th>strain</th>\n",
       "      <td>0.042175</td>\n",
       "    </tr>\n",
       "    <tr>\n",
       "      <th>orien</th>\n",
       "      <td>0.041410</td>\n",
       "    </tr>\n",
       "    <tr>\n",
       "      <th>roundness</th>\n",
       "      <td>0.138387</td>\n",
       "    </tr>\n",
       "    <tr>\n",
       "      <th>aspect</th>\n",
       "      <td>0.142557</td>\n",
       "    </tr>\n",
       "    <tr>\n",
       "      <th>size</th>\n",
       "      <td>0.244387</td>\n",
       "    </tr>\n",
       "    <tr>\n",
       "      <th>tilt</th>\n",
       "      <td>0.176595</td>\n",
       "    </tr>\n",
       "    <tr>\n",
       "      <th>nearest_grain</th>\n",
       "      <td>0.196029</td>\n",
       "    </tr>\n",
       "    <tr>\n",
       "      <th>ferrite_bainite</th>\n",
       "      <td>0.018460</td>\n",
       "    </tr>\n",
       "  </tbody>\n",
       "</table>\n",
       "</div>"
      ],
      "text/plain": [
       "                 feature_importances_\n",
       "strain                       0.042175\n",
       "orien                        0.041410\n",
       "roundness                    0.138387\n",
       "aspect                       0.142557\n",
       "size                         0.244387\n",
       "tilt                         0.176595\n",
       "nearest_grain                0.196029\n",
       "ferrite_bainite              0.018460"
      ]
     },
     "execution_count": 88,
     "metadata": {},
     "output_type": "execute_result"
    }
   ],
   "source": [
    "pd.DataFrame(feature_importances.mean(axis=0), index=list(all_data.columns[:-2]), \n",
    "             columns=['feature_importances_'])"
   ]
  },
  {
   "cell_type": "markdown",
   "metadata": {},
   "source": [
    "*体積減少値　自動認識　8つの特徴量　離散化なし*"
   ]
  },
  {
   "cell_type": "code",
   "execution_count": 115,
   "metadata": {
    "scrolled": true
   },
   "outputs": [
    {
     "data": {
      "text/html": [
       "<div>\n",
       "<style scoped>\n",
       "    .dataframe tbody tr th:only-of-type {\n",
       "        vertical-align: middle;\n",
       "    }\n",
       "\n",
       "    .dataframe tbody tr th {\n",
       "        vertical-align: top;\n",
       "    }\n",
       "\n",
       "    .dataframe thead th {\n",
       "        text-align: right;\n",
       "    }\n",
       "</style>\n",
       "<table border=\"1\" class=\"dataframe\">\n",
       "  <thead>\n",
       "    <tr style=\"text-align: right;\">\n",
       "      <th></th>\n",
       "      <th>feature_importances_</th>\n",
       "    </tr>\n",
       "  </thead>\n",
       "  <tbody>\n",
       "    <tr>\n",
       "      <th>strain</th>\n",
       "      <td>0.026548</td>\n",
       "    </tr>\n",
       "    <tr>\n",
       "      <th>orien</th>\n",
       "      <td>0.027599</td>\n",
       "    </tr>\n",
       "    <tr>\n",
       "      <th>roundness</th>\n",
       "      <td>0.077123</td>\n",
       "    </tr>\n",
       "    <tr>\n",
       "      <th>aspect</th>\n",
       "      <td>0.075436</td>\n",
       "    </tr>\n",
       "    <tr>\n",
       "      <th>size</th>\n",
       "      <td>0.619530</td>\n",
       "    </tr>\n",
       "    <tr>\n",
       "      <th>tilt</th>\n",
       "      <td>0.076425</td>\n",
       "    </tr>\n",
       "    <tr>\n",
       "      <th>nearest_grain</th>\n",
       "      <td>0.078113</td>\n",
       "    </tr>\n",
       "    <tr>\n",
       "      <th>ferrite_bainite</th>\n",
       "      <td>0.019227</td>\n",
       "    </tr>\n",
       "  </tbody>\n",
       "</table>\n",
       "</div>"
      ],
      "text/plain": [
       "                 feature_importances_\n",
       "strain                       0.026548\n",
       "orien                        0.027599\n",
       "roundness                    0.077123\n",
       "aspect                       0.075436\n",
       "size                         0.619530\n",
       "tilt                         0.076425\n",
       "nearest_grain                0.078113\n",
       "ferrite_bainite              0.019227"
      ]
     },
     "execution_count": 115,
     "metadata": {},
     "output_type": "execute_result"
    }
   ],
   "source": [
    "pd.DataFrame(feature_importances.mean(axis=0), index=list(all_data.columns[:-2]), \n",
    "             columns=['feature_importances_'])"
   ]
  },
  {
   "cell_type": "markdown",
   "metadata": {},
   "source": [
    "*体積減少値　自動認識　4つの特徴量　離散化なし*"
   ]
  },
  {
   "cell_type": "code",
   "execution_count": 184,
   "metadata": {},
   "outputs": [
    {
     "data": {
      "text/html": [
       "<div>\n",
       "<style scoped>\n",
       "    .dataframe tbody tr th:only-of-type {\n",
       "        vertical-align: middle;\n",
       "    }\n",
       "\n",
       "    .dataframe tbody tr th {\n",
       "        vertical-align: top;\n",
       "    }\n",
       "\n",
       "    .dataframe thead th {\n",
       "        text-align: right;\n",
       "    }\n",
       "</style>\n",
       "<table border=\"1\" class=\"dataframe\">\n",
       "  <thead>\n",
       "    <tr style=\"text-align: right;\">\n",
       "      <th></th>\n",
       "      <th>feature_importances_</th>\n",
       "    </tr>\n",
       "  </thead>\n",
       "  <tbody>\n",
       "    <tr>\n",
       "      <th>strain</th>\n",
       "      <td>0.055371</td>\n",
       "    </tr>\n",
       "    <tr>\n",
       "      <th>orien</th>\n",
       "      <td>0.047588</td>\n",
       "    </tr>\n",
       "    <tr>\n",
       "      <th>aspect</th>\n",
       "      <td>0.162069</td>\n",
       "    </tr>\n",
       "    <tr>\n",
       "      <th>size</th>\n",
       "      <td>0.703401</td>\n",
       "    </tr>\n",
       "    <tr>\n",
       "      <th>ferrite_bainite</th>\n",
       "      <td>0.031570</td>\n",
       "    </tr>\n",
       "  </tbody>\n",
       "</table>\n",
       "</div>"
      ],
      "text/plain": [
       "                 feature_importances_\n",
       "strain                       0.055371\n",
       "orien                        0.047588\n",
       "aspect                       0.162069\n",
       "size                         0.703401\n",
       "ferrite_bainite              0.031570"
      ]
     },
     "execution_count": 184,
     "metadata": {},
     "output_type": "execute_result"
    }
   ],
   "source": [
    "pd.DataFrame(feature_importances.mean(axis=0), index=['strain', 'orien', 'aspect', 'size', 'ferrite_bainite'], \n",
    "             columns=['feature_importances_'])"
   ]
  },
  {
   "cell_type": "code",
   "execution_count": 38,
   "metadata": {
    "scrolled": false
   },
   "outputs": [
    {
     "name": "stdout",
     "output_type": "stream",
     "text": [
      "(-4.560848382006038, -4.29673661302191, -2.404961571719675, 0.24345789596743134, 0.3935047782049987, 2.034725507243953, 2.4843561469367845, 4.031588014550612)\n"
     ]
    },
    {
     "data": {
      "image/png": "[encoded data removed]",
      "text/plain": [
       "<Figure size 432x288 with 1 Axes>"
      ]
     },
     "metadata": {
      "needs_background": "light"
     },
     "output_type": "display_data"
    }
   ],
   "source": [
    "from matplotlib import pyplot as plt\n",
    "from sklearn import svm\n",
    "\n",
    "def f_importances(coef, names):\n",
    "    imp = coef\n",
    "    imp,names = zip(*sorted(zip(imp,names)))\n",
    "    print(imp)\n",
    "    plt.barh(range(len(names)), imp, align='center')\n",
    "    plt.yticks(range(len(names)), names)\n",
    "    plt.show()\n",
    "\n",
    "features_names = list(all_data.columns[:-2])\n",
    "svm_lin = svm.LinearSVR()\n",
    "svm_lin.fit(xtrain, ytrain)\n",
    "f_importances(svm_lin.coef_, features_names)"
   ]
  },
  {
   "cell_type": "code",
   "execution_count": 60,
   "metadata": {
    "scrolled": true
   },
   "outputs": [
    {
     "name": "stdout",
     "output_type": "stream",
     "text": [
      "['strain', 'orien', 'roundness', 'aspect', 'size', 'tilt', 'nearest_grain', 'ferrite_bainite']\n",
      "[0.23, 0.16, 0.13, 0.13, 0.12, 0.1, 0.08, 0.05]\n"
     ]
    }
   ],
   "source": [
    "from sklearn.decomposition import PCA\n",
    "pca = PCA()\n",
    "train_pca = pca.fit_transform(pd.DataFrame(xtrain))\n",
    "print(list(all_data.columns[:-2]))\n",
    "print([round(i, 2) for i in pca.explained_variance_ratio_])"
   ]
  }
 ],
 "metadata": {
  "kernelspec": {
   "display_name": "Python 3",
   "language": "python",
   "name": "python3"
  },
  "language_info": {
   "codemirror_mode": {
    "name": "ipython",
    "version": 3
   },
   "file_extension": ".py",
   "mimetype": "text/x-python",
   "name": "python",
   "nbconvert_exporter": "python",
   "pygments_lexer": "ipython3",
   "version": "3.6.1"
  },
  "toc": {
   "base_numbering": 1,
   "nav_menu": {},
   "number_sections": true,
   "sideBar": true,
   "skip_h1_title": false,
   "title_cell": "Table of Contents",
   "title_sidebar": "Contents",
   "toc_cell": false,
   "toc_position": {},
   "toc_section_display": true,
   "toc_window_display": false
  }
 },
 "nbformat": 4,
 "nbformat_minor": 2
}
