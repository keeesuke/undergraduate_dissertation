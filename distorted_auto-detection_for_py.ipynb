{
 "cells": [
  {
   "cell_type": "code",
   "execution_count": 2,
   "metadata": {
    "scrolled": true
   },
   "outputs": [
    {
     "name": "stdout",
     "output_type": "stream",
     "text": [
      "Once deleted, variables cannot be recovered. Proceed (y/[n])? y\n"
     ]
    }
   ],
   "source": [
    "%reset"
   ]
  },
  {
   "cell_type": "code",
   "execution_count": 3,
   "metadata": {
    "scrolled": true
   },
   "outputs": [],
   "source": [
    "import warnings\n",
    "warnings.filterwarnings('ignore')\n",
    "from PIL import Image\n",
    "import numpy as np\n",
    "import pandas as pd\n",
    "import matplotlib.pyplot as plt\n",
    "import math\n",
    "from skimage.io import imread, imshow, imread_collection, concatenate_images\n",
    "import cv2\n",
    "from tqdm import tqdm\n",
    "import copy\n",
    "import logging\n",
    "import os\n",
    "from pathlib import Path\n",
    "import const\n",
    "from numba import double\n",
    "from numba.decorators import jit\n",
    "\n",
    "ROOT_DIR = Path().resolve()\n",
    "ROOT_DIR = ROOT_DIR / const.sample1\n",
    "HORIZONTAL_SPLIT = const.HORIZONTAL_SPLIT\n",
    "VERTICAL_SPLIT = const.VERTICAL_SPLIT\n",
    "margin = const.margin\n",
    "if ROOT_DIR == Path().resolve() / const.sample1:\n",
    "    SCALE = 15/339\n",
    "elif ROOT_DIR == Path().resolve() / const.sample2:\n",
    "    SCALE = 35/371\n",
    "    # 35/339\n",
    "else: # '3'\n",
    "    SCALE = 35/310\n",
    "    # 35/298\n",
    "\n",
    "size_min = const.size_min\n",
    "size_max = const.size_max\n",
    "size_min *= (1/SCALE)*(1/SCALE)\n",
    "size_max *= (1/SCALE)*(1/SCALE)\n",
    "\n",
    "if ROOT_DIR == Path().resolve() / const.sample1:\n",
    "    interval_y = 88\n",
    "    interval_x = 76\n",
    "elif ROOT_DIR == Path().resolve() / const.sample2:\n",
    "    interval_y = 70\n",
    "    interval_x = 87\n",
    "elif ROOT_DIR == Path().resolve() / const.sample3:\n",
    "    interval_y = 75\n",
    "    interval_x = 74\n",
    "\n",
    "def s(img, title=''):\n",
    "    \"\"\"\n",
    "    Show image with title.\n",
    "    :param img: input image\n",
    "    :param img: title should be shown(default is empty)\n",
    "    \"\"\"\n",
    "    plt.figure(figsize=(6,6))\n",
    "    plt.title(title + str(img.shape))\n",
    "    imshow(img)\n",
    "    plt.show()\n",
    "    \n",
    "def inputPicture(pic_name):\n",
    "    \"\"\"\n",
    "    Input image.\n",
    "    :param pic_name: load picture\n",
    "    \"\"\"\n",
    "    path = ROOT_DIR / pic_name\n",
    "    pic_color = cv2.imread(str(path), cv2.IMREAD_COLOR)\n",
    "    pic_color = cv2.cvtColor(pic_color, cv2.COLOR_BGR2RGB)\n",
    "    return pic_color\n",
    "\n",
    "def pin_drawing(pic):\n",
    "    \"\"\"\n",
    "    Make margin on cercumference, draw a pin on every intersection (HORIZONTAL)*(VERTICAL)\n",
    "    of grid in 0% strain\n",
    "    :param pic: image at which pins are drawn\n",
    "    :return: interval of x and y axis\n",
    "    \"\"\"\n",
    "    interval_y_= int((pic.shape[0] - 2*margin)/(HORIZONTAL_SPLIT - 1))\n",
    "    interval_x_ = int((pic.shape[1] - 2*margin)/(VERTICAL_SPLIT - 1))\n",
    "\n",
    "    for i in range(VERTICAL_SPLIT):\n",
    "        for j in range(HORIZONTAL_SPLIT):\n",
    "            cv2.rectangle(pic, (interval_x_*j + margin, interval_y_*i + margin), \n",
    "                          (interval_x_*j + margin, interval_y_*i + margin), (255,0,0), thickness=-1)\n",
    "#    last_margin = (interval_x_*j + margin, interval_y_*i + margin)\n",
    "#    pic = pic[margin:last_margin[1], margin:last_margin[0], :]\n",
    "    return pic, interval_x_, interval_y_\n",
    "\n",
    "def pins_output(pic):\n",
    "    \"\"\"\n",
    "    intake strain4% picture pinned beforehand and return the coordinate of each rectangles\n",
    "    :param pic: load picture\n",
    "    :return: rectangles coordinate\n",
    "    \"\"\"\n",
    "    # picからピンの座標を取り出してcoor_list_tempに格納\n",
    "    coor = (0,0)\n",
    "    coor_list_temp = []\n",
    "    for i_index, i in enumerate(pic):\n",
    "        for j_index, j in enumerate(i):\n",
    "            if list(j) == [255, 0, 0]:\n",
    "                coor = (j_index, i_index)\n",
    "                coor_list_temp.append(coor)\n",
    "    coor_list_temp.sort()\n",
    "    \n",
    "    # coor_list_tempをx, y軸どちらにもソートしてxに格納\n",
    "    tate = []\n",
    "    inc = HORIZONTAL_SPLIT\n",
    "    h_range=0\n",
    "    v_range=0\n",
    "    for j in range(VERTICAL_SPLIT):\n",
    "        coor_list_temp2 = coor_list_temp[h_range : h_range+HORIZONTAL_SPLIT]\n",
    "        coor_list_temp2.sort(key=lambda x: x[1])\n",
    "        tate.append(coor_list_temp2)\n",
    "        h_range += inc\n",
    "    x = []\n",
    "    for s in tate:\n",
    "        x.extend(s)\n",
    "    \n",
    "    # xを小さな長方形に分割してrec_listに格納\n",
    "    rec = []\n",
    "    rec_list = []\n",
    "    for i in range(VERTICAL_SPLIT-1):\n",
    "        for j in range(HORIZONTAL_SPLIT-1):\n",
    "            rec.append(x[j + i*HORIZONTAL_SPLIT])\n",
    "            rec.append(x[j + HORIZONTAL_SPLIT + i*HORIZONTAL_SPLIT])\n",
    "            rec.append(x[j + 1 + i*HORIZONTAL_SPLIT])\n",
    "            rec.append(x[j + 1 + HORIZONTAL_SPLIT + i*HORIZONTAL_SPLIT])\n",
    "            rec_list.append(rec)\n",
    "            rec = []\n",
    "    return rec_list\n",
    "\n",
    "def connnect_and_paste(pic, rec_list, interval_x_, interval_y_):\n",
    "    \"\"\"\n",
    "    intake rectangles coordinate and return whole picture that distortion is fixed\n",
    "    :param pic: load picture\n",
    "    :param rec_list: rectangles coordinate\n",
    "    :param interval_x_: interval of x axis\n",
    "    :param interval_x_: interval of y axis\n",
    "    :return: non-distorted picture\n",
    "    \"\"\"\n",
    "    whole_pic = np.zeros((interval_y_*(HORIZONTAL_SPLIT-1), interval_x_*(VERTICAL_SPLIT-1), 3), dtype='uint8')\n",
    "    n = 0\n",
    "    for i in range(VERTICAL_SPLIT-1):\n",
    "        for j in range(HORIZONTAL_SPLIT-1):\n",
    "            pts1 = np.float32([rec_list[n][0],rec_list[n][1],rec_list[n][2],rec_list[n][3]])\n",
    "            pts2 = np.float32([[0,0],[interval_x_,0],[0,interval_y_],[interval_x_,interval_y_]])\n",
    "\n",
    "            M = cv2.getPerspectiveTransform(pts1,pts2)\n",
    "            dst = cv2.warpPerspective(pic,M,(interval_x_,interval_y_))\n",
    "\n",
    "            whole_pic[interval_y_*j : interval_y_*(j+1), interval_x_*i : interval_x_*(i+1)] = dst\n",
    "            n += 1\n",
    "    return whole_pic\n",
    "\n",
    "def make_margin(pic):\n",
    "    \"\"\"\n",
    "    added 5pixel margin\n",
    "    :param pic: load picture\n",
    "    :return: pic that added 5pixel margin\n",
    "    \"\"\"\n",
    "    pic_mat = np.zeros([pic.shape[0] + 2*margin, pic.shape[1] + 2*margin] + [3], dtype=np.uint8) + 255\n",
    "    pic_mat[margin:-margin, margin:-margin, :] = pic\n",
    "    return pic_mat\n",
    "\n",
    "def mark_on_nonDistortedPic(cp_color_, cp_color_strain4_):\n",
    "    \"\"\"\n",
    "    intake cp_color(strain0%) and cp_color_strain4(non-distorted strain4%), return gray strain4%\n",
    "    :param cp_color: load strain0%\n",
    "    :param cp_color_strain4: load non-distorted strain4%\n",
    "    :return pd_strain4_gray: non-distorted strain4% in gray scale\n",
    "    :return contoures_large_: list of contoures that satisfy min and max size requirement\n",
    "    \"\"\"\n",
    "    #2値化\n",
    "#   cp_color_gray = cv2.cvtColor(cp_color_, cv2.COLOR_RGB2GRAY)\n",
    "#   cp_color_gray[cp_color_gray < 130] = 0\n",
    "    cp_color_gray = cp_color_[:,:,0].copy()\n",
    "    cp_color_strain4_gray = cv2.cvtColor(cp_color_strain4_, cv2.COLOR_RGB2GRAY)\n",
    "    cp_color_strain4_gray[cp_color_strain4_gray < 130] = 0\n",
    "    pd_strain4_gray = pd.DataFrame(cp_color_strain4_gray < 200)\n",
    "\n",
    "    #findContours\n",
    "    print('find contours from this pic:', cp_color_gray.shape)\n",
    "    temp, contours, hierarchy = cv2.findContours(cp_color_gray, cv2.RETR_LIST, cv2.CHAIN_APPROX_NONE)\n",
    "    print('will ditect the grain with')\n",
    "    print('more than {0:.2f} pixcel'.format(size_min))\n",
    "    print('less than {0:.2f} pixcel'.format(size_max))\n",
    "    contours_large_ = list(filter(lambda c: (cv2.contourArea(c) > size_min) & \n",
    "                                 (cv2.contourArea(c) < size_max), contours))\n",
    "    for i in range(0, len(contours_large_)):\n",
    "        rect = contours_large_[i]\n",
    "        cv2.drawContours(cp_color_, [rect], -1, (255, 0, 0), thickness=1)\n",
    "        cv2.drawContours(cp_color_strain4_, [rect], -1, (255, 0, 0), thickness=1)\n",
    "    return pd_strain4_gray, contours_large_\n",
    "\n",
    "@jit\n",
    "def vibration(contours_large_, cp_color_, cp_color_strain4_, pd_strain4_gray_, strain4_precise_):\n",
    "    \"\"\"\n",
    "    vibrate each grain in strain0% to exactly match strain4% grains to calculate strain4% size\n",
    "    :param contours_large_: load list of contours\n",
    "    :param cp_color_: load cp_color\n",
    "    :param cp_color_strain4_: load non-distorted strain4%\n",
    "    :param pd_strain4_gray_: load non-distorted strain4% in gray scale\n",
    "    :param strain4_precise_: load strain4% after vibration\n",
    "    :return size_strain4: list of strain4% sizes\n",
    "    :return strain4_precise_: picture after vibration, which is precisely recognize strain4% sizes\n",
    "    \"\"\"\n",
    "    size_strain4 = []\n",
    "    mat_write = np.zeros([cp_color_strain4_.shape[0], cp_color_strain4_.shape[1]] + [3], dtype=np.uint8)+255\n",
    "    for i in tqdm(range(len(contours_large_))):\n",
    "        rect = contours_large_[i]\n",
    "        #一つのshadow作成\n",
    "        new_mat = np.zeros([cp_color_strain4_.shape[0], cp_color_strain4_.shape[1]], dtype=np.uint8)+255\n",
    "        cv2.drawContours(new_mat, [rect], -1, 0, thickness=-1)\n",
    "        pd_new_mat = pd.DataFrame(new_mat == 0)\n",
    "        shadow = list(np.where(pd_new_mat.values == True))\n",
    "        #振動幅marginで振動させ、重なり最大値を出力\n",
    "        cnt = 0\n",
    "        max_cnt = 0\n",
    "        shadow_max = []\n",
    "        shadow[0] -= margin\n",
    "        shadow[1] -= margin\n",
    "        i_max = 0\n",
    "        j_max = 0\n",
    "        for i in range(2*margin):\n",
    "            for j in range(2*margin):\n",
    "                for k in range(len(shadow[0])):\n",
    "                    if pd_strain4_gray_.iloc[shadow[0][k], shadow[1][k]] == True:\n",
    "                        cnt += 1\n",
    "                if cnt > max_cnt:\n",
    "                    max_cnt = cnt\n",
    "                    i_max = i - margin\n",
    "                    j_max = j - margin\n",
    "                cnt = 0\n",
    "                shadow[1] += 1\n",
    "            shadow[1] -= 2*margin\n",
    "            shadow[0] += 1\n",
    "\n",
    "        rect[:, :, 0] += j_max #赤い輪郭が右に +j_max動く\n",
    "        rect[:, :, 1] += i_max #赤い輪郭が下に +i_max動く\n",
    "        cv2.drawContours(strain4_precise_, [rect], -1, (255, 0, 0), thickness=1)\n",
    "        cv2.drawContours(mat_write, [rect], -1, (0, 0, 255), thickness=-1)\n",
    "        #mat_write = cv2.cvtColor(mat_write, cv2.COLOR_RGB2BGR)\n",
    "        #cv2.imwrite('./others/' + 'mat_write.png', mat_write)\n",
    "        \n",
    "        size_strain4.append(max_cnt)\n",
    "    return size_strain4, mat_write"
   ]
  },
  {
   "cell_type": "code",
   "execution_count": 4,
   "metadata": {
    "scrolled": false
   },
   "outputs": [
    {
     "data": {
      "text/plain": [
       "True"
      ]
     },
     "execution_count": 4,
     "metadata": {},
     "output_type": "execute_result"
    }
   ],
   "source": [
    "''' Main script '''\n",
    "cp_color = inputPicture('for_pin/im_trim.png')\n",
    "cp_color, interval_x_temp, interval_y_temp = pin_drawing(cp_color)\n",
    "\n",
    "#output grid picture\n",
    "#cv2.imwrite(str(ROOT_DIR / 'input_all' / 'strain0%_pin.png'), cv2.cvtColor(cp_color, cv2.COLOR_RGB2BGR))\n",
    "cv2.imwrite(str(ROOT_DIR / 'for_pin' / 'im_trim_pin.png'), cv2.cvtColor(cp_color, cv2.COLOR_RGB2BGR))"
   ]
  },
  {
   "cell_type": "markdown",
   "metadata": {},
   "source": [
    "*trim cp_color*"
   ]
  },
  {
   "cell_type": "code",
   "execution_count": 5,
   "metadata": {
    "scrolled": true
   },
   "outputs": [
    {
     "name": "stdout",
     "output_type": "stream",
     "text": [
      "interval_y:  88\n",
      "interval_x:  76\n",
      "(968, 836, 3)\n"
     ]
    }
   ],
   "source": [
    "print('interval_y: ', interval_y)\n",
    "print('interval_x: ', interval_x)\n",
    "cp_color = cp_color[margin:margin+interval_y*(HORIZONTAL_SPLIT-1), \n",
    "                                             margin:margin+interval_x*(VERTICAL_SPLIT-1), :]\n",
    "print(cp_color.shape)"
   ]
  },
  {
   "cell_type": "markdown",
   "metadata": {},
   "source": [
    "*-----------mark red pin on strain4_trimmed_pin.png-----------*"
   ]
  },
  {
   "cell_type": "code",
   "execution_count": 6,
   "metadata": {
    "scrolled": true
   },
   "outputs": [],
   "source": [
    "#input normal strain4%.png and strain4%_pin.png that pins are drawn beforehand\n",
    "strained_pin = inputPicture('for_pin/strain4_trim_pin.png')"
   ]
  },
  {
   "cell_type": "raw",
   "metadata": {},
   "source": [
    "# count red pin drawn\n",
    "print(strained_pin.shape)\n",
    "cnt = 0\n",
    "for i in range(strained_pin.shape[0]):\n",
    "    for j in range(strained_pin.shape[1]):\n",
    "        if list(strained_pin[i,j,:]) == [255,0,0]:\n",
    "            cnt += 1\n",
    "print(cnt)"
   ]
  },
  {
   "cell_type": "code",
   "execution_count": 7,
   "metadata": {
    "scrolled": true
   },
   "outputs": [],
   "source": [
    "#make non-distorted picture, and put margin on cp_color and new_strained_pin\n",
    "rectangles = pins_output(strained_pin)\n",
    "cp_color_strain4 = connnect_and_paste(strained_pin, rectangles, interval_x, interval_y)\n",
    "\n",
    "cp_color = make_margin(cp_color)\n",
    "cp_color_strain4 = make_margin(cp_color_strain4)"
   ]
  },
  {
   "cell_type": "code",
   "execution_count": 8,
   "metadata": {},
   "outputs": [
    {
     "name": "stdout",
     "output_type": "stream",
     "text": [
      "(978, 846, 3)\n",
      "(978, 846, 3)\n"
     ]
    }
   ],
   "source": [
    "print(cp_color.shape)\n",
    "print(cp_color_strain4.shape)"
   ]
  },
  {
   "cell_type": "markdown",
   "metadata": {},
   "source": [
    "**for comparison*"
   ]
  },
  {
   "cell_type": "code",
   "execution_count": 9,
   "metadata": {},
   "outputs": [
    {
     "data": {
      "text/plain": [
       "True"
      ]
     },
     "execution_count": 9,
     "metadata": {},
     "output_type": "execute_result"
    }
   ],
   "source": [
    "strain4_colored_comparison = cp_color_strain4.copy()\n",
    "for i in range(strain4_colored_comparison.shape[0]):\n",
    "    for j in range(strain4_colored_comparison.shape[1]):\n",
    "        if (strain4_colored_comparison[i, j, 0]) < 255:\n",
    "            strain4_colored_comparison[i,j,:] = [255,0,0]\n",
    "strain4_colored_comparison = cv2.cvtColor(strain4_colored_comparison, cv2.COLOR_RGB2BGR)\n",
    "cv2.imwrite(str(ROOT_DIR / 'other' / 'strain4_colored_comparison.png'), strain4_colored_comparison)\n",
    "\n",
    "cv2.imwrite(str(ROOT_DIR / 'other' / 'cp_color_comparison.png'), cp_color)"
   ]
  },
  {
   "cell_type": "markdown",
   "metadata": {},
   "source": [
    "*distortion correction start*"
   ]
  },
  {
   "cell_type": "code",
   "execution_count": 10,
   "metadata": {
    "scrolled": true
   },
   "outputs": [
    {
     "name": "stdout",
     "output_type": "stream",
     "text": [
      "find contours from this pic: (978, 846)\n",
      "will ditect the grain with\n",
      "more than 153.23 pixcel\n",
      "less than 56183.60 pixcel\n"
     ]
    },
    {
     "name": "stderr",
     "output_type": "stream",
     "text": [
      "100%|██████████| 239/239 [04:19<00:00,  1.09s/it]\n"
     ]
    }
   ],
   "source": [
    "#make copy for vibration\n",
    "strain4_precise = copy.deepcopy(cp_color_strain4)\n",
    "\n",
    "#draw shadow and vibration, and collect strain4% sizes\n",
    "pd_strain4_gray, contours_large = mark_on_nonDistortedPic(cp_color, cp_color_strain4)\n",
    "size_strain4, mat_write = vibration(contours_large, cp_color, cp_color_strain4, pd_strain4_gray, strain4_precise)"
   ]
  },
  {
   "cell_type": "raw",
   "metadata": {},
   "source": [
    "#1st-sample\n",
    "(978, 846)\n",
    "more than 153.23 pixcel\n",
    "#2nd-sample\n",
    "(780, 967)\n",
    "more than 33.71 pixcel\n",
    "#3rd-sample\n",
    "(835, 824)\n",
    "more than 23.53 pixcel"
   ]
  },
  {
   "cell_type": "code",
   "execution_count": 11,
   "metadata": {
    "scrolled": true
   },
   "outputs": [
    {
     "data": {
      "image/png": "[encoded data removed]",
      "text/plain": [
       "<Figure size 936x936 with 4 Axes>"
      ]
     },
     "metadata": {
      "needs_background": "light"
     },
     "output_type": "display_data"
    }
   ],
   "source": [
    "show_x = (200, 400); show_y = (400, 600)\n",
    "plt.figure(figsize=(13,13))\n",
    "plt.subplot(141),plt.imshow(cp_color[show_x[0]:show_x[1], show_y[0]:show_y[1]]),plt.title('strain0%: ' + str(cp_color.shape))\n",
    "plt.subplot(142),plt.imshow(cp_color_strain4[show_x[0]:show_x[1], show_y[0]:show_y[1]]),plt.title('distortion fix: ' + str(cp_color_strain4.shape))\n",
    "plt.subplot(143),plt.imshow(strain4_precise[show_x[0]:show_x[1], show_y[0]:show_y[1]]),plt.title('vibration done: ' + str(strain4_precise.shape))\n",
    "plt.subplot(144),plt.imshow(mat_write[show_x[0]:show_x[1], show_y[0]:show_y[1]]),plt.title('mat_write: ' + str(mat_write.shape))\n",
    "plt.show()"
   ]
  },
  {
   "cell_type": "code",
   "execution_count": 12,
   "metadata": {
    "scrolled": true
   },
   "outputs": [
    {
     "data": {
      "text/html": [
       "<div>\n",
       "<style scoped>\n",
       "    .dataframe tbody tr th:only-of-type {\n",
       "        vertical-align: middle;\n",
       "    }\n",
       "\n",
       "    .dataframe tbody tr th {\n",
       "        vertical-align: top;\n",
       "    }\n",
       "\n",
       "    .dataframe thead th {\n",
       "        text-align: right;\n",
       "    }\n",
       "</style>\n",
       "<table border=\"1\" class=\"dataframe\">\n",
       "  <thead>\n",
       "    <tr style=\"text-align: right;\">\n",
       "      <th></th>\n",
       "      <th>size4</th>\n",
       "    </tr>\n",
       "  </thead>\n",
       "  <tbody>\n",
       "    <tr>\n",
       "      <th>0</th>\n",
       "      <td>215</td>\n",
       "    </tr>\n",
       "    <tr>\n",
       "      <th>1</th>\n",
       "      <td>552</td>\n",
       "    </tr>\n",
       "    <tr>\n",
       "      <th>2</th>\n",
       "      <td>407</td>\n",
       "    </tr>\n",
       "    <tr>\n",
       "      <th>3</th>\n",
       "      <td>255</td>\n",
       "    </tr>\n",
       "    <tr>\n",
       "      <th>4</th>\n",
       "      <td>222</td>\n",
       "    </tr>\n",
       "    <tr>\n",
       "      <th>5</th>\n",
       "      <td>194</td>\n",
       "    </tr>\n",
       "    <tr>\n",
       "      <th>6</th>\n",
       "      <td>361</td>\n",
       "    </tr>\n",
       "    <tr>\n",
       "      <th>7</th>\n",
       "      <td>196</td>\n",
       "    </tr>\n",
       "    <tr>\n",
       "      <th>8</th>\n",
       "      <td>385</td>\n",
       "    </tr>\n",
       "    <tr>\n",
       "      <th>9</th>\n",
       "      <td>730</td>\n",
       "    </tr>\n",
       "    <tr>\n",
       "      <th>10</th>\n",
       "      <td>95</td>\n",
       "    </tr>\n",
       "    <tr>\n",
       "      <th>11</th>\n",
       "      <td>645</td>\n",
       "    </tr>\n",
       "    <tr>\n",
       "      <th>12</th>\n",
       "      <td>53</td>\n",
       "    </tr>\n",
       "    <tr>\n",
       "      <th>13</th>\n",
       "      <td>483</td>\n",
       "    </tr>\n",
       "    <tr>\n",
       "      <th>14</th>\n",
       "      <td>218</td>\n",
       "    </tr>\n",
       "    <tr>\n",
       "      <th>15</th>\n",
       "      <td>218</td>\n",
       "    </tr>\n",
       "    <tr>\n",
       "      <th>16</th>\n",
       "      <td>163</td>\n",
       "    </tr>\n",
       "    <tr>\n",
       "      <th>17</th>\n",
       "      <td>135</td>\n",
       "    </tr>\n",
       "    <tr>\n",
       "      <th>18</th>\n",
       "      <td>152</td>\n",
       "    </tr>\n",
       "    <tr>\n",
       "      <th>19</th>\n",
       "      <td>555</td>\n",
       "    </tr>\n",
       "    <tr>\n",
       "      <th>20</th>\n",
       "      <td>273</td>\n",
       "    </tr>\n",
       "    <tr>\n",
       "      <th>21</th>\n",
       "      <td>218</td>\n",
       "    </tr>\n",
       "    <tr>\n",
       "      <th>22</th>\n",
       "      <td>157</td>\n",
       "    </tr>\n",
       "    <tr>\n",
       "      <th>23</th>\n",
       "      <td>392</td>\n",
       "    </tr>\n",
       "    <tr>\n",
       "      <th>24</th>\n",
       "      <td>389</td>\n",
       "    </tr>\n",
       "    <tr>\n",
       "      <th>25</th>\n",
       "      <td>1887</td>\n",
       "    </tr>\n",
       "    <tr>\n",
       "      <th>26</th>\n",
       "      <td>307</td>\n",
       "    </tr>\n",
       "    <tr>\n",
       "      <th>27</th>\n",
       "      <td>356</td>\n",
       "    </tr>\n",
       "    <tr>\n",
       "      <th>28</th>\n",
       "      <td>435</td>\n",
       "    </tr>\n",
       "    <tr>\n",
       "      <th>29</th>\n",
       "      <td>127</td>\n",
       "    </tr>\n",
       "    <tr>\n",
       "      <th>...</th>\n",
       "      <td>...</td>\n",
       "    </tr>\n",
       "    <tr>\n",
       "      <th>209</th>\n",
       "      <td>1269</td>\n",
       "    </tr>\n",
       "    <tr>\n",
       "      <th>210</th>\n",
       "      <td>343</td>\n",
       "    </tr>\n",
       "    <tr>\n",
       "      <th>211</th>\n",
       "      <td>1413</td>\n",
       "    </tr>\n",
       "    <tr>\n",
       "      <th>212</th>\n",
       "      <td>138</td>\n",
       "    </tr>\n",
       "    <tr>\n",
       "      <th>213</th>\n",
       "      <td>21</td>\n",
       "    </tr>\n",
       "    <tr>\n",
       "      <th>214</th>\n",
       "      <td>230</td>\n",
       "    </tr>\n",
       "    <tr>\n",
       "      <th>215</th>\n",
       "      <td>65</td>\n",
       "    </tr>\n",
       "    <tr>\n",
       "      <th>216</th>\n",
       "      <td>929</td>\n",
       "    </tr>\n",
       "    <tr>\n",
       "      <th>217</th>\n",
       "      <td>168</td>\n",
       "    </tr>\n",
       "    <tr>\n",
       "      <th>218</th>\n",
       "      <td>336</td>\n",
       "    </tr>\n",
       "    <tr>\n",
       "      <th>219</th>\n",
       "      <td>401</td>\n",
       "    </tr>\n",
       "    <tr>\n",
       "      <th>220</th>\n",
       "      <td>648</td>\n",
       "    </tr>\n",
       "    <tr>\n",
       "      <th>221</th>\n",
       "      <td>261</td>\n",
       "    </tr>\n",
       "    <tr>\n",
       "      <th>222</th>\n",
       "      <td>85</td>\n",
       "    </tr>\n",
       "    <tr>\n",
       "      <th>223</th>\n",
       "      <td>37</td>\n",
       "    </tr>\n",
       "    <tr>\n",
       "      <th>224</th>\n",
       "      <td>317</td>\n",
       "    </tr>\n",
       "    <tr>\n",
       "      <th>225</th>\n",
       "      <td>274</td>\n",
       "    </tr>\n",
       "    <tr>\n",
       "      <th>226</th>\n",
       "      <td>95</td>\n",
       "    </tr>\n",
       "    <tr>\n",
       "      <th>227</th>\n",
       "      <td>547</td>\n",
       "    </tr>\n",
       "    <tr>\n",
       "      <th>228</th>\n",
       "      <td>396</td>\n",
       "    </tr>\n",
       "    <tr>\n",
       "      <th>229</th>\n",
       "      <td>204</td>\n",
       "    </tr>\n",
       "    <tr>\n",
       "      <th>230</th>\n",
       "      <td>160</td>\n",
       "    </tr>\n",
       "    <tr>\n",
       "      <th>231</th>\n",
       "      <td>140</td>\n",
       "    </tr>\n",
       "    <tr>\n",
       "      <th>232</th>\n",
       "      <td>42</td>\n",
       "    </tr>\n",
       "    <tr>\n",
       "      <th>233</th>\n",
       "      <td>368</td>\n",
       "    </tr>\n",
       "    <tr>\n",
       "      <th>234</th>\n",
       "      <td>214</td>\n",
       "    </tr>\n",
       "    <tr>\n",
       "      <th>235</th>\n",
       "      <td>167</td>\n",
       "    </tr>\n",
       "    <tr>\n",
       "      <th>236</th>\n",
       "      <td>300</td>\n",
       "    </tr>\n",
       "    <tr>\n",
       "      <th>237</th>\n",
       "      <td>238</td>\n",
       "    </tr>\n",
       "    <tr>\n",
       "      <th>238</th>\n",
       "      <td>276</td>\n",
       "    </tr>\n",
       "  </tbody>\n",
       "</table>\n",
       "<p>239 rows × 1 columns</p>\n",
       "</div>"
      ],
      "text/plain": [
       "     size4\n",
       "0      215\n",
       "1      552\n",
       "2      407\n",
       "3      255\n",
       "4      222\n",
       "5      194\n",
       "6      361\n",
       "7      196\n",
       "8      385\n",
       "9      730\n",
       "10      95\n",
       "11     645\n",
       "12      53\n",
       "13     483\n",
       "14     218\n",
       "15     218\n",
       "16     163\n",
       "17     135\n",
       "18     152\n",
       "19     555\n",
       "20     273\n",
       "21     218\n",
       "22     157\n",
       "23     392\n",
       "24     389\n",
       "25    1887\n",
       "26     307\n",
       "27     356\n",
       "28     435\n",
       "29     127\n",
       "..     ...\n",
       "209   1269\n",
       "210    343\n",
       "211   1413\n",
       "212    138\n",
       "213     21\n",
       "214    230\n",
       "215     65\n",
       "216    929\n",
       "217    168\n",
       "218    336\n",
       "219    401\n",
       "220    648\n",
       "221    261\n",
       "222     85\n",
       "223     37\n",
       "224    317\n",
       "225    274\n",
       "226     95\n",
       "227    547\n",
       "228    396\n",
       "229    204\n",
       "230    160\n",
       "231    140\n",
       "232     42\n",
       "233    368\n",
       "234    214\n",
       "235    167\n",
       "236    300\n",
       "237    238\n",
       "238    276\n",
       "\n",
       "[239 rows x 1 columns]"
      ]
     },
     "execution_count": 12,
     "metadata": {},
     "output_type": "execute_result"
    }
   ],
   "source": [
    "pd_size_strain4 = pd.DataFrame(size_strain4, columns=['size4'])\n",
    "pd_size_strain4"
   ]
  },
  {
   "cell_type": "code",
   "execution_count": 13,
   "metadata": {
    "scrolled": true
   },
   "outputs": [],
   "source": [
    "pd_size_strain4 = pd_size_strain4*SCALE*SCALE\n",
    "pd_size_strain4.to_csv(str(ROOT_DIR / 'output' / 'csv_files' / 'df_strain4_size.csv'), index=False)"
   ]
  },
  {
   "cell_type": "markdown",
   "metadata": {},
   "source": [
    "**for comparison*"
   ]
  },
  {
   "cell_type": "code",
   "execution_count": 12,
   "metadata": {
    "scrolled": true
   },
   "outputs": [
    {
     "data": {
      "text/plain": [
       "True"
      ]
     },
     "execution_count": 12,
     "metadata": {},
     "output_type": "execute_result"
    }
   ],
   "source": [
    "cv2.imwrite(str(ROOT_DIR / 'other' / 'mat_write_comparison.png'), mat_write)"
   ]
  },
  {
   "cell_type": "code",
   "execution_count": 13,
   "metadata": {},
   "outputs": [
    {
     "data": {
      "text/plain": [
       "True"
      ]
     },
     "execution_count": 13,
     "metadata": {},
     "output_type": "execute_result"
    }
   ],
   "source": [
    "# for comparison of contour\n",
    "cv2.imwrite(str(ROOT_DIR / 'other' / 'strain4_precise.png'), cv2.cvtColor(strain4_precise, cv2.COLOR_RGB2BGR))"
   ]
  },
  {
   "cell_type": "code",
   "execution_count": null,
   "metadata": {},
   "outputs": [],
   "source": []
  }
 ],
 "metadata": {
  "kernelspec": {
   "display_name": "Python 3",
   "language": "python",
   "name": "python3"
  },
  "language_info": {
   "codemirror_mode": {
    "name": "ipython",
    "version": 3
   },
   "file_extension": ".py",
   "mimetype": "text/x-python",
   "name": "python",
   "nbconvert_exporter": "python",
   "pygments_lexer": "ipython3",
   "version": "3.6.1"
  },
  "toc": {
   "base_numbering": 1,
   "nav_menu": {},
   "number_sections": true,
   "sideBar": true,
   "skip_h1_title": false,
   "title_cell": "Table of Contents",
   "title_sidebar": "Contents",
   "toc_cell": false,
   "toc_position": {},
   "toc_section_display": true,
   "toc_window_display": false
  }
 },
 "nbformat": 4,
 "nbformat_minor": 2
}
